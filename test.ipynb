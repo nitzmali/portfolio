{
 "cells": [
  {
   "cell_type": "code",
   "execution_count": 18,
   "metadata": {},
   "outputs": [],
   "source": [
    "from PIL import Image\n",
    "\n",
    "def resize_image(input_path, output_path, size):\n",
    "    with Image.open(input_path) as img:\n",
    "        # Resize the image\n",
    "        img = img.resize(size)\n",
    "        \n",
    "        # Save the resized image as a JPEG file\n",
    "        img.save(output_path, \"png\")\n",
    "\n",
    "input_image_path = '/Users/nyzy/nitzmali/portfolio/assets/images/BMI_OUTPUT_3.png'\n",
    "output_image_path = '/Users/nyzy/nitzmali/portfolio/assets/images_resized/BMI_OUTPUT_3.png'\n",
    "new_size = (600, 600)  # Example size: 800x600 pixels\n",
    "\n",
    "resize_image(input_image_path, output_image_path, new_size)\n"
   ]
  },
  {
   "cell_type": "code",
   "execution_count": 19,
   "metadata": {},
   "outputs": [
    {
     "name": "stdout",
     "output_type": "stream",
     "text": [
      "All images have been resized and saved to /Users/nyzy/nitzmali/portfolio/assets/images_resized\n"
     ]
    }
   ],
   "source": [
    "from PIL import Image\n",
    "import os\n",
    "\n",
    "# Directory where your current images are located\n",
    "source_directory = '/Users/nyzy/nitzmali/portfolio/assets/images'\n",
    "\n",
    "# Directory where the resized images will be saved\n",
    "output_directory = '/Users/nyzy/nitzmali/portfolio/assets/images_resized'\n",
    "\n",
    "# Desired size\n",
    "new_width = 892\n",
    "new_height = 1616\n",
    "\n",
    "def resize_image(input_image_path, output_image_path, size):\n",
    "    with Image.open(input_image_path) as image:\n",
    "        # Resize the image while maintaining the aspect ratio\n",
    "        image.thumbnail(size)\n",
    "        \n",
    "        # Save the resized image\n",
    "        image.save(output_image_path)\n",
    "\n",
    "# Ensure the output directory exists\n",
    "if not os.path.exists(output_directory):\n",
    "    os.makedirs(output_directory)\n",
    "\n",
    "# Loop through all files in the source directory\n",
    "for filename in os.listdir(source_directory):\n",
    "    if filename.endswith(('.png', '.jpg', '.jpeg', '.gif')):\n",
    "        # Construct the full file paths\n",
    "        input_image_path = os.path.join(source_directory, filename)\n",
    "        output_image_path = os.path.join(output_directory, filename)\n",
    "        \n",
    "        # Resize the image and save it to the output directory\n",
    "        resize_image(input_image_path, output_image_path, (new_width, new_height))\n",
    "\n",
    "print(f\"All images have been resized and saved to {output_directory}\")\n"
   ]
  },
  {
   "cell_type": "code",
   "execution_count": 20,
   "metadata": {},
   "outputs": [
    {
     "name": "stdout",
     "output_type": "stream",
     "text": [
      "The size of django-girls-blog-screenshot.png is: 892x729 pixels\n",
      "The size of webmd-190918.jpg is: 892x502 pixels\n",
      "The size of nitin_image_exchange_place.gif is: 600x600 pixels\n",
      "The size of component-logo.png is: 892x492 pixels\n",
      "The size of rutgers_univ_logo_2.jpg is: 892x669 pixels\n",
      "The size of kin.png is: 280x156 pixels\n",
      "The size of rutgers_univ_1.png is: 860x262 pixels\n",
      "The size of color_to_gray.png is: 650x816 pixels\n",
      "The size of BMI_output_2png.png is: 476x352 pixels\n",
      "The size of bms2.jpg is: 892x502 pixels\n",
      "The size of data_engineering_prowess.png is: 892x462 pixels\n",
      "The size of BMI_OUTPUT_3.png is: 476x352 pixels\n",
      "The size of nss-logotest.jpg is: 224x225 pixels\n",
      "The size of giphy.gif is: 480x368 pixels\n",
      "The size of profile_picture.jpg is: 892x892 pixels\n",
      "The size of Rutgers_logo_2.jpg is: 892x605 pixels\n",
      "The size of LPYH.gif is: 500x500 pixels\n",
      "The size of ramaiah_college_v2.png is: 480x368 pixels\n",
      "The size of ramaiah_college.png is: 225x225 pixels\n",
      "The size of imageedit_11_4048091553.gif is: 316x602 pixels\n",
      "The size of Rutgers_blog.png is: 892x279 pixels\n",
      "The size of nitin_picture.jpg is: 892x892 pixels\n",
      "The size of bmi_output.png is: 392x278 pixels\n",
      "The size of profile_picture_v2.jpg is: 480x368 pixels\n",
      "The size of profile_picture-PhotoRoom.png is: 892x773 pixels\n",
      "The size of temenos.jpg is: 640x480 pixels\n",
      "The size of ADL_DE_P.png is: 892x447 pixels\n",
      "The size of gomad.png is: 512x512 pixels\n",
      "The size of smart_dustbin.png is: 718x566 pixels\n",
      "The size of ncc.png is: 800x1200 pixels\n",
      "The size of ncc.jpg is: 500x734 pixels\n"
     ]
    }
   ],
   "source": [
    "import os\n",
    "from PIL import Image\n",
    "\n",
    "# Replace 'path_to_images_directory' with the path to your directory containing images\n",
    "path_to_images_directory = '/Users/nyzy/nitzmali/portfolio/assets/images_resized'\n",
    "\n",
    "# Loop through all files in the directory\n",
    "for image_file in os.listdir(path_to_images_directory):\n",
    "    # Construct the full path to the image file\n",
    "    image_path = os.path.join(path_to_images_directory, image_file)\n",
    "    # Open and get the size of each image\n",
    "    with Image.open(image_path) as img:\n",
    "        width, height = img.size\n",
    "        print(f\"The size of {image_file} is: {width}x{height} pixels\")\n"
   ]
  },
  {
   "cell_type": "code",
   "execution_count": 21,
   "metadata": {},
   "outputs": [
    {
     "data": {
      "application/vnd.plotly.v1+json": {
       "config": {
        "plotlyServerURL": "https://plot.ly"
       },
       "data": [
        {
         "link": {
          "source": [
           0,
           0,
           2,
           1,
           1,
           2
          ],
          "target": [
           3,
           4,
           5,
           3,
           4,
           5
          ],
          "value": [
           8,
           4,
           6,
           5,
           3,
           7
          ]
         },
         "node": {
          "label": [
           "Data Analysis at Temenos",
           "A/B Testing at Temenos",
           "ETL Development at XSUNT",
           "Machine Learning",
           "Data Mining",
           "Python Programming"
          ],
          "line": {
           "color": "black",
           "width": 0.5
          },
          "pad": 15,
          "thickness": 20
         },
         "type": "sankey"
        }
       ],
       "layout": {
        "font": {
         "size": 10
        },
        "template": {
         "data": {
          "bar": [
           {
            "error_x": {
             "color": "#2a3f5f"
            },
            "error_y": {
             "color": "#2a3f5f"
            },
            "marker": {
             "line": {
              "color": "#E5ECF6",
              "width": 0.5
             },
             "pattern": {
              "fillmode": "overlay",
              "size": 10,
              "solidity": 0.2
             }
            },
            "type": "bar"
           }
          ],
          "barpolar": [
           {
            "marker": {
             "line": {
              "color": "#E5ECF6",
              "width": 0.5
             },
             "pattern": {
              "fillmode": "overlay",
              "size": 10,
              "solidity": 0.2
             }
            },
            "type": "barpolar"
           }
          ],
          "carpet": [
           {
            "aaxis": {
             "endlinecolor": "#2a3f5f",
             "gridcolor": "white",
             "linecolor": "white",
             "minorgridcolor": "white",
             "startlinecolor": "#2a3f5f"
            },
            "baxis": {
             "endlinecolor": "#2a3f5f",
             "gridcolor": "white",
             "linecolor": "white",
             "minorgridcolor": "white",
             "startlinecolor": "#2a3f5f"
            },
            "type": "carpet"
           }
          ],
          "choropleth": [
           {
            "colorbar": {
             "outlinewidth": 0,
             "ticks": ""
            },
            "type": "choropleth"
           }
          ],
          "contour": [
           {
            "colorbar": {
             "outlinewidth": 0,
             "ticks": ""
            },
            "colorscale": [
             [
              0,
              "#0d0887"
             ],
             [
              0.1111111111111111,
              "#46039f"
             ],
             [
              0.2222222222222222,
              "#7201a8"
             ],
             [
              0.3333333333333333,
              "#9c179e"
             ],
             [
              0.4444444444444444,
              "#bd3786"
             ],
             [
              0.5555555555555556,
              "#d8576b"
             ],
             [
              0.6666666666666666,
              "#ed7953"
             ],
             [
              0.7777777777777778,
              "#fb9f3a"
             ],
             [
              0.8888888888888888,
              "#fdca26"
             ],
             [
              1,
              "#f0f921"
             ]
            ],
            "type": "contour"
           }
          ],
          "contourcarpet": [
           {
            "colorbar": {
             "outlinewidth": 0,
             "ticks": ""
            },
            "type": "contourcarpet"
           }
          ],
          "heatmap": [
           {
            "colorbar": {
             "outlinewidth": 0,
             "ticks": ""
            },
            "colorscale": [
             [
              0,
              "#0d0887"
             ],
             [
              0.1111111111111111,
              "#46039f"
             ],
             [
              0.2222222222222222,
              "#7201a8"
             ],
             [
              0.3333333333333333,
              "#9c179e"
             ],
             [
              0.4444444444444444,
              "#bd3786"
             ],
             [
              0.5555555555555556,
              "#d8576b"
             ],
             [
              0.6666666666666666,
              "#ed7953"
             ],
             [
              0.7777777777777778,
              "#fb9f3a"
             ],
             [
              0.8888888888888888,
              "#fdca26"
             ],
             [
              1,
              "#f0f921"
             ]
            ],
            "type": "heatmap"
           }
          ],
          "heatmapgl": [
           {
            "colorbar": {
             "outlinewidth": 0,
             "ticks": ""
            },
            "colorscale": [
             [
              0,
              "#0d0887"
             ],
             [
              0.1111111111111111,
              "#46039f"
             ],
             [
              0.2222222222222222,
              "#7201a8"
             ],
             [
              0.3333333333333333,
              "#9c179e"
             ],
             [
              0.4444444444444444,
              "#bd3786"
             ],
             [
              0.5555555555555556,
              "#d8576b"
             ],
             [
              0.6666666666666666,
              "#ed7953"
             ],
             [
              0.7777777777777778,
              "#fb9f3a"
             ],
             [
              0.8888888888888888,
              "#fdca26"
             ],
             [
              1,
              "#f0f921"
             ]
            ],
            "type": "heatmapgl"
           }
          ],
          "histogram": [
           {
            "marker": {
             "pattern": {
              "fillmode": "overlay",
              "size": 10,
              "solidity": 0.2
             }
            },
            "type": "histogram"
           }
          ],
          "histogram2d": [
           {
            "colorbar": {
             "outlinewidth": 0,
             "ticks": ""
            },
            "colorscale": [
             [
              0,
              "#0d0887"
             ],
             [
              0.1111111111111111,
              "#46039f"
             ],
             [
              0.2222222222222222,
              "#7201a8"
             ],
             [
              0.3333333333333333,
              "#9c179e"
             ],
             [
              0.4444444444444444,
              "#bd3786"
             ],
             [
              0.5555555555555556,
              "#d8576b"
             ],
             [
              0.6666666666666666,
              "#ed7953"
             ],
             [
              0.7777777777777778,
              "#fb9f3a"
             ],
             [
              0.8888888888888888,
              "#fdca26"
             ],
             [
              1,
              "#f0f921"
             ]
            ],
            "type": "histogram2d"
           }
          ],
          "histogram2dcontour": [
           {
            "colorbar": {
             "outlinewidth": 0,
             "ticks": ""
            },
            "colorscale": [
             [
              0,
              "#0d0887"
             ],
             [
              0.1111111111111111,
              "#46039f"
             ],
             [
              0.2222222222222222,
              "#7201a8"
             ],
             [
              0.3333333333333333,
              "#9c179e"
             ],
             [
              0.4444444444444444,
              "#bd3786"
             ],
             [
              0.5555555555555556,
              "#d8576b"
             ],
             [
              0.6666666666666666,
              "#ed7953"
             ],
             [
              0.7777777777777778,
              "#fb9f3a"
             ],
             [
              0.8888888888888888,
              "#fdca26"
             ],
             [
              1,
              "#f0f921"
             ]
            ],
            "type": "histogram2dcontour"
           }
          ],
          "mesh3d": [
           {
            "colorbar": {
             "outlinewidth": 0,
             "ticks": ""
            },
            "type": "mesh3d"
           }
          ],
          "parcoords": [
           {
            "line": {
             "colorbar": {
              "outlinewidth": 0,
              "ticks": ""
             }
            },
            "type": "parcoords"
           }
          ],
          "pie": [
           {
            "automargin": true,
            "type": "pie"
           }
          ],
          "scatter": [
           {
            "fillpattern": {
             "fillmode": "overlay",
             "size": 10,
             "solidity": 0.2
            },
            "type": "scatter"
           }
          ],
          "scatter3d": [
           {
            "line": {
             "colorbar": {
              "outlinewidth": 0,
              "ticks": ""
             }
            },
            "marker": {
             "colorbar": {
              "outlinewidth": 0,
              "ticks": ""
             }
            },
            "type": "scatter3d"
           }
          ],
          "scattercarpet": [
           {
            "marker": {
             "colorbar": {
              "outlinewidth": 0,
              "ticks": ""
             }
            },
            "type": "scattercarpet"
           }
          ],
          "scattergeo": [
           {
            "marker": {
             "colorbar": {
              "outlinewidth": 0,
              "ticks": ""
             }
            },
            "type": "scattergeo"
           }
          ],
          "scattergl": [
           {
            "marker": {
             "colorbar": {
              "outlinewidth": 0,
              "ticks": ""
             }
            },
            "type": "scattergl"
           }
          ],
          "scattermapbox": [
           {
            "marker": {
             "colorbar": {
              "outlinewidth": 0,
              "ticks": ""
             }
            },
            "type": "scattermapbox"
           }
          ],
          "scatterpolar": [
           {
            "marker": {
             "colorbar": {
              "outlinewidth": 0,
              "ticks": ""
             }
            },
            "type": "scatterpolar"
           }
          ],
          "scatterpolargl": [
           {
            "marker": {
             "colorbar": {
              "outlinewidth": 0,
              "ticks": ""
             }
            },
            "type": "scatterpolargl"
           }
          ],
          "scatterternary": [
           {
            "marker": {
             "colorbar": {
              "outlinewidth": 0,
              "ticks": ""
             }
            },
            "type": "scatterternary"
           }
          ],
          "surface": [
           {
            "colorbar": {
             "outlinewidth": 0,
             "ticks": ""
            },
            "colorscale": [
             [
              0,
              "#0d0887"
             ],
             [
              0.1111111111111111,
              "#46039f"
             ],
             [
              0.2222222222222222,
              "#7201a8"
             ],
             [
              0.3333333333333333,
              "#9c179e"
             ],
             [
              0.4444444444444444,
              "#bd3786"
             ],
             [
              0.5555555555555556,
              "#d8576b"
             ],
             [
              0.6666666666666666,
              "#ed7953"
             ],
             [
              0.7777777777777778,
              "#fb9f3a"
             ],
             [
              0.8888888888888888,
              "#fdca26"
             ],
             [
              1,
              "#f0f921"
             ]
            ],
            "type": "surface"
           }
          ],
          "table": [
           {
            "cells": {
             "fill": {
              "color": "#EBF0F8"
             },
             "line": {
              "color": "white"
             }
            },
            "header": {
             "fill": {
              "color": "#C8D4E3"
             },
             "line": {
              "color": "white"
             }
            },
            "type": "table"
           }
          ]
         },
         "layout": {
          "annotationdefaults": {
           "arrowcolor": "#2a3f5f",
           "arrowhead": 0,
           "arrowwidth": 1
          },
          "autotypenumbers": "strict",
          "coloraxis": {
           "colorbar": {
            "outlinewidth": 0,
            "ticks": ""
           }
          },
          "colorscale": {
           "diverging": [
            [
             0,
             "#8e0152"
            ],
            [
             0.1,
             "#c51b7d"
            ],
            [
             0.2,
             "#de77ae"
            ],
            [
             0.3,
             "#f1b6da"
            ],
            [
             0.4,
             "#fde0ef"
            ],
            [
             0.5,
             "#f7f7f7"
            ],
            [
             0.6,
             "#e6f5d0"
            ],
            [
             0.7,
             "#b8e186"
            ],
            [
             0.8,
             "#7fbc41"
            ],
            [
             0.9,
             "#4d9221"
            ],
            [
             1,
             "#276419"
            ]
           ],
           "sequential": [
            [
             0,
             "#0d0887"
            ],
            [
             0.1111111111111111,
             "#46039f"
            ],
            [
             0.2222222222222222,
             "#7201a8"
            ],
            [
             0.3333333333333333,
             "#9c179e"
            ],
            [
             0.4444444444444444,
             "#bd3786"
            ],
            [
             0.5555555555555556,
             "#d8576b"
            ],
            [
             0.6666666666666666,
             "#ed7953"
            ],
            [
             0.7777777777777778,
             "#fb9f3a"
            ],
            [
             0.8888888888888888,
             "#fdca26"
            ],
            [
             1,
             "#f0f921"
            ]
           ],
           "sequentialminus": [
            [
             0,
             "#0d0887"
            ],
            [
             0.1111111111111111,
             "#46039f"
            ],
            [
             0.2222222222222222,
             "#7201a8"
            ],
            [
             0.3333333333333333,
             "#9c179e"
            ],
            [
             0.4444444444444444,
             "#bd3786"
            ],
            [
             0.5555555555555556,
             "#d8576b"
            ],
            [
             0.6666666666666666,
             "#ed7953"
            ],
            [
             0.7777777777777778,
             "#fb9f3a"
            ],
            [
             0.8888888888888888,
             "#fdca26"
            ],
            [
             1,
             "#f0f921"
            ]
           ]
          },
          "colorway": [
           "#636efa",
           "#EF553B",
           "#00cc96",
           "#ab63fa",
           "#FFA15A",
           "#19d3f3",
           "#FF6692",
           "#B6E880",
           "#FF97FF",
           "#FECB52"
          ],
          "font": {
           "color": "#2a3f5f"
          },
          "geo": {
           "bgcolor": "white",
           "lakecolor": "white",
           "landcolor": "#E5ECF6",
           "showlakes": true,
           "showland": true,
           "subunitcolor": "white"
          },
          "hoverlabel": {
           "align": "left"
          },
          "hovermode": "closest",
          "mapbox": {
           "style": "light"
          },
          "paper_bgcolor": "white",
          "plot_bgcolor": "#E5ECF6",
          "polar": {
           "angularaxis": {
            "gridcolor": "white",
            "linecolor": "white",
            "ticks": ""
           },
           "bgcolor": "#E5ECF6",
           "radialaxis": {
            "gridcolor": "white",
            "linecolor": "white",
            "ticks": ""
           }
          },
          "scene": {
           "xaxis": {
            "backgroundcolor": "#E5ECF6",
            "gridcolor": "white",
            "gridwidth": 2,
            "linecolor": "white",
            "showbackground": true,
            "ticks": "",
            "zerolinecolor": "white"
           },
           "yaxis": {
            "backgroundcolor": "#E5ECF6",
            "gridcolor": "white",
            "gridwidth": 2,
            "linecolor": "white",
            "showbackground": true,
            "ticks": "",
            "zerolinecolor": "white"
           },
           "zaxis": {
            "backgroundcolor": "#E5ECF6",
            "gridcolor": "white",
            "gridwidth": 2,
            "linecolor": "white",
            "showbackground": true,
            "ticks": "",
            "zerolinecolor": "white"
           }
          },
          "shapedefaults": {
           "line": {
            "color": "#2a3f5f"
           }
          },
          "ternary": {
           "aaxis": {
            "gridcolor": "white",
            "linecolor": "white",
            "ticks": ""
           },
           "baxis": {
            "gridcolor": "white",
            "linecolor": "white",
            "ticks": ""
           },
           "bgcolor": "#E5ECF6",
           "caxis": {
            "gridcolor": "white",
            "linecolor": "white",
            "ticks": ""
           }
          },
          "title": {
           "x": 0.05
          },
          "xaxis": {
           "automargin": true,
           "gridcolor": "white",
           "linecolor": "white",
           "ticks": "",
           "title": {
            "standoff": 15
           },
           "zerolinecolor": "white",
           "zerolinewidth": 2
          },
          "yaxis": {
           "automargin": true,
           "gridcolor": "white",
           "linecolor": "white",
           "ticks": "",
           "title": {
            "standoff": 15
           },
           "zerolinecolor": "white",
           "zerolinewidth": 2
          }
         }
        },
        "title": {
         "text": "Job Roles to Skills Sankey Diagram"
        }
       }
      }
     },
     "metadata": {},
     "output_type": "display_data"
    }
   ],
   "source": [
    "import plotly.graph_objects as go\n",
    "\n",
    "# Define nodes (job tasks and skills)\n",
    "label = [\"Data Analysis at Temenos\", \"A/B Testing at Temenos\", \"ETL Development at XSUNT\",  # Add more job tasks\n",
    "         \"Machine Learning\", \"Data Mining\", \"Python Programming\"]  # Add more skills\n",
    "\n",
    "# Define source and target connections (index-based)\n",
    "source = [0, 0, 2, 1, 1, 2]  # indices corresponding to job tasks\n",
    "target = [3, 4, 5, 3, 4, 5]  # indices corresponding to skills\n",
    "\n",
    "# Define the weight of connections\n",
    "value = [8, 4, 6, 5, 3, 7]  # Example weights\n",
    "\n",
    "# Create the Sankey diagram\n",
    "fig = go.Figure(data=[go.Sankey(\n",
    "    node=dict(\n",
    "      pad=15,\n",
    "      thickness=20,\n",
    "      line=dict(color=\"black\", width=0.5),\n",
    "      label=label,\n",
    "    ),\n",
    "    link=dict(\n",
    "      source=source,\n",
    "      target=target,\n",
    "      value=value\n",
    "    ))])\n",
    "\n",
    "fig.update_layout(title_text=\"Job Roles to Skills Sankey Diagram\", font_size=10)\n",
    "fig.show()\n"
   ]
  },
  {
   "cell_type": "code",
   "execution_count": 22,
   "metadata": {},
   "outputs": [
    {
     "data": {
      "application/vnd.plotly.v1+json": {
       "config": {
        "plotlyServerURL": "https://plot.ly"
       },
       "data": [
        {
         "link": {
          "source": [
           0,
           0,
           1,
           1,
           1,
           2,
           3,
           4,
           4
          ],
          "target": [
           2,
           3,
           2,
           3,
           4,
           5,
           5,
           6,
           5
          ],
          "value": [
           8,
           2,
           6,
           4,
           2,
           4,
           2,
           3,
           1
          ]
         },
         "node": {
          "label": [
           "Job 1",
           "Job 2",
           "Skill 1",
           "Skill 2",
           "Skill 3",
           "Outcome 1",
           "Outcome 2"
          ],
          "line": {
           "color": "black",
           "width": 0.5
          },
          "pad": 15,
          "thickness": 20
         },
         "type": "sankey"
        }
       ],
       "layout": {
        "font": {
         "size": 12
        },
        "template": {
         "data": {
          "bar": [
           {
            "error_x": {
             "color": "#2a3f5f"
            },
            "error_y": {
             "color": "#2a3f5f"
            },
            "marker": {
             "line": {
              "color": "#E5ECF6",
              "width": 0.5
             },
             "pattern": {
              "fillmode": "overlay",
              "size": 10,
              "solidity": 0.2
             }
            },
            "type": "bar"
           }
          ],
          "barpolar": [
           {
            "marker": {
             "line": {
              "color": "#E5ECF6",
              "width": 0.5
             },
             "pattern": {
              "fillmode": "overlay",
              "size": 10,
              "solidity": 0.2
             }
            },
            "type": "barpolar"
           }
          ],
          "carpet": [
           {
            "aaxis": {
             "endlinecolor": "#2a3f5f",
             "gridcolor": "white",
             "linecolor": "white",
             "minorgridcolor": "white",
             "startlinecolor": "#2a3f5f"
            },
            "baxis": {
             "endlinecolor": "#2a3f5f",
             "gridcolor": "white",
             "linecolor": "white",
             "minorgridcolor": "white",
             "startlinecolor": "#2a3f5f"
            },
            "type": "carpet"
           }
          ],
          "choropleth": [
           {
            "colorbar": {
             "outlinewidth": 0,
             "ticks": ""
            },
            "type": "choropleth"
           }
          ],
          "contour": [
           {
            "colorbar": {
             "outlinewidth": 0,
             "ticks": ""
            },
            "colorscale": [
             [
              0,
              "#0d0887"
             ],
             [
              0.1111111111111111,
              "#46039f"
             ],
             [
              0.2222222222222222,
              "#7201a8"
             ],
             [
              0.3333333333333333,
              "#9c179e"
             ],
             [
              0.4444444444444444,
              "#bd3786"
             ],
             [
              0.5555555555555556,
              "#d8576b"
             ],
             [
              0.6666666666666666,
              "#ed7953"
             ],
             [
              0.7777777777777778,
              "#fb9f3a"
             ],
             [
              0.8888888888888888,
              "#fdca26"
             ],
             [
              1,
              "#f0f921"
             ]
            ],
            "type": "contour"
           }
          ],
          "contourcarpet": [
           {
            "colorbar": {
             "outlinewidth": 0,
             "ticks": ""
            },
            "type": "contourcarpet"
           }
          ],
          "heatmap": [
           {
            "colorbar": {
             "outlinewidth": 0,
             "ticks": ""
            },
            "colorscale": [
             [
              0,
              "#0d0887"
             ],
             [
              0.1111111111111111,
              "#46039f"
             ],
             [
              0.2222222222222222,
              "#7201a8"
             ],
             [
              0.3333333333333333,
              "#9c179e"
             ],
             [
              0.4444444444444444,
              "#bd3786"
             ],
             [
              0.5555555555555556,
              "#d8576b"
             ],
             [
              0.6666666666666666,
              "#ed7953"
             ],
             [
              0.7777777777777778,
              "#fb9f3a"
             ],
             [
              0.8888888888888888,
              "#fdca26"
             ],
             [
              1,
              "#f0f921"
             ]
            ],
            "type": "heatmap"
           }
          ],
          "heatmapgl": [
           {
            "colorbar": {
             "outlinewidth": 0,
             "ticks": ""
            },
            "colorscale": [
             [
              0,
              "#0d0887"
             ],
             [
              0.1111111111111111,
              "#46039f"
             ],
             [
              0.2222222222222222,
              "#7201a8"
             ],
             [
              0.3333333333333333,
              "#9c179e"
             ],
             [
              0.4444444444444444,
              "#bd3786"
             ],
             [
              0.5555555555555556,
              "#d8576b"
             ],
             [
              0.6666666666666666,
              "#ed7953"
             ],
             [
              0.7777777777777778,
              "#fb9f3a"
             ],
             [
              0.8888888888888888,
              "#fdca26"
             ],
             [
              1,
              "#f0f921"
             ]
            ],
            "type": "heatmapgl"
           }
          ],
          "histogram": [
           {
            "marker": {
             "pattern": {
              "fillmode": "overlay",
              "size": 10,
              "solidity": 0.2
             }
            },
            "type": "histogram"
           }
          ],
          "histogram2d": [
           {
            "colorbar": {
             "outlinewidth": 0,
             "ticks": ""
            },
            "colorscale": [
             [
              0,
              "#0d0887"
             ],
             [
              0.1111111111111111,
              "#46039f"
             ],
             [
              0.2222222222222222,
              "#7201a8"
             ],
             [
              0.3333333333333333,
              "#9c179e"
             ],
             [
              0.4444444444444444,
              "#bd3786"
             ],
             [
              0.5555555555555556,
              "#d8576b"
             ],
             [
              0.6666666666666666,
              "#ed7953"
             ],
             [
              0.7777777777777778,
              "#fb9f3a"
             ],
             [
              0.8888888888888888,
              "#fdca26"
             ],
             [
              1,
              "#f0f921"
             ]
            ],
            "type": "histogram2d"
           }
          ],
          "histogram2dcontour": [
           {
            "colorbar": {
             "outlinewidth": 0,
             "ticks": ""
            },
            "colorscale": [
             [
              0,
              "#0d0887"
             ],
             [
              0.1111111111111111,
              "#46039f"
             ],
             [
              0.2222222222222222,
              "#7201a8"
             ],
             [
              0.3333333333333333,
              "#9c179e"
             ],
             [
              0.4444444444444444,
              "#bd3786"
             ],
             [
              0.5555555555555556,
              "#d8576b"
             ],
             [
              0.6666666666666666,
              "#ed7953"
             ],
             [
              0.7777777777777778,
              "#fb9f3a"
             ],
             [
              0.8888888888888888,
              "#fdca26"
             ],
             [
              1,
              "#f0f921"
             ]
            ],
            "type": "histogram2dcontour"
           }
          ],
          "mesh3d": [
           {
            "colorbar": {
             "outlinewidth": 0,
             "ticks": ""
            },
            "type": "mesh3d"
           }
          ],
          "parcoords": [
           {
            "line": {
             "colorbar": {
              "outlinewidth": 0,
              "ticks": ""
             }
            },
            "type": "parcoords"
           }
          ],
          "pie": [
           {
            "automargin": true,
            "type": "pie"
           }
          ],
          "scatter": [
           {
            "fillpattern": {
             "fillmode": "overlay",
             "size": 10,
             "solidity": 0.2
            },
            "type": "scatter"
           }
          ],
          "scatter3d": [
           {
            "line": {
             "colorbar": {
              "outlinewidth": 0,
              "ticks": ""
             }
            },
            "marker": {
             "colorbar": {
              "outlinewidth": 0,
              "ticks": ""
             }
            },
            "type": "scatter3d"
           }
          ],
          "scattercarpet": [
           {
            "marker": {
             "colorbar": {
              "outlinewidth": 0,
              "ticks": ""
             }
            },
            "type": "scattercarpet"
           }
          ],
          "scattergeo": [
           {
            "marker": {
             "colorbar": {
              "outlinewidth": 0,
              "ticks": ""
             }
            },
            "type": "scattergeo"
           }
          ],
          "scattergl": [
           {
            "marker": {
             "colorbar": {
              "outlinewidth": 0,
              "ticks": ""
             }
            },
            "type": "scattergl"
           }
          ],
          "scattermapbox": [
           {
            "marker": {
             "colorbar": {
              "outlinewidth": 0,
              "ticks": ""
             }
            },
            "type": "scattermapbox"
           }
          ],
          "scatterpolar": [
           {
            "marker": {
             "colorbar": {
              "outlinewidth": 0,
              "ticks": ""
             }
            },
            "type": "scatterpolar"
           }
          ],
          "scatterpolargl": [
           {
            "marker": {
             "colorbar": {
              "outlinewidth": 0,
              "ticks": ""
             }
            },
            "type": "scatterpolargl"
           }
          ],
          "scatterternary": [
           {
            "marker": {
             "colorbar": {
              "outlinewidth": 0,
              "ticks": ""
             }
            },
            "type": "scatterternary"
           }
          ],
          "surface": [
           {
            "colorbar": {
             "outlinewidth": 0,
             "ticks": ""
            },
            "colorscale": [
             [
              0,
              "#0d0887"
             ],
             [
              0.1111111111111111,
              "#46039f"
             ],
             [
              0.2222222222222222,
              "#7201a8"
             ],
             [
              0.3333333333333333,
              "#9c179e"
             ],
             [
              0.4444444444444444,
              "#bd3786"
             ],
             [
              0.5555555555555556,
              "#d8576b"
             ],
             [
              0.6666666666666666,
              "#ed7953"
             ],
             [
              0.7777777777777778,
              "#fb9f3a"
             ],
             [
              0.8888888888888888,
              "#fdca26"
             ],
             [
              1,
              "#f0f921"
             ]
            ],
            "type": "surface"
           }
          ],
          "table": [
           {
            "cells": {
             "fill": {
              "color": "#EBF0F8"
             },
             "line": {
              "color": "white"
             }
            },
            "header": {
             "fill": {
              "color": "#C8D4E3"
             },
             "line": {
              "color": "white"
             }
            },
            "type": "table"
           }
          ]
         },
         "layout": {
          "annotationdefaults": {
           "arrowcolor": "#2a3f5f",
           "arrowhead": 0,
           "arrowwidth": 1
          },
          "autotypenumbers": "strict",
          "coloraxis": {
           "colorbar": {
            "outlinewidth": 0,
            "ticks": ""
           }
          },
          "colorscale": {
           "diverging": [
            [
             0,
             "#8e0152"
            ],
            [
             0.1,
             "#c51b7d"
            ],
            [
             0.2,
             "#de77ae"
            ],
            [
             0.3,
             "#f1b6da"
            ],
            [
             0.4,
             "#fde0ef"
            ],
            [
             0.5,
             "#f7f7f7"
            ],
            [
             0.6,
             "#e6f5d0"
            ],
            [
             0.7,
             "#b8e186"
            ],
            [
             0.8,
             "#7fbc41"
            ],
            [
             0.9,
             "#4d9221"
            ],
            [
             1,
             "#276419"
            ]
           ],
           "sequential": [
            [
             0,
             "#0d0887"
            ],
            [
             0.1111111111111111,
             "#46039f"
            ],
            [
             0.2222222222222222,
             "#7201a8"
            ],
            [
             0.3333333333333333,
             "#9c179e"
            ],
            [
             0.4444444444444444,
             "#bd3786"
            ],
            [
             0.5555555555555556,
             "#d8576b"
            ],
            [
             0.6666666666666666,
             "#ed7953"
            ],
            [
             0.7777777777777778,
             "#fb9f3a"
            ],
            [
             0.8888888888888888,
             "#fdca26"
            ],
            [
             1,
             "#f0f921"
            ]
           ],
           "sequentialminus": [
            [
             0,
             "#0d0887"
            ],
            [
             0.1111111111111111,
             "#46039f"
            ],
            [
             0.2222222222222222,
             "#7201a8"
            ],
            [
             0.3333333333333333,
             "#9c179e"
            ],
            [
             0.4444444444444444,
             "#bd3786"
            ],
            [
             0.5555555555555556,
             "#d8576b"
            ],
            [
             0.6666666666666666,
             "#ed7953"
            ],
            [
             0.7777777777777778,
             "#fb9f3a"
            ],
            [
             0.8888888888888888,
             "#fdca26"
            ],
            [
             1,
             "#f0f921"
            ]
           ]
          },
          "colorway": [
           "#636efa",
           "#EF553B",
           "#00cc96",
           "#ab63fa",
           "#FFA15A",
           "#19d3f3",
           "#FF6692",
           "#B6E880",
           "#FF97FF",
           "#FECB52"
          ],
          "font": {
           "color": "#2a3f5f"
          },
          "geo": {
           "bgcolor": "white",
           "lakecolor": "white",
           "landcolor": "#E5ECF6",
           "showlakes": true,
           "showland": true,
           "subunitcolor": "white"
          },
          "hoverlabel": {
           "align": "left"
          },
          "hovermode": "closest",
          "mapbox": {
           "style": "light"
          },
          "paper_bgcolor": "white",
          "plot_bgcolor": "#E5ECF6",
          "polar": {
           "angularaxis": {
            "gridcolor": "white",
            "linecolor": "white",
            "ticks": ""
           },
           "bgcolor": "#E5ECF6",
           "radialaxis": {
            "gridcolor": "white",
            "linecolor": "white",
            "ticks": ""
           }
          },
          "scene": {
           "xaxis": {
            "backgroundcolor": "#E5ECF6",
            "gridcolor": "white",
            "gridwidth": 2,
            "linecolor": "white",
            "showbackground": true,
            "ticks": "",
            "zerolinecolor": "white"
           },
           "yaxis": {
            "backgroundcolor": "#E5ECF6",
            "gridcolor": "white",
            "gridwidth": 2,
            "linecolor": "white",
            "showbackground": true,
            "ticks": "",
            "zerolinecolor": "white"
           },
           "zaxis": {
            "backgroundcolor": "#E5ECF6",
            "gridcolor": "white",
            "gridwidth": 2,
            "linecolor": "white",
            "showbackground": true,
            "ticks": "",
            "zerolinecolor": "white"
           }
          },
          "shapedefaults": {
           "line": {
            "color": "#2a3f5f"
           }
          },
          "ternary": {
           "aaxis": {
            "gridcolor": "white",
            "linecolor": "white",
            "ticks": ""
           },
           "baxis": {
            "gridcolor": "white",
            "linecolor": "white",
            "ticks": ""
           },
           "bgcolor": "#E5ECF6",
           "caxis": {
            "gridcolor": "white",
            "linecolor": "white",
            "ticks": ""
           }
          },
          "title": {
           "x": 0.05
          },
          "xaxis": {
           "automargin": true,
           "gridcolor": "white",
           "linecolor": "white",
           "ticks": "",
           "title": {
            "standoff": 15
           },
           "zerolinecolor": "white",
           "zerolinewidth": 2
          },
          "yaxis": {
           "automargin": true,
           "gridcolor": "white",
           "linecolor": "white",
           "ticks": "",
           "title": {
            "standoff": 15
           },
           "zerolinecolor": "white",
           "zerolinewidth": 2
          }
         }
        },
        "title": {
         "text": "Multi-Level Sankey Diagram"
        }
       }
      }
     },
     "metadata": {},
     "output_type": "display_data"
    }
   ],
   "source": [
    "import plotly.graph_objects as go\n",
    "\n",
    "# Labels for each node\n",
    "labels = [\"Job 1\", \"Job 2\", \"Skill 1\", \"Skill 2\", \"Skill 3\", \"Outcome 1\", \"Outcome 2\"]\n",
    "\n",
    "# Define source, target, and value for each connection\n",
    "source = [0, 0, 1, 1, 1, 2, 3, 4, 4]  # Job 1, Job 2 to Skills and Skills to Outcomes\n",
    "target = [2, 3, 2, 3, 4, 5, 5, 6, 5]  # Connections from Jobs to Skills and Skills to Outcomes\n",
    "value = [8, 2, 6, 4, 2, 4, 2, 3, 1]   # Weight of connections\n",
    "\n",
    "# Create the Sankey diagram\n",
    "fig = go.Figure(data=[go.Sankey(\n",
    "    node=dict(\n",
    "      pad=15,\n",
    "      thickness=20,\n",
    "      line=dict(color=\"black\", width=0.5),\n",
    "      label=labels\n",
    "    ),\n",
    "    link=dict(\n",
    "      source=source,\n",
    "      target=target,\n",
    "      value=value\n",
    "    ))])\n",
    "\n",
    "fig.update_layout(title_text=\"Multi-Level Sankey Diagram\", font_size=12)\n",
    "fig.show()\n"
   ]
  },
  {
   "cell_type": "code",
   "execution_count": null,
   "metadata": {},
   "outputs": [],
   "source": [
    "{\n",
    "\"Languages & Frameworks\":[],\n",
    "\"Web Technologies & Systems\":[],\n",
    "\"Advanced Data Handling\":[],\n",
    "\"Data Acquisition\":[],\n",
    "\"Mining with NLP\":[],\n",
    "\"Data Infrastructure & Management\":[\"Bristol Myers Squibb\"],\n",
    "\"SQL Expertise\":[],\n",
    "\"Data Warehousing & Reporting\":[],\n",
    "\"Proficient Visualization\":[],\n",
    "\"Cloud Platforms\":[],\n",
    "\"ML Ops\":[],\n",
    "\"ML Theory & Application\":[],\n",
    "\"ML Model Evaluation & Optimization\":[],\n",
    "\"ML Techniques & Algorithms\":[],\n",
    "\"DL Frameworks & Techniques\":[],\n",
    "\"DL Model Types\":[],\n",
    "\"GenAI\":[],\n",
    "\"NLP Search & Retrieval\":[],\n",
    "\"Product Analytics\":[],\n",
    "\"Statistical Analysis\":[],\n",
    "\"Product Analytics Strategy\":[],\n",
    "\"Statistical Knowledge\":[],\n",
    "\"Statistical Specialized Techniques\":[],\n",
    "\"Effective Articulation\":[],\n",
    "\"Senior Management Interaction\":[],\n",
    "\"Clear and Concise Reporting\":[],\n",
    "\"Authentic Engagement\":[],\n",
    "\"Data Storytelling\":[],\n",
    "\"Team Leadership\":[],\n",
    "\"Strategic Management\":[],\n",
    "\"Stakeholder Influence\":[],\n",
    "\"Mentorship and Guidance\":[],\n",
    "\"Decision-Making and Negotiation\":[],\n",
    "\"Efficient Project Handling\":[],\n",
    "\"Culture of Accountability\":[],\n",
    "\"Impactful Leadership\":[],\n",
    "\"Goal Achievement\":[],\n",
    "\"Global Team Management\":[],\n",
    "\"Talent Development\":[],\n",
    "\"Adaptive Time Management\":[],\n",
    "\"Cross-Functional Collaboration\":[],\n",
    "\"Teamwork for Innovation\":[],\n",
    "\"AI-Driven Product Development\":[],\n",
    "\"Translating Business Needs\":[],\n",
    "\"Adaptive Strategy\":[],\n",
    "\"Analytics Strategy Contribution\":[],\n",
    "\"Data-Driven Business Insights\":[],\n",
    "\"Product Metrics & Experimentation\":[],\n",
    "\"Holistic Product Understanding\":[],\n",
    "\"Agile Methodology\":[],\n",
    "\"Feature Enhancement\":[],\n",
    "\"Data Standards for Product Teams\":[],\n",
    "\"Data-Driven Product Strategy\":[],\n",
    "\"Collaboration with UX Research\":[],\n",
    "\"Data Evangelism in Product Development\":[],\n",
    "\"Vision and Strategy for Product Expansion\":[],\n",
    "\"Adaptability and Flexibility\":[],\n",
    "\"Continuous Learning\":[],\n",
    "\"Inquisitive Nature\":[],\n",
    "\"Documentation and Knowledge Sharing\":[],\n",
    "\"Open Source and Community Involvement\":[],\n",
    "\"Democratization of Data\":[],\n",
    "\n",
    "\n",
    "}"
   ]
  },
  {
   "cell_type": "code",
   "execution_count": 24,
   "metadata": {},
   "outputs": [],
   "source": [
    "skills_dictionary = {\n",
    "    \"Programming/Tools\": {\n",
    "        \"Languages & Frameworks\": \"Proficient in Python, Spark, PyTorch, C, C++, R, TensorFlow, JavaScript, along with extensive use of Hadoop for big data processing.\",\n",
    "        \"Web Technologies & Systems\": \"Experienced in Streamlit, HTML, CSS, JSON, and Linux system management.\",\n",
    "        \"Advanced Data Handling\": \"Skilled in Advanced Excel for complex data analysis and manipulation.\"\n",
    "    },\n",
    "    \"Data Acquisition, Mining & Transformation\": {\n",
    "        \"Data Acquisition\": \"Expertise in acquiring data from diverse sources using APIs and AWS S3.\",\n",
    "        \"Mining with NLP\": \"Utilizing NLP for extracting valuable insights from textual data.\",\n",
    "        \"Data Infrastructure & Management\": \"Building Data Lake infrastructure, creating ETL/ELT pipelines, data modeling, and managing data architecture.\",\n",
    "        \"SQL Expertise\": \"Proficient in SQL optimization and performance tuning.\",\n",
    "        \"Data Warehousing & Reporting\": \"Experienced in Snowflake, AWS RDS, Postgres, Neo4j, Oracle SQL, MySQL, MongoDB for comprehensive data warehousing and reporting.\"\n",
    "    },\n",
    "    \"Visualization\": \"Proficient in Tableau, Qlik Sense, SSRS, Matplotlib, Seaborn for crafting compelling data stories.\",\n",
    "    \"Cloud, Containerization, ML Ops\": {\n",
    "        \"Cloud Platforms\": \"Skilled in AWS (including SageMaker, RDS, EC2, Glue, EMR, S3), Data Bricks.\",\n",
    "        \"ML Ops\": \"(MLFlow, Auto ML), Dataiku, Knime, and Docker, Collaborating with MLOps teams for deploying machine learning models, ensuring scalability and reliability.\"\n",
    "    },\n",
    "    \"Machine Learning\": {\n",
    "        \"ML Theory & Application\": \"Deep understanding of machine learning theory and its practical application.\",\n",
    "        \"ML Model Evaluation & Optimization\": \"Evaluating and optimizing machine learning models for performance, accuracy, and consistency.\",\n",
    "        \"ML Techniques & Algorithms\": \"Proficient in regression, time series analysis (ARIMA), clustering, decision trees, random forest, XGBoost, PCA, and using SKLearn.\"\n",
    "    },\n",
    "    \"Deep Learning\": \"DL Frameworks & Techniques: Expertise in TensorFlow, PyTorch, Hugging Face, Spacy, langchain, Keras, and GPU-based training. DL Model Types: Experienced in convolutional and recurrent models.\",\n",
    "    \"GenAI and NLP\": {\n",
    "        \"GenAI\": \"LLM, transformers, embeddings, topic models, NER, Q&A, document summarization/classification, text generation, sentiment analysis, finetune LLMs.\",\n",
    "        \"NLP Search & Retrieval\": \"Retrieval Augmented Generation (RAG),semantic search, VectorDBs, prompt engineering, implementing information search and retrieval at scale, using a range of solutions ranging from keyword search to semantic search using embeddings.\"\n",
    "    },\n",
    "    \"Analytics\": {\n",
    "        \"Product Analytics\": \"Skilled in analyzing both structured and unstructured data for product analytics.\",\n",
    "        \"Statistical Analysis\": \"Statistical methods to identify patterns, anomalies, relationships, and trends.\",\n",
    "        \"Product Analytics Strategy\": \"Leading analysis projects to deepen understanding of customers, uncover product improvement opportunities, provide actionable recommendations, and drive impact for our business.\"\n",
    "    },\n",
    "    \"Statistics\": {\n",
    "        \"Statistical Knowledge\": \"Strong foundation in various statistical methods and mathematical disciplines.\",\n",
    "        \"Statistical Specialized Techniques\": \"Proficient in Bayesian Analysis, Linear Programming, and conducting A/B testing.\"\n",
    "    },\n",
    "    \"Communication\": {\n",
    "        \"Effective Articulation\": \"Excel at conveying complex technical concepts and aligning them with business objectives to ensure comprehensive understanding across all organizational levels.\",\n",
    "        \"Senior Management Interaction\": \"Proven ability to confidently influence and communicate with senior management, adept at presenting data-driven insights and findings succinctly.\",\n",
    "        \"Clear and Concise Reporting\": \"Skilled in leading interactions with both business and technical stakeholders, presenting findings and recommendations through well-crafted reports and presentations.\",\n",
    "        \"Authentic Engagement\": \"Committed to direct communication, offering candid feedback, and promoting authenticity, thereby fostering a transparent and efficient work environment.\",\n",
    "        \"Data Storytelling\": \"Expert in navigating through complex data sets to extract meaningful stories, translating analytics into relevant business insights.\"\n",
    "    },\n",
    "    # ... Continue for other sections like 'Lead', 'Team Management', 'Collaboration and Cross Functional', etc.\n",
    "    \"Lead\": {\n",
    "        \"Team Leadership\": \"Demonstrated track record in leading and mentoring data science teams, underpinned by strong organizational and interpersonal skills.\",\n",
    "        \"Strategic Management\": \"Proficient in managing trade-offs and exercising leadership in a matrixed environment without direct authority.\",\n",
    "        \"Stakeholder Influence\": \"Highly influential in educating challenging stakeholders about the critical role of data in business contexts.\",\n",
    "        \"Mentorship and Guidance\": \"Committed to mentoring junior data scientists, fostering a culture of innovation, technical excellence, and continuous learning.\",\n",
    "        \"Decision-Making and Negotiation\": \"Robust negotiation and decision-making skills, adept at aligning business and customer needs with strategic updates, vision, and KPIs.\"\n",
    "    },\n",
    "    \"Team Management\": {\n",
    "        \"Efficient Project Handling\": \"Proficient in managing multiple projects with competing priorities, ensuring high organizational efficiency.\",\n",
    "        \"Culture of Accountability\": \"Foster a team environment focused on accountability, open communication, and self-management.\",\n",
    "        \"Impactful Leadership\": \"Proactively drive impactful initiatives, ensuring team engagement and leading by example to achieve collective goals.\",\n",
    "        \"Goal Achievement\": \"Consistently surpass individual and team objectives through effective leadership and strategic planning.\",\n",
    "        \"Global Team Management\": \"Experienced in coordinating and working with globally distributed teams, nurturing a diverse and inclusive work culture.\",\n",
    "        \"Talent Development\": \"Passionate about developing talent within my team and beyond, focusing on continuous learning and career growth.\",\n",
    "        \"Adaptive Time Management\": \"Demonstrated ability to prioritize tasks, manage time effectively, and adapt to shifting priorities in dynamic environments.\"\n",
    "    },\n",
    "    \"Collaboration and Cross Functional\": {\n",
    "        \"Cross-Functional Collaboration\": \"Expertise in working with cross-functional teams, including product managers, engineers, and operations, to integrate solutions into products.\",\n",
    "        \"Teamwork for Innovation\": \"Collaborate effectively to promote speed, agility, and innovation in team endeavors.\",\n",
    "        \"AI-Driven Product Development\": \"Partner with data scientists, software engineers, and product managers to deliver AI-powered products, integrating technical expertise with business goals.\"\n",
    "    },\n",
    "    \"Business Strategy\": {\n",
    "        \"Translating Business Needs\": \"Skilled in understanding and converting business requirements into data-driven and technical solutions.\",\n",
    "        \"Adaptive Strategy\": \"Proficient in adjusting strategies to meet evolving business needs in a dynamic environment.\",\n",
    "        \"Analytics Strategy Contribution\": \"Actively participate in shaping and governing the analytics strategy, aligning it with business objectives.\",\n",
    "        \"Data-Driven Business Insights\": \"Possess a strong acumen for business, adept at linking data modeling activities with business challenges and opportunities.\"\n",
    "    },\n",
    "    \"Product and Business\": {\n",
    "        \"Product Metrics & Experimentation\": \"Skilled in defining and tracking key product metrics, designing customer-facing experiments, and evaluating product changes through meticulous experiment design and analysis.\",\n",
    "        \"Holistic Product Understanding\": \"Proficient in understanding both the technical and business aspects of Data Products, ensuring balanced decision-making that centers user needs.\",\n",
    "        \"Agile Methodology\": \"Experienced in and embraces agile methodologies, ensuring flexibility and responsiveness in product development.\",\n",
    "        \"Feature Enhancement\": \"Adept at identifying and integrating new features from diverse data sources to improve model performance and robustness.\",\n",
    "        \"Data Standards for Product Teams\": \"Established standards and best practices for how product groups should interact with and utilize data.\",\n",
    "        \"Data-Driven Product Strategy\": \"Proficient in analyzing product data to inform and guide product direction and strategy effectively.\",\n",
    "        \"Collaboration with UX Research\": \"Partnered with UX research teams to design surveys and derive quantitative insights for enhanced customer experiences.\",\n",
    "        \"Data Evangelism in Product Development\": \"Passionate about promoting a data-informed approach to product development among product managers, designers, and engineers.\",\n",
    "        \"Vision and Strategy for Product Expansion\": \"Crafted vision and strategic roadmaps to accelerate expansion within large organizations, identifying and executing new product initiatives for large-scale solutions.\"\n",
    "    },\n",
    "    \"General\": {\n",
    "        \"Adaptability and Flexibility\": \"Exhibits a positive and adaptable attitude, readily adjusting to new technologies and industry challenges.\",\n",
    "        \"Continuous Learning\": \"Actively researches and stays abreast of emerging technologies, state-of-the-art methods, and applications in data science.\",\n",
    "        \"Inquisitive Nature\": \"Known for a curiosity-driven approach, constantly seeking answers and pushing boundaries in knowledge and application.\",\n",
    "        \"Documentation and Knowledge Sharing\": \"Maintains comprehensive documentation of machine learning modeling processes and procedures.\",\n",
    "        \"Open Source and Community Involvement\": \"Actively contributes to GitHub, open-source initiatives, research projects, and engages in Kaggle competitions.\",\n",
    "        \"Democratization of Data\": \"Committed to making data knowledge and insights accessible across various teams and disciplines.\"\n",
    "    }\n",
    "}\n"
   ]
  },
  {
   "cell_type": "code",
   "execution_count": 28,
   "metadata": {},
   "outputs": [
    {
     "data": {
      "text/plain": [
       "dict_keys(['Languages & Frameworks', 'Web Technologies & Systems', 'Advanced Data Handling'])"
      ]
     },
     "execution_count": 28,
     "metadata": {},
     "output_type": "execute_result"
    }
   ],
   "source": [
    "experience_skills_mapping = {\n",
    "    \"Stakeholder Collaboration at Temenos\": [\"Communication\", \"Collaboration and Cross Functional\"],\n",
    "    \"Data Mining and Analysis at Temenos\": [\"Data Acquisition, Mining & Transformation\", \"Analytics\"],\n",
    "    \"A/B Testing for UI at Temenos\": [\"Machine Learning\", \"Analytics\", \"Programming/Tools\"],\n",
    "    \"Customer Segmentation and Pricing Strategy at Temenos\": [\"Machine Learning\", \"Analytics\", \"Business Strategy\"],\n",
    "    \"Statistical and Mathematical Methodologies at Temenos\": [\"Machine Learning\", \"Statistics\"],\n",
    "    \"Product Management Collaboration at Temenos\": [\"Collaboration and Cross Functional\", \"Business Strategy\"],\n",
    "    \"Database Analysis for Product Development at Temenos\": [\"Data Acquisition, Mining & Transformation\"],\n",
    "    \"Advanced Testing Strategies Development at Temenos\": [\"Programming/Tools\", \"Lead\", \"Team Management\"],\n",
    "\n",
    "    \"Logical Model Development at Bristol Myers Squibb\": [\"Data Acquisition, Mining & Transformation\"],\n",
    "    \"Analytics Report Development at Bristol Myers Squibb\": [\"Visualization\", \"Data Acquisition, Mining & Transformation\"],\n",
    "    \"Sales Data Processing Automation at Bristol Myers Squibb\": [\"Programming/Tools\", \"Data Acquisition, Mining & Transformation\"],\n",
    "    \"Automated Reporting System Development at Bristol Myers Squibb\": [\"Programming/Tools\", \"Data Acquisition, Mining & Transformation\"],\n",
    "    \"Operational Reporting in Tableau at Bristol Myers Squibb\": [\"Visualization\"],\n",
    "    \"Client Engagement Analysis at Bristol Myers Squibb\": [\"Analytics\", \"Communication\"],\n",
    "    \"Dashboard Performance Enhancement at Bristol Myers Squibb\": [\"Visualization\", \"Programming/Tools\"],\n",
    "    \"ETL Infrastructure Engineering at Bristol Myers Squibb\": [\"Cloud, Containerization, ML Ops\", \"Data Acquisition, Mining & Transformation\"],\n",
    "    \"Geographic Sales Data Analysis at Bristol Myers Squibb\": [\"Machine Learning\", \"Analytics\"],\n",
    "\n",
    "\"Contextual Intelligence Engine Development\": [\"Machine Learning\", \"Cloud, Containerization, ML Ops\", \"Business Strategy\"], \n",
    "\"Machine Learning and Analytics Data Platform Integration\": [\"Data Acquisition & Transformation\", \"Machine Learning\", \"Cloud, Containerization, ML Ops\", \"Data Infrastructure & Management\"], \n",
    "\"Neural Network-Based Channel Propensity Models Development\": [\"Machine Learning\", \"GenAI and NLP\", \"Business Strategy\", \"Product and Business\"], \n",
    "\"No-Code Automated Machine Learning Platform Development\": [\"Machine Learning\", \"Programming/Tools\", \"Collaboration and Cross Functional\", \"Product and Business\"],\n",
    " \"Statistical and Machine Learning Solutions Implementation and Maintenance\": [\"Machine Learning\", \"Statistics\", \"Team Management\"], \n",
    " \"Technical Vision and Strategy Influencing for Engineering Teams\": [\"Business Strategy\", \"Lead\", \"Team Management\"], \n",
    "}"
   ]
  },
  {
   "cell_type": "code",
   "execution_count": 34,
   "metadata": {},
   "outputs": [],
   "source": [
    "experience_skills_mapping = {\n",
    "    \"Contextual Intelligence Engine Development Aktana\": {\n",
    "        \"Machine Learning\": [\"ML Theory & Application\", \"ML Model Evaluation & Optimization\"],\n",
    "        \"Cloud, Containerization, ML Ops\": [\"Cloud Platforms\"],\n",
    "        \"Business Strategy\": [\"Data-Driven Business Insights\"]\n",
    "    },\n",
    "    \"Machine Learning and Analytics Data Platform Integration Aktana\": {\n",
    "        \"Data Acquisition & Transformation\": [\"Data Infrastructure & Management\", \"Data Warehousing & Reporting\"],\n",
    "        \"Machine Learning\": [\"ML Techniques & Algorithms\"],\n",
    "        \"Cloud, Containerization, ML Ops\": [\"Cloud Platforms\"]\n",
    "    },\n",
    "    \"Neural Network-Based Channel Propensity Models Development Aktana\": {\n",
    "        \"Machine Learning\": [\"ML Techniques & Algorithms\"],\n",
    "        \"GenAI and NLP\": [\"GenAI\"],\n",
    "        \"Business Strategy\": [\"Data-Driven Business Insights\"],\n",
    "        \"Product and Business\": [\"Data-Driven Product Strategy\"]\n",
    "    },\n",
    "    \"No-Code Automated Machine Learning Platform Development Aktana\": {\n",
    "        \"Machine Learning\": [\"ML Theory & Application\", \"ML Model Evaluation & Optimization\"],\n",
    "        \"Programming/Tools\": [\"Languages & Frameworks\", \"Web Technologies & Systems\"],\n",
    "        \"Collaboration and Cross Functional\": [\"Cross-Functional Collaboration\", \"Teamwork for Innovation\"],\n",
    "        \"Product and Business\": [\"Data Standards for Product Teams\", \"Data Evangelism in Product Development\"]\n",
    "    },\n",
    "    \"Statistical and Machine Learning Solutions Implementation and Maintenance Aktana\": {\n",
    "        \"Machine Learning\": [\"ML Theory & Application\", \"ML Model Evaluation & Optimization\"],\n",
    "        \"Statistics\": [\"Statistical Knowledge\", \"Statistical Specialized Techniques\"],\n",
    "        \"Team Management\": [\"Efficient Project Handling\", \"Talent Development\"]\n",
    "    },\n",
    "    \"Technical Vision and Strategy Influencing for Engineering Teams Aktana\": {\n",
    "        \"Business Strategy\": [\"Translating Business Needs\", \"Analytics Strategy Contribution\"],\n",
    "        \"Lead\": [\"Team Leadership\", \"Strategic Management\"],\n",
    "        \"Team Management\": [\"Global Team Management\", \"Decision-Making and Negotiation\"]\n",
    "    },\n",
    "\n",
    "    # Existing mappings for Temenos and Bristol Myers Squibb\n",
    "    \"Stakeholder Collaboration at Temenos\": {\n",
    "        \"Communication\": [\"Effective Articulation\", \"Data Storytelling\"],\n",
    "        \"Collaboration and Cross Functional\": [\"Cross-Functional Collaboration\", \"Teamwork for Innovation\"]\n",
    "    },\n",
    "    \"Data Mining and Analysis at Temenos\": {\n",
    "        \"Data Acquisition & Transformation\": [\"Data Infrastructure & Management\", \"Data Warehousing & Reporting\"],\n",
    "        \"Analytics\": [\"Product Analytics\", \"Statistical Analysis\"]\n",
    "    },\n",
    "    \"A/B Testing for UI at Temenos\": {\n",
    "        \"Machine Learning\": [\"ML Techniques & Algorithms\"],\n",
    "        \"Analytics\": [\"Product Analytics Strategy\"],\n",
    "        \"Programming/Tools\": [\"Languages & Frameworks\"]\n",
    "    },\n",
    "    \"Customer Segmentation and Pricing Strategy at Temenos\": {\n",
    "        \"Machine Learning\": [\"ML Techniques & Algorithms\"],\n",
    "        \"Analytics\": [\"Product Analytics\"],\n",
    "        \"Business Strategy\": [\"Data-Driven Business Insights\"]\n",
    "    },\n",
    "       \"Statistical and Mathematical Methodologies at Temenos\": {\n",
    "        \"Machine Learning\": [\"ML Techniques & Algorithms\"],\n",
    "        \"Statistics\": [\"Statistical Knowledge\", \"Statistical Specialized Techniques\"]\n",
    "    },\n",
    "    \"Product Management Collaboration at Temenos\": {\n",
    "        \"Collaboration and Cross Functional\": [\"Cross-Functional Collaboration\", \"Teamwork for Innovation\"],\n",
    "        \"Business Strategy\": [\"Translating Business Needs\", \"Analytics Strategy Contribution\"]\n",
    "    },\n",
    "    \"Database Analysis for Product Development at Temenos\": {\n",
    "        \"Data Acquisition & Transformation\": [\"Data Infrastructure & Management\", \"Data Warehousing & Reporting\"]\n",
    "    },\n",
    "    \"Advanced Testing Strategies Development at Temenos\": {\n",
    "        \"Programming/Tools\": [\"Languages & Frameworks\"],\n",
    "        \"Lead\": [\"Team Leadership\", \"Strategic Management\"],\n",
    "        \"Team Management\": [\"Efficient Project Handling\", \"Culture of Accountability\"]\n",
    "    },\n",
    "\n",
    "    \"Logical Model Development at Bristol Myers Squibb\": {\n",
    "        \"Data Acquisition & Transformation\": [\"Data Infrastructure & Management\", \"Data Warehousing & Reporting\"]\n",
    "    },\n",
    "    \"Analytics Report Development at Bristol Myers Squibb\": {\n",
    "        \"Visualization\": [\"Proficient in Tableau\", \"Matplotlib\"],\n",
    "        \"Data Acquisition & Transformation\": [\"Data Warehousing & Reporting\"]\n",
    "    },\n",
    "    \"Sales Data Processing Automation at Bristol Myers Squibb\": {\n",
    "        \"Programming/Tools\": [\"Languages & Frameworks\"],\n",
    "        \"Data Acquisition & Transformation\": [\"Data Infrastructure & Management\", \"SQL Expertise\"]\n",
    "    },\n",
    "    \"Automated Reporting System Development at Bristol Myers Squibb\": {\n",
    "        \"Programming/Tools\": [\"Web Technologies & Systems\"],\n",
    "        \"Data Acquisition & Transformation\": [\"Data Infrastructure & Management\"]\n",
    "    },\n",
    "    \"Operational Reporting in Tableau at Bristol Myers Squibb\": {\n",
    "        \"Visualization\": [\"Proficient in Tableau\"]\n",
    "    },\n",
    "    \"Client Engagement Analysis at Bristol Myers Squibb\": {\n",
    "        \"Analytics\": [\"Product Analytics\", \"Statistical Analysis\"],\n",
    "        \"Communication\": [\"Effective Articulation\", \"Data Storytelling\"]\n",
    "    },\n",
    "    \"Dashboard Performance Enhancement at Bristol Myers Squibb\": {\n",
    "        \"Visualization\": [\"Proficient in Tableau\"],\n",
    "        \"Programming/Tools\": [\"Languages & Frameworks\"]\n",
    "    },\n",
    "    \"ETL Infrastructure Engineering at Bristol Myers Squibb\": {\n",
    "        \"Cloud, Containerization, ML Ops\": [\"Cloud Platforms\"],\n",
    "        \"Data Acquisition & Transformation\": [\"Data Infrastructure & Management\"]\n",
    "    },\n",
    "    \"Geographic Sales Data Analysis at Bristol Myers Squibb\": {\n",
    "        \"Machine Learning\": [\"ML Techniques & Algorithms\"],\n",
    "        \"Analytics\": [\"Product Analytics\"]\n",
    "    },\n",
    "       \"CNNs and LLMs for User Interaction Analysis at ZS\": {\n",
    "        \"Deep Learning\": [\"DL Frameworks & Techniques\", \"DL Model Types\"],\n",
    "        \"GenAI and NLP\": [\"GenAI\"],\n",
    "        \"Machine Learning\": [\"ML Theory & Application\", \"ML Model Evaluation & Optimization\"],\n",
    "        \"Data Acquisition & Transformation\": [\"Mining with NLP\"]\n",
    "    },\n",
    "    \"Multi-channel Optimization and Experimentation at ZS\": {\n",
    "        \"Statistics\": [\"Statistical Specialized Techniques\"],\n",
    "        \"Machine Learning\": [\"ML Techniques & Algorithms\"],\n",
    "        \"Analytics\": [\"Product Analytics Strategy\"],\n",
    "        \"Business Strategy\": [\"Data-Driven Business Insights\"]\n",
    "    },\n",
    "    \"Machine Learning Strategy Translation at ZS\": {\n",
    "        \"Machine Learning\": [\"ML Techniques & Algorithms\"],\n",
    "        \"Programming/Tools\": [\"Languages & Frameworks\"],\n",
    "        \"Business Strategy\": [\"Translating Business Needs\"]\n",
    "    },\n",
    "    \"Data Analysis and Interpretation at ZS\": {\n",
    "        \"Programming/Tools\": [\"Languages & Frameworks\", \"Advanced Data Handling\"],\n",
    "        \"Machine Learning\": [\"ML Techniques & Algorithms\"],\n",
    "        \"Statistics\": [\"Statistical Knowledge\"]\n",
    "    },\n",
    "    \"Data-Driven Organizational Growth and Efficiency at ZS\": {\n",
    "        \"Collaboration and Cross Functional\": [\"Cross-Functional Collaboration\"],\n",
    "        \"Team Management\": [\"Efficient Project Handling\", \"Culture of Accountability\"],\n",
    "        \"Lead\": [\"Stakeholder Influence\"]\n",
    "    }\n",
    "}\n"
   ]
  },
  {
   "cell_type": "code",
   "execution_count": 37,
   "metadata": {},
   "outputs": [],
   "source": [
    "experience_skills_mapping = {\"Aktana\":{\n",
    "    \"Contextual Intelligence Engine Development Aktana\": {\n",
    "        \"Machine Learning\": {\n",
    "            \"subcategories\":[\"ML Theory & Application\", \"ML Model Evaluation & Optimization\"],\n",
    "            \"weights\":20,},\n",
    "        \"Cloud, Containerization, ML Ops\": {\n",
    "            \"subcategories\":[\"Cloud Platforms\"],\n",
    "            \"weights\":30,},\n",
    "    },}}"
   ]
  },
  {
   "cell_type": "code",
   "execution_count": null,
   "metadata": {},
   "outputs": [],
   "source": [
    "experience_skills_mapping = {\n",
    "    \"Temenos\": {\n",
    "        \"Stakeholder Collaboration\": {\n",
    "            \"Communication\": {\n",
    "                \"subcategories\": [\"Effective Articulation\", \"Data Storytelling\"],\n",
    "                \"weights\": 20\n",
    "            },\n",
    "            \"Collaboration and Cross Functional\": {\n",
    "                \"subcategories\": [\"Cross-Functional Collaboration\", \"Teamwork for Innovation\"],\n",
    "                \"weights\": 20\n",
    "            }\n",
    "        },\n",
    "        \"Data Mining and Analysis\": {\n",
    "            \"Data Acquisition & Transformation\": {\n",
    "                \"subcategories\": [\"Data Infrastructure & Management\", \"Data Warehousing & Reporting\"],\n",
    "                \"weights\": 20\n",
    "            },\n",
    "            \"Analytics\": {\n",
    "                \"subcategories\": [\"Product Analytics\", \"Statistical Analysis\"],\n",
    "                \"weights\": 20\n",
    "            }\n",
    "        },\n",
    "        \"A/B Testing for UI\": {\n",
    "            \"Machine Learning\": {\n",
    "                \"subcategories\": [\"ML Techniques & Algorithms\"],\n",
    "                \"weights\": 20\n",
    "            },\n",
    "            \"Analytics\": {\n",
    "                \"subcategories\": [\"Product Analytics Strategy\"],\n",
    "                \"weights\": 20\n",
    "            },\n",
    "            \"Programming/Tools\": {\n",
    "                \"subcategories\": [\"Languages & Frameworks\"],\n",
    "                \"weights\": 20\n",
    "            }\n",
    "        },\n",
    "        \"Customer Segmentation and Pricing Strategy\": {\n",
    "            \"Machine Learning\": {\n",
    "                \"subcategories\": [\"ML Techniques & Algorithms\"],\n",
    "                \"weights\": 20\n",
    "            },\n",
    "            \"Analytics\": {\n",
    "                \"subcategories\": [\"Product Analytics\"],\n",
    "                \"weights\": 20\n",
    "            },\n",
    "            \"Business Strategy\": {\n",
    "                \"subcategories\": [\"Data-Driven Business Insights\"],\n",
    "                \"weights\": 20\n",
    "            }\n",
    "        },\n",
    "        \"Statistical and Mathematical Methodologies\": {\n",
    "            \"Machine Learning\": {\n",
    "                \"subcategories\": [\"ML Techniques & Algorithms\"],\n",
    "                \"weights\": 20\n",
    "            },\n",
    "            \"Statistics\": {\n",
    "                \"subcategories\": [\"Statistical Knowledge\", \"Statistical Specialized Techniques\"],\n",
    "                \"weights\": 20\n",
    "            }\n",
    "        },\n",
    "        \"Product Management Collaboration\": {\n",
    "            \"Collaboration and Cross Functional\": {\n",
    "                \"subcategories\": [\"Cross-Functional Collaboration\", \"Teamwork for Innovation\"],\n",
    "                \"weights\": 20\n",
    "            },\n",
    "            \"Business Strategy\": {\n",
    "                \"subcategories\": [\"Translating Business Needs\", \"Analytics Strategy Contribution\"],\n",
    "                \"weights\": 20\n",
    "            }\n",
    "        },\n",
    "        \"Database Analysis for Product Development\": {\n",
    "            \"Data Acquisition & Transformation\": {\n",
    "                \"subcategories\": [\"Data Infrastructure & Management\", \"Data Warehousing & Reporting\"],\n",
    "                \"weights\": 20\n",
    "            }\n",
    "        },\n",
    "        \"Advanced Testing Strategies Development\": {\n",
    "            \"Programming/Tools\": {\n",
    "                \"subcategories\": [\"Languages & Frameworks\"],\n",
    "                \"weights\": 20\n",
    "            },\n",
    "            \"Lead\": {\n",
    "                \"subcategories\": [\"Team Leadership\", \"Strategic Management\"],\n",
    "                \"weights\": 20\n",
    "            },\n",
    "            \"Team Management\": {\n",
    "                \"subcategories\": [\"Efficient Project Handling\", \"Culture of Accountability\"],\n",
    "                \"weights\": 20\n",
    "            }\n",
    "        }\n",
    "    },\n",
    "    \"Bristol Myers Squibb\": {\n",
    "        \"Logical Model Development\": {\n",
    "            \"Data Acquisition & Transformation\": {\n",
    "                \"subcategories\": [\"Data Infrastructure & Management\", \"Data Warehousing & Reporting\"],\n",
    "                \"weights\": 20\n",
    "            }\n",
    "        },\n",
    "        \"Analytics Report Development\": {\n",
    "            \"Visualization\": {\n",
    "                \"subcategories\": [\"Proficient in Tableau\", \"Matplotlib\"],\n",
    "                \"weights\": 20\n",
    "            },\n",
    "            \"Data Acquisition & Transformation\": {\n",
    "                \"subcategories\": [\"Data Warehousing & Reporting\"],\n",
    "                \"weights\": 20\n",
    "            }\n",
    "        },\n",
    "        \"Sales Data Processing Automation\": {\n",
    "            \"Programming/Tools\": {\n",
    "                \"subcategories\": [\"Languages & Frameworks\"],\n",
    "                \"weights\": 20\n",
    "            },\n",
    "            \"Data Acquisition & Transformation\": {\n",
    "                \"subcategories\": [\"Data Infrastructure & Management\", \"SQL Expertise\"],\n",
    "                \"weights\": 20\n",
    "            }\n",
    "        },\n",
    "        \"Automated Reporting System Development\": {\n",
    "            \"Programming/Tools\": {\n",
    "                \"subcategories\": [\"Web Technologies & Systems\"],\n",
    "                \"weights\": 20\n",
    "            },\n",
    "            \"Data Acquisition & Transformation\": {\n",
    "                \"subcategories\": [\"Data Infrastructure & Management\"],\n",
    "                \"weights\": 20\n",
    "            }\n",
    "        },\n",
    "        \"Operational Reporting in Tableau\": {\n",
    "            \"Visualization\": {\n",
    "                \"subcategories\": [\"Proficient in Tableau\"],\n",
    "                \"weights\": 20\n",
    "            }\n",
    "        },\n",
    "        \"Client Engagement Analysis\": {\n",
    "            \"Analytics\": {\n",
    "                \"subcategories\": [\"Product Analytics\", \"Statistical Analysis\"],\n",
    "                \"weights\": 20\n",
    "            },\n",
    "            \"Communication\": {\n",
    "                \"subcategories\": [\"Effective Articulation\", \"Data Storytelling\"],\n",
    "                \"weights\": 20\n",
    "            }\n",
    "        },\n",
    "        \"Dashboard Performance Enhancement\": {\n",
    "            \"Visualization\": {\n",
    "                \"subcategories\": [\"Proficient in Tableau\"],\n",
    "                \"weights\": 20\n",
    "            },\n",
    "            \"Programming/Tools\": {\n",
    "                \"subcategories\": [\"Languages & Frameworks\"],\n",
    "                \"weights\": 20\n",
    "            }\n",
    "        },\n",
    "        \"ETL Infrastructure Engineering\": {\n",
    "            \"Cloud, Containerization, ML Ops\": {\n",
    "                \"subcategories\": [\"Cloud Platforms\"],\n",
    "                \"weights\": 20\n",
    "            },\n",
    "            \"Data Acquisition & Transformation\": {\n",
    "                \"subcategories\": [\"Data Infrastructure & Management\"],\n",
    "                \"weights\": 20\n",
    "            }\n",
    "        },\n",
    "        \"Geographic Sales Data Analysis\": {\n",
    "            \"Machine Learning\": {\n",
    "                \"subcategories\": [\"ML Techniques & Algorithms\"],\n",
    "                \"weights\": 20\n",
    "            },\n",
    "            \"Analytics\": {\n",
    "                \"subcategories\": [\"Product Analytics\"],\n",
    "                \"weights\": 20\n",
    "            }\n",
    "        }\n",
    "    },"
   ]
  },
  {
   "cell_type": "code",
   "execution_count": 20,
   "metadata": {},
   "outputs": [],
   "source": [
    "experience_skills_mapping = {\n",
    "    \"Aktana\": {\n",
    "        \"Machine Learning\": [\"ML Theory & Application\", \"ML Model Evaluation & Optimization\", \"ML Techniques & Algorithms\"],\n",
    "        \"Cloud, Containerization, ML Ops\": [\"Cloud Platforms\"],\n",
    "        \"Business Strategy\": [\"Data-Driven Business Insights\"],\n",
    "        \"GenAI and NLP\": [\"GenAI\"],\n",
    "        \"Product and Business\": [\"Data-Driven Product Strategy\", \"Data Standards for Product Teams\", \"Data Evangelism in Product Development\"],\n",
    "        \"Programming/Tools\": [\"Languages & Frameworks\", \"Web Technologies & Systems\"],\n",
    "        \"Collaboration and Cross Functional\": [\"Cross-Functional Collaboration\", \"Teamwork for Innovation\"],\n",
    "        \"Statistics\": [\"Statistical Knowledge\", \"Statistical Specialized Techniques\"],\n",
    "        \"Team Management\": [\"Efficient Project Handling\", \"Talent Development\"],\n",
    "    },\n",
    "\n",
    "    # Existing mappings for Temenos and Bristol Myers Squibb\n",
    "    \"Temenos\": {\n",
    "        \"Communication\": [\"Effective Articulation\", \"Data Storytelling\"],\n",
    "        \"Collaboration and Cross Functional\": [\"Cross-Functional Collaboration\", \"Teamwork for Innovation\"],\n",
    "        \"Data Acquisition & Transformation\": [\"Data Infrastructure & Management\", \"Data Warehousing & Reporting\"],\n",
    "        \"Analytics\": [\"Product Analytics\", \"Statistical Analysis\", \"Product Analytics Strategy\"],\n",
    "        \"Machine Learning\": [\"ML Techniques & Algorithms\"],\n",
    "        \"Business Strategy\": [\"Data-Driven Business Insights\"],\n",
    "        \"Programming/Tools\": [\"Languages & Frameworks\"],\n",
    "        \"Team Management\": [\"Efficient Project Handling\", \"Culture of Accountability\"],\n",
    "        \"Statistics\": [\"Statistical Knowledge\", \"Statistical Specialized Techniques\"],\n",
    "    },\n",
    "\n",
    "    \"Bristol Myers Squibb\": {\n",
    "        \"Data Acquisition & Transformation\": [\"Data Infrastructure & Management\", \"Data Warehousing & Reporting\", \"SQL Expertise\"],\n",
    "        \"Visualization\": [\"Proficient in Tableau\", \"Matplotlib\"],\n",
    "        \"Programming/Tools\": [\"Languages & Frameworks\", \"Web Technologies & Systems\"],\n",
    "        \"Analytics\": [\"Product Analytics\", \"Statistical Analysis\"],\n",
    "        \"Communication\": [\"Effective Articulation\", \"Data Storytelling\"],\n",
    "        \"Cloud, Containerization, ML Ops\": [\"Cloud Platforms\"],\n",
    "        \"Machine Learning\": [\"ML Techniques & Algorithms\"],\n",
    "    }\n",
    "}\n"
   ]
  },
  {
   "cell_type": "code",
   "execution_count": 35,
   "metadata": {},
   "outputs": [
    {
     "data": {
      "application/vnd.plotly.v1+json": {
       "config": {
        "plotlyServerURL": "https://plot.ly"
       },
       "data": [
        {
         "link": {
          "source": [
           0,
           1,
           1,
           0,
           4,
           0,
           6,
           8,
           9,
           9,
           8,
           1,
           8,
           4,
           13,
           1,
           13,
           14,
           13,
           6,
           13,
           16,
           18,
           1,
           1,
           18,
           19,
           19,
           18,
           22,
           22,
           18,
           16,
           16,
           27,
           1,
           1,
           27,
           28,
           28,
           27,
           31,
           31,
           34,
           6,
           6,
           34,
           37,
           37,
           34,
           31,
           31,
           42,
           43,
           43,
           42,
           22,
           22,
           46,
           9,
           9,
           46,
           47,
           47,
           50,
           1,
           50,
           47,
           50,
           19,
           52,
           1,
           52,
           47,
           52,
           6,
           53,
           1,
           53,
           28,
           28,
           54,
           22,
           22,
           54,
           6,
           6,
           55,
           9,
           9,
           56,
           19,
           56,
           37,
           37,
           56,
           31,
           31,
           58,
           9,
           9,
           59,
           60,
           60,
           59,
           9,
           63,
           19,
           63,
           9,
           9,
           65,
           19,
           65,
           9,
           66,
           60,
           67,
           47,
           47,
           67,
           43,
           43,
           68,
           60,
           68,
           19,
           69,
           4,
           69,
           9,
           70,
           1,
           70,
           47,
           71,
           72,
           72,
           71,
           14,
           71,
           1,
           1,
           71,
           9,
           76,
           28,
           76,
           1,
           76,
           47,
           76,
           6,
           77,
           1,
           77,
           19,
           77,
           6,
           78,
           19,
           19,
           78,
           1,
           78,
           28,
           80,
           22,
           80,
           31,
           31,
           80,
           37
          ],
          "target": [
           1,
           2,
           3,
           4,
           5,
           6,
           7,
           9,
           10,
           11,
           1,
           12,
           4,
           5,
           1,
           12,
           14,
           15,
           6,
           7,
           16,
           17,
           1,
           2,
           3,
           19,
           20,
           21,
           22,
           23,
           24,
           16,
           25,
           26,
           1,
           2,
           3,
           28,
           29,
           30,
           31,
           32,
           33,
           6,
           35,
           36,
           37,
           38,
           39,
           31,
           40,
           41,
           43,
           44,
           45,
           22,
           23,
           24,
           9,
           10,
           11,
           47,
           48,
           49,
           1,
           12,
           47,
           51,
           19,
           20,
           1,
           12,
           47,
           48,
           6,
           7,
           1,
           12,
           28,
           29,
           30,
           22,
           23,
           24,
           6,
           35,
           36,
           9,
           10,
           11,
           19,
           20,
           37,
           38,
           39,
           31,
           32,
           57,
           9,
           10,
           11,
           60,
           61,
           62,
           9,
           11,
           19,
           20,
           9,
           10,
           64,
           19,
           21,
           9,
           10,
           60,
           61,
           47,
           48,
           49,
           43,
           44,
           45,
           60,
           61,
           19,
           20,
           4,
           5,
           9,
           10,
           1,
           12,
           47,
           48,
           72,
           73,
           74,
           14,
           15,
           1,
           2,
           3,
           9,
           75,
           28,
           30,
           1,
           12,
           47,
           51,
           6,
           7,
           1,
           12,
           19,
           20,
           6,
           35,
           19,
           20,
           79,
           1,
           12,
           28,
           29,
           22,
           23,
           31,
           32,
           57,
           37,
           81
          ],
          "value": [
           2,
           1,
           1,
           2,
           1,
           2,
           1,
           2,
           1,
           1,
           2,
           1,
           2,
           1,
           2,
           1,
           2,
           1,
           2,
           1,
           2,
           1,
           2,
           1,
           1,
           2,
           1,
           1,
           2,
           1,
           1,
           2,
           1,
           1,
           2,
           1,
           1,
           2,
           1,
           1,
           2,
           1,
           1,
           2,
           1,
           1,
           2,
           1,
           1,
           2,
           1,
           1,
           2,
           1,
           1,
           2,
           1,
           1,
           2,
           1,
           1,
           2,
           1,
           1,
           2,
           1,
           2,
           1,
           2,
           1,
           2,
           1,
           2,
           1,
           2,
           1,
           2,
           1,
           2,
           1,
           1,
           2,
           1,
           1,
           2,
           1,
           1,
           2,
           1,
           1,
           2,
           1,
           2,
           1,
           1,
           2,
           1,
           1,
           2,
           1,
           1,
           2,
           1,
           1,
           2,
           1,
           2,
           1,
           2,
           1,
           1,
           2,
           1,
           2,
           1,
           2,
           1,
           2,
           1,
           1,
           2,
           1,
           1,
           2,
           1,
           2,
           1,
           2,
           1,
           2,
           1,
           2,
           1,
           2,
           1,
           2,
           1,
           1,
           2,
           1,
           2,
           1,
           1,
           2,
           1,
           2,
           1,
           2,
           1,
           2,
           1,
           2,
           1,
           2,
           1,
           2,
           1,
           2,
           1,
           2,
           1,
           1,
           2,
           1,
           2,
           1,
           2,
           1,
           2,
           1,
           1,
           2,
           1
          ]
         },
         "node": {
          "label": [
           "Contextual Intelligence Engine Development",
           "Machine Learning",
           "ML Theory & Application",
           "ML Model Evaluation & Optimization",
           "Cloud, Containerization, ML Ops",
           "Cloud Platforms",
           "Business Strategy",
           "Data-Driven Business Insights",
           "Machine Learning and Analytics Data Platform Integration",
           "Data Acquisition & Transformation",
           "Data Infrastructure & Management",
           "Data Warehousing & Reporting",
           "ML Techniques & Algorithms",
           "Neural Network-Based Channel Propensity Models Development",
           "GenAI and NLP",
           "GenAI",
           "Product and Business",
           "Data-Driven Product Strategy",
           "No-Code Automated Machine Learning Platform Development",
           "Programming/Tools",
           "Languages & Frameworks",
           "Web Technologies & Systems",
           "Collaboration and Cross Functional",
           "Cross-Functional Collaboration",
           "Teamwork for Innovation",
           "Data Standards for Product Teams",
           "Data Evangelism in Product Development",
           "Statistical and Machine Learning Solutions Implementation and Maintenance",
           "Statistics",
           "Statistical Knowledge",
           "Statistical Specialized Techniques",
           "Team Management",
           "Efficient Project Handling",
           "Talent Development",
           "Technical Vision and Strategy Influencing for Engineering Teams",
           "Translating Business Needs",
           "Analytics Strategy Contribution",
           "Lead",
           "Team Leadership",
           "Strategic Management",
           "Global Team Management",
           "Decision-Making and Negotiation",
           "Stakeholder Collaboration at Temenos",
           "Communication",
           "Effective Articulation",
           "Data Storytelling",
           "Data Mining and Analysis at Temenos",
           "Analytics",
           "Product Analytics",
           "Statistical Analysis",
           "A/B Testing for UI at Temenos",
           "Product Analytics Strategy",
           "Customer Segmentation and Pricing Strategy at Temenos",
           "Statistical and Mathematical Methodologies at Temenos",
           "Product Management Collaboration at Temenos",
           "Database Analysis for Product Development at Temenos",
           "Advanced Testing Strategies Development at Temenos",
           "Culture of Accountability",
           "Logical Model Development at Bristol Myers Squibb",
           "Analytics Report Development at Bristol Myers Squibb",
           "Visualization",
           "Proficient in Tableau",
           "Matplotlib",
           "Sales Data Processing Automation at Bristol Myers Squibb",
           "SQL Expertise",
           "Automated Reporting System Development at Bristol Myers Squibb",
           "Operational Reporting in Tableau at Bristol Myers Squibb",
           "Client Engagement Analysis at Bristol Myers Squibb",
           "Dashboard Performance Enhancement at Bristol Myers Squibb",
           "ETL Infrastructure Engineering at Bristol Myers Squibb",
           "Geographic Sales Data Analysis at Bristol Myers Squibb",
           "CNNs and LLMs for User Interaction Analysis at ZS",
           "Deep Learning",
           "DL Frameworks & Techniques",
           "DL Model Types",
           "Mining with NLP",
           "Multi-channel Optimization and Experimentation at ZS",
           "Machine Learning Strategy Translation at ZS",
           "Data Analysis and Interpretation at ZS",
           "Advanced Data Handling",
           "Data-Driven Organizational Growth and Efficiency at ZS",
           "Stakeholder Influence"
          ],
          "line": {
           "color": "black",
           "width": 0.8
          },
          "pad": 20,
          "thickness": 20
         },
         "type": "sankey"
        }
       ],
       "layout": {
        "font": {
         "size": 10
        },
        "height": 800,
        "template": {
         "data": {
          "bar": [
           {
            "error_x": {
             "color": "#2a3f5f"
            },
            "error_y": {
             "color": "#2a3f5f"
            },
            "marker": {
             "line": {
              "color": "#E5ECF6",
              "width": 0.5
             },
             "pattern": {
              "fillmode": "overlay",
              "size": 10,
              "solidity": 0.2
             }
            },
            "type": "bar"
           }
          ],
          "barpolar": [
           {
            "marker": {
             "line": {
              "color": "#E5ECF6",
              "width": 0.5
             },
             "pattern": {
              "fillmode": "overlay",
              "size": 10,
              "solidity": 0.2
             }
            },
            "type": "barpolar"
           }
          ],
          "carpet": [
           {
            "aaxis": {
             "endlinecolor": "#2a3f5f",
             "gridcolor": "white",
             "linecolor": "white",
             "minorgridcolor": "white",
             "startlinecolor": "#2a3f5f"
            },
            "baxis": {
             "endlinecolor": "#2a3f5f",
             "gridcolor": "white",
             "linecolor": "white",
             "minorgridcolor": "white",
             "startlinecolor": "#2a3f5f"
            },
            "type": "carpet"
           }
          ],
          "choropleth": [
           {
            "colorbar": {
             "outlinewidth": 0,
             "ticks": ""
            },
            "type": "choropleth"
           }
          ],
          "contour": [
           {
            "colorbar": {
             "outlinewidth": 0,
             "ticks": ""
            },
            "colorscale": [
             [
              0,
              "#0d0887"
             ],
             [
              0.1111111111111111,
              "#46039f"
             ],
             [
              0.2222222222222222,
              "#7201a8"
             ],
             [
              0.3333333333333333,
              "#9c179e"
             ],
             [
              0.4444444444444444,
              "#bd3786"
             ],
             [
              0.5555555555555556,
              "#d8576b"
             ],
             [
              0.6666666666666666,
              "#ed7953"
             ],
             [
              0.7777777777777778,
              "#fb9f3a"
             ],
             [
              0.8888888888888888,
              "#fdca26"
             ],
             [
              1,
              "#f0f921"
             ]
            ],
            "type": "contour"
           }
          ],
          "contourcarpet": [
           {
            "colorbar": {
             "outlinewidth": 0,
             "ticks": ""
            },
            "type": "contourcarpet"
           }
          ],
          "heatmap": [
           {
            "colorbar": {
             "outlinewidth": 0,
             "ticks": ""
            },
            "colorscale": [
             [
              0,
              "#0d0887"
             ],
             [
              0.1111111111111111,
              "#46039f"
             ],
             [
              0.2222222222222222,
              "#7201a8"
             ],
             [
              0.3333333333333333,
              "#9c179e"
             ],
             [
              0.4444444444444444,
              "#bd3786"
             ],
             [
              0.5555555555555556,
              "#d8576b"
             ],
             [
              0.6666666666666666,
              "#ed7953"
             ],
             [
              0.7777777777777778,
              "#fb9f3a"
             ],
             [
              0.8888888888888888,
              "#fdca26"
             ],
             [
              1,
              "#f0f921"
             ]
            ],
            "type": "heatmap"
           }
          ],
          "heatmapgl": [
           {
            "colorbar": {
             "outlinewidth": 0,
             "ticks": ""
            },
            "colorscale": [
             [
              0,
              "#0d0887"
             ],
             [
              0.1111111111111111,
              "#46039f"
             ],
             [
              0.2222222222222222,
              "#7201a8"
             ],
             [
              0.3333333333333333,
              "#9c179e"
             ],
             [
              0.4444444444444444,
              "#bd3786"
             ],
             [
              0.5555555555555556,
              "#d8576b"
             ],
             [
              0.6666666666666666,
              "#ed7953"
             ],
             [
              0.7777777777777778,
              "#fb9f3a"
             ],
             [
              0.8888888888888888,
              "#fdca26"
             ],
             [
              1,
              "#f0f921"
             ]
            ],
            "type": "heatmapgl"
           }
          ],
          "histogram": [
           {
            "marker": {
             "pattern": {
              "fillmode": "overlay",
              "size": 10,
              "solidity": 0.2
             }
            },
            "type": "histogram"
           }
          ],
          "histogram2d": [
           {
            "colorbar": {
             "outlinewidth": 0,
             "ticks": ""
            },
            "colorscale": [
             [
              0,
              "#0d0887"
             ],
             [
              0.1111111111111111,
              "#46039f"
             ],
             [
              0.2222222222222222,
              "#7201a8"
             ],
             [
              0.3333333333333333,
              "#9c179e"
             ],
             [
              0.4444444444444444,
              "#bd3786"
             ],
             [
              0.5555555555555556,
              "#d8576b"
             ],
             [
              0.6666666666666666,
              "#ed7953"
             ],
             [
              0.7777777777777778,
              "#fb9f3a"
             ],
             [
              0.8888888888888888,
              "#fdca26"
             ],
             [
              1,
              "#f0f921"
             ]
            ],
            "type": "histogram2d"
           }
          ],
          "histogram2dcontour": [
           {
            "colorbar": {
             "outlinewidth": 0,
             "ticks": ""
            },
            "colorscale": [
             [
              0,
              "#0d0887"
             ],
             [
              0.1111111111111111,
              "#46039f"
             ],
             [
              0.2222222222222222,
              "#7201a8"
             ],
             [
              0.3333333333333333,
              "#9c179e"
             ],
             [
              0.4444444444444444,
              "#bd3786"
             ],
             [
              0.5555555555555556,
              "#d8576b"
             ],
             [
              0.6666666666666666,
              "#ed7953"
             ],
             [
              0.7777777777777778,
              "#fb9f3a"
             ],
             [
              0.8888888888888888,
              "#fdca26"
             ],
             [
              1,
              "#f0f921"
             ]
            ],
            "type": "histogram2dcontour"
           }
          ],
          "mesh3d": [
           {
            "colorbar": {
             "outlinewidth": 0,
             "ticks": ""
            },
            "type": "mesh3d"
           }
          ],
          "parcoords": [
           {
            "line": {
             "colorbar": {
              "outlinewidth": 0,
              "ticks": ""
             }
            },
            "type": "parcoords"
           }
          ],
          "pie": [
           {
            "automargin": true,
            "type": "pie"
           }
          ],
          "scatter": [
           {
            "fillpattern": {
             "fillmode": "overlay",
             "size": 10,
             "solidity": 0.2
            },
            "type": "scatter"
           }
          ],
          "scatter3d": [
           {
            "line": {
             "colorbar": {
              "outlinewidth": 0,
              "ticks": ""
             }
            },
            "marker": {
             "colorbar": {
              "outlinewidth": 0,
              "ticks": ""
             }
            },
            "type": "scatter3d"
           }
          ],
          "scattercarpet": [
           {
            "marker": {
             "colorbar": {
              "outlinewidth": 0,
              "ticks": ""
             }
            },
            "type": "scattercarpet"
           }
          ],
          "scattergeo": [
           {
            "marker": {
             "colorbar": {
              "outlinewidth": 0,
              "ticks": ""
             }
            },
            "type": "scattergeo"
           }
          ],
          "scattergl": [
           {
            "marker": {
             "colorbar": {
              "outlinewidth": 0,
              "ticks": ""
             }
            },
            "type": "scattergl"
           }
          ],
          "scattermapbox": [
           {
            "marker": {
             "colorbar": {
              "outlinewidth": 0,
              "ticks": ""
             }
            },
            "type": "scattermapbox"
           }
          ],
          "scatterpolar": [
           {
            "marker": {
             "colorbar": {
              "outlinewidth": 0,
              "ticks": ""
             }
            },
            "type": "scatterpolar"
           }
          ],
          "scatterpolargl": [
           {
            "marker": {
             "colorbar": {
              "outlinewidth": 0,
              "ticks": ""
             }
            },
            "type": "scatterpolargl"
           }
          ],
          "scatterternary": [
           {
            "marker": {
             "colorbar": {
              "outlinewidth": 0,
              "ticks": ""
             }
            },
            "type": "scatterternary"
           }
          ],
          "surface": [
           {
            "colorbar": {
             "outlinewidth": 0,
             "ticks": ""
            },
            "colorscale": [
             [
              0,
              "#0d0887"
             ],
             [
              0.1111111111111111,
              "#46039f"
             ],
             [
              0.2222222222222222,
              "#7201a8"
             ],
             [
              0.3333333333333333,
              "#9c179e"
             ],
             [
              0.4444444444444444,
              "#bd3786"
             ],
             [
              0.5555555555555556,
              "#d8576b"
             ],
             [
              0.6666666666666666,
              "#ed7953"
             ],
             [
              0.7777777777777778,
              "#fb9f3a"
             ],
             [
              0.8888888888888888,
              "#fdca26"
             ],
             [
              1,
              "#f0f921"
             ]
            ],
            "type": "surface"
           }
          ],
          "table": [
           {
            "cells": {
             "fill": {
              "color": "#EBF0F8"
             },
             "line": {
              "color": "white"
             }
            },
            "header": {
             "fill": {
              "color": "#C8D4E3"
             },
             "line": {
              "color": "white"
             }
            },
            "type": "table"
           }
          ]
         },
         "layout": {
          "annotationdefaults": {
           "arrowcolor": "#2a3f5f",
           "arrowhead": 0,
           "arrowwidth": 1
          },
          "autotypenumbers": "strict",
          "coloraxis": {
           "colorbar": {
            "outlinewidth": 0,
            "ticks": ""
           }
          },
          "colorscale": {
           "diverging": [
            [
             0,
             "#8e0152"
            ],
            [
             0.1,
             "#c51b7d"
            ],
            [
             0.2,
             "#de77ae"
            ],
            [
             0.3,
             "#f1b6da"
            ],
            [
             0.4,
             "#fde0ef"
            ],
            [
             0.5,
             "#f7f7f7"
            ],
            [
             0.6,
             "#e6f5d0"
            ],
            [
             0.7,
             "#b8e186"
            ],
            [
             0.8,
             "#7fbc41"
            ],
            [
             0.9,
             "#4d9221"
            ],
            [
             1,
             "#276419"
            ]
           ],
           "sequential": [
            [
             0,
             "#0d0887"
            ],
            [
             0.1111111111111111,
             "#46039f"
            ],
            [
             0.2222222222222222,
             "#7201a8"
            ],
            [
             0.3333333333333333,
             "#9c179e"
            ],
            [
             0.4444444444444444,
             "#bd3786"
            ],
            [
             0.5555555555555556,
             "#d8576b"
            ],
            [
             0.6666666666666666,
             "#ed7953"
            ],
            [
             0.7777777777777778,
             "#fb9f3a"
            ],
            [
             0.8888888888888888,
             "#fdca26"
            ],
            [
             1,
             "#f0f921"
            ]
           ],
           "sequentialminus": [
            [
             0,
             "#0d0887"
            ],
            [
             0.1111111111111111,
             "#46039f"
            ],
            [
             0.2222222222222222,
             "#7201a8"
            ],
            [
             0.3333333333333333,
             "#9c179e"
            ],
            [
             0.4444444444444444,
             "#bd3786"
            ],
            [
             0.5555555555555556,
             "#d8576b"
            ],
            [
             0.6666666666666666,
             "#ed7953"
            ],
            [
             0.7777777777777778,
             "#fb9f3a"
            ],
            [
             0.8888888888888888,
             "#fdca26"
            ],
            [
             1,
             "#f0f921"
            ]
           ]
          },
          "colorway": [
           "#636efa",
           "#EF553B",
           "#00cc96",
           "#ab63fa",
           "#FFA15A",
           "#19d3f3",
           "#FF6692",
           "#B6E880",
           "#FF97FF",
           "#FECB52"
          ],
          "font": {
           "color": "#2a3f5f"
          },
          "geo": {
           "bgcolor": "white",
           "lakecolor": "white",
           "landcolor": "#E5ECF6",
           "showlakes": true,
           "showland": true,
           "subunitcolor": "white"
          },
          "hoverlabel": {
           "align": "left"
          },
          "hovermode": "closest",
          "mapbox": {
           "style": "light"
          },
          "paper_bgcolor": "white",
          "plot_bgcolor": "#E5ECF6",
          "polar": {
           "angularaxis": {
            "gridcolor": "white",
            "linecolor": "white",
            "ticks": ""
           },
           "bgcolor": "#E5ECF6",
           "radialaxis": {
            "gridcolor": "white",
            "linecolor": "white",
            "ticks": ""
           }
          },
          "scene": {
           "xaxis": {
            "backgroundcolor": "#E5ECF6",
            "gridcolor": "white",
            "gridwidth": 2,
            "linecolor": "white",
            "showbackground": true,
            "ticks": "",
            "zerolinecolor": "white"
           },
           "yaxis": {
            "backgroundcolor": "#E5ECF6",
            "gridcolor": "white",
            "gridwidth": 2,
            "linecolor": "white",
            "showbackground": true,
            "ticks": "",
            "zerolinecolor": "white"
           },
           "zaxis": {
            "backgroundcolor": "#E5ECF6",
            "gridcolor": "white",
            "gridwidth": 2,
            "linecolor": "white",
            "showbackground": true,
            "ticks": "",
            "zerolinecolor": "white"
           }
          },
          "shapedefaults": {
           "line": {
            "color": "#2a3f5f"
           }
          },
          "ternary": {
           "aaxis": {
            "gridcolor": "white",
            "linecolor": "white",
            "ticks": ""
           },
           "baxis": {
            "gridcolor": "white",
            "linecolor": "white",
            "ticks": ""
           },
           "bgcolor": "#E5ECF6",
           "caxis": {
            "gridcolor": "white",
            "linecolor": "white",
            "ticks": ""
           }
          },
          "title": {
           "x": 0.05
          },
          "xaxis": {
           "automargin": true,
           "gridcolor": "white",
           "linecolor": "white",
           "ticks": "",
           "title": {
            "standoff": 15
           },
           "zerolinecolor": "white",
           "zerolinewidth": 2
          },
          "yaxis": {
           "automargin": true,
           "gridcolor": "white",
           "linecolor": "white",
           "ticks": "",
           "title": {
            "standoff": 15
           },
           "zerolinecolor": "white",
           "zerolinewidth": 2
          }
         }
        },
        "title": {
         "text": "Experience Skills Mapping Sankey Diagram"
        },
        "width": 1200
       }
      }
     },
     "metadata": {},
     "output_type": "display_data"
    }
   ],
   "source": [
    "import plotly.graph_objects as go\n",
    "\n",
    "\n",
    "# Initialize lists for Sankey diagram\n",
    "labels = []\n",
    "source = []\n",
    "target = []\n",
    "value = []\n",
    "\n",
    "# Assign a weight for connections (can be adjusted as needed)\n",
    "connection_weight = 1\n",
    "\n",
    "# Function to add label and return its index\n",
    "def add_label(label):\n",
    "    if label not in labels:\n",
    "        labels.append(label)\n",
    "    return labels.index(label)\n",
    "\n",
    "# Populate labels, source, target, and value lists\n",
    "for experience, categories in experience_skills_mapping.items():\n",
    "    experience_index = add_label(experience)\n",
    "    for category, sub_categories in categories.items():\n",
    "        category_index = add_label(category)\n",
    "        source.append(experience_index)\n",
    "        target.append(category_index)\n",
    "        value.append(connection_weight+1) # Weight for experience to category\n",
    "\n",
    "        for sub_category in sub_categories:\n",
    "            sub_category_index = add_label(sub_category)\n",
    "            source.append(category_index)\n",
    "            target.append(sub_category_index)\n",
    "            value.append(connection_weight) # Weight for category to sub-category\n",
    "\n",
    "# Create the Sankey diagram\n",
    "fig = go.Figure(data=[go.Sankey(\n",
    "    node=dict(\n",
    "      pad=20,\n",
    "      thickness=20,\n",
    "      line=dict(color=\"black\", width=0.8),\n",
    "      label=labels\n",
    "    ),\n",
    "    link=dict(\n",
    "      source=source,\n",
    "      target=target,\n",
    "      value=value\n",
    "    ))])\n",
    "\n",
    "# Update the layout with a larger figure size\n",
    "fig.update_layout(\n",
    "    title_text=\"Experience Skills Mapping Sankey Diagram\",\n",
    "    font_size=10,\n",
    "    width=1200,  # Width of the figure in pixels\n",
    "    height=800   # Height of the figure in pixels\n",
    ")\n",
    "\n",
    "fig.show()\n"
   ]
  },
  {
   "cell_type": "code",
   "execution_count": 52,
   "metadata": {},
   "outputs": [],
   "source": [
    "experience_skills_mapping = {\n",
    "    \"Aktana\": {\n",
    "        \"Machine Learning\": {\n",
    "            \"Subcategories\": [\"ML Theory & Application\", \"ML Model Evaluation & Optimization\", \"ML Techniques & Algorithms\"],\n",
    "            \"Weight\": 30\n",
    "        },\n",
    "        \"Cloud, Containerization, ML Ops\": {\n",
    "            \"Subcategories\": [\"Cloud Platforms\"],\n",
    "            \"Weight\": 30\n",
    "        },\n",
    "        \"Business Strategy\": {\n",
    "            \"Subcategories\": [\"Data-Driven Business Insights\"],\n",
    "            \"Weight\": 15\n",
    "        },\n",
    "        \"GenAI and NLP\": {\n",
    "            \"Subcategories\": [\"GenAI\"],\n",
    "            \"Weight\": 10\n",
    "        },\n",
    "        \"Product and Business\": {\n",
    "            \"Subcategories\": [\"Data-Driven Product Strategy\", \"Data Standards for Product Teams\", \"Data Evangelism in Product Development\"],\n",
    "            \"Weight\": 20\n",
    "        },\n",
    "        \"Programming/Tools\": {\n",
    "            \"Subcategories\": [\"Languages & Frameworks\", \"Web Technologies & Systems\"],\n",
    "            \"Weight\": 25\n",
    "        },\n",
    "        \"Collaboration and Cross Functional\": {\n",
    "            \"Subcategories\": [\"Cross-Functional Collaboration\", \"Teamwork for Innovation\"],\n",
    "            \"Weight\": 15\n",
    "        },\n",
    "        \"Statistics\": {\n",
    "            \"Subcategories\": [\"Statistical Knowledge\", \"Statistical Specialized Techniques\"],\n",
    "            \"Weight\": 10\n",
    "        },\n",
    "        \"Team Management\": {\n",
    "            \"Subcategories\": [\"Efficient Project Handling\", \"Talent Development\"],\n",
    "            \"Weight\": 10\n",
    "        },\n",
    "        \"Deep Learning\": {\n",
    "        \"Subcategories\": [\"DL Frameworks & Techniques\", \"DL Model Types\"],\n",
    "        \"Weight\": 15\n",
    "        },\n",
    "    },\n",
    "    \"Temenos\": {\n",
    "        \"Communication\": {\n",
    "            \"Subcategories\": [\"Effective Articulation\", \"Data Storytelling\"],\n",
    "            \"Weight\": 15\n",
    "        },\n",
    "        \"Collaboration and Cross Functional\": {\n",
    "            \"Subcategories\": [\"Cross-Functional Collaboration\", \"Teamwork for Innovation\"],\n",
    "            \"Weight\": 20\n",
    "        },\n",
    "        \"Data Acquisition & Transformation\": {\n",
    "            \"Subcategories\": [\"Data Infrastructure & Management\", \"Data Warehousing & Reporting\"],\n",
    "            \"Weight\": 25\n",
    "        },\n",
    "        \"Analytics\": {\n",
    "            \"Subcategories\": [\"Product Analytics\", \"Statistical Analysis\", \"Product Analytics Strategy\"],\n",
    "            \"Weight\": 30\n",
    "        },\n",
    "        \"Business Strategy\": {\n",
    "            \"Subcategories\": [\"Data-Driven Business Insights\"],\n",
    "            \"Weight\": 10\n",
    "        },\n",
    "        \"Programming/Tools\": {\n",
    "            \"Subcategories\": [\"Languages & Frameworks\"],\n",
    "            \"Weight\": 10\n",
    "        },\n",
    "        \"Team Management\": {\n",
    "            \"Subcategories\": [\"Efficient Project Handling\", \"Culture of Accountability\"],\n",
    "            \"Weight\": 5\n",
    "        },\n",
    "        \"Statistics\": {\n",
    "            \"Subcategories\": [\"Statistical Knowledge\", \"Statistical Specialized Techniques\"],\n",
    "            \"Weight\": 15\n",
    "        },\n",
    "    },\n",
    "    \"Bristol Myers Squibb\": {\n",
    "        \"Data Acquisition & Transformation\": {\n",
    "            \"Subcategories\": [\"Data Infrastructure & Management\", \"Data Warehousing & Reporting\", \"SQL Expertise\"],\n",
    "            \"Weight\": 30\n",
    "        },\n",
    "        \"Visualization\": {\n",
    "            \"Subcategories\": [\"Proficient in Tableau\", \"Matplotlib\"],\n",
    "            \"Weight\": 20\n",
    "        },\n",
    "        \"Programming/Tools\": {\n",
    "            \"Subcategories\": [\"Languages & Frameworks\", \"Web Technologies & Systems\"],\n",
    "            \"Weight\": 15\n",
    "        },\n",
    "        \"Analytics\": {\n",
    "            \"Subcategories\": [\"Product Analytics\", \"Statistical Analysis\"],\n",
    "            \"Weight\": 25\n",
    "        },\n",
    "        \"Communication\": {\n",
    "            \"Subcategories\": [\"Effective Articulation\", \"Data Storytelling\"],\n",
    "            \"Weight\": 10\n",
    "        },\n",
    "        \"Cloud, Containerization, ML Ops\": {\n",
    "            \"Subcategories\": [\"Cloud Platforms\"],\n",
    "            \"Weight\": 10\n",
    "        },\n",
    "        \"Machine Learning\": {\n",
    "            \"Subcategories\": [\"ML Techniques & Algorithms\"],\n",
    "            \"Weight\": 20\n",
    "        },\n",
    "    },\n",
    "    \"ZS\": {\n",
    "        \"CNNs and LLMs for User Interaction Analysis at ZS\": {\n",
    "            \"Deep Learning\": {\n",
    "                \"subcategories\": [\"DL Frameworks & Techniques\", \"DL Model Types\"],\n",
    "                \"weights\": 20\n",
    "            },\n",
    "            \"GenAI and NLP\": {\n",
    "                \"subcategories\": [\"GenAI\"],\n",
    "                \"weights\": 15\n",
    "            },\n",
    "            \"Machine Learning\": {\n",
    "                \"subcategories\": [\"ML Theory & Application\", \"ML Model Evaluation & Optimization\"],\n",
    "                \"weights\": 25\n",
    "            },\n",
    "            \"Data Acquisition & Transformation\": {\n",
    "                \"subcategories\": [\"Mining with NLP\"],\n",
    "                \"weights\": 10\n",
    "            }\n",
    "        },\n",
    "        \"Multi-channel Optimization and Experimentation at ZS\": {\n",
    "            \"Statistics\": {\n",
    "                \"subcategories\": [\"Statistical Specialized Techniques\"],\n",
    "                \"weights\": 15\n",
    "            },\n",
    "            \"Machine Learning\": {\n",
    "                \"subcategories\": [\"ML Techniques & Algorithms\"],\n",
    "                \"weights\": 20\n",
    "            },\n",
    "            \"Analytics\": {\n",
    "                \"subcategories\": [\"Product Analytics Strategy\"],\n",
    "                \"weights\": 15\n",
    "            },\n",
    "            \"Business Strategy\": {\n",
    "                \"subcategories\": [\"Data-Driven Business Insights\"],\n",
    "                \"weights\": 20\n",
    "            }\n",
    "        },\n",
    "        \"Machine Learning Strategy Translation at ZS\": {\n",
    "            \"Machine Learning\": {\n",
    "                \"subcategories\": [\"ML Techniques & Algorithms\"],\n",
    "                \"weights\": 25\n",
    "            },\n",
    "            \"Programming/Tools\": {\n",
    "                \"subcategories\": [\"Languages & Frameworks\"],\n",
    "                \"weights\": 15\n",
    "            },\n",
    "            \"Business Strategy\": {\n",
    "                \"subcategories\": [\"Translating Business Needs\"],\n",
    "                \"weights\": 10\n",
    "            }\n",
    "        },\n",
    "        \"Data Analysis and Interpretation at ZS\": {\n",
    "            \"Programming/Tools\": {\n",
    "                \"subcategories\": [\"Languages & Frameworks\", \"Advanced Data Handling\"],\n",
    "                \"weights\": 20\n",
    "            },\n",
    "            \"Machine Learning\": {\n",
    "                \"subcategories\": [\"ML Techniques & Algorithms\"],\n",
    "                \"weights\": 20\n",
    "            },\n",
    "            \"Statistics\": {\n",
    "                \"subcategories\": [\"Statistical Knowledge\"],\n",
    "                \"weights\": 10\n",
    "            }\n",
    "        },\n",
    "        \"Data-Driven Organizational Growth and Efficiency at ZS\": {\n",
    "            \"Collaboration and Cross Functional\": {\n",
    "                \"subcategories\": [\"Cross-Functional Collaboration\"],\n",
    "                \"weights\": 20\n",
    "            },\n",
    "            \"Team Management\": {\n",
    "                \"subcategories\": [\"Efficient Project Handling\", \"Culture of Accountability\"],\n",
    "                \"weights\": 15\n",
    "            },\n",
    "            \"Lead\": {\n",
    "                \"subcategories\": [\"Stakeholder Influence\"],\n",
    "                \"weights\": 15\n",
    "            }\n",
    "        }\n",
    "    }\n",
    "}\n"
   ]
  },
  {
   "cell_type": "code",
   "execution_count": 53,
   "metadata": {},
   "outputs": [
    {
     "ename": "KeyError",
     "evalue": "'Weight'",
     "output_type": "error",
     "traceback": [
      "\u001b[0;31m---------------------------------------------------------------------------\u001b[0m",
      "\u001b[0;31mKeyError\u001b[0m                                  Traceback (most recent call last)",
      "Cell \u001b[0;32mIn[53], line 22\u001b[0m\n\u001b[1;32m     20\u001b[0m source\u001b[39m.\u001b[39mappend(experience_index)\n\u001b[1;32m     21\u001b[0m target\u001b[39m.\u001b[39mappend(category_index)\n\u001b[0;32m---> 22\u001b[0m value\u001b[39m.\u001b[39mappend(details[\u001b[39m\"\u001b[39;49m\u001b[39mWeight\u001b[39;49m\u001b[39m\"\u001b[39;49m])  \u001b[39m# Weight for experience to category connection\u001b[39;00m\n\u001b[1;32m     24\u001b[0m \u001b[39mfor\u001b[39;00m sub_category \u001b[39min\u001b[39;00m details[\u001b[39m\"\u001b[39m\u001b[39mSubcategories\u001b[39m\u001b[39m\"\u001b[39m]:\n\u001b[1;32m     25\u001b[0m     sub_category_index \u001b[39m=\u001b[39m add_label(sub_category)\n",
      "\u001b[0;31mKeyError\u001b[0m: 'Weight'"
     ]
    }
   ],
   "source": [
    "import plotly.graph_objects as go\n",
    "\n",
    "# Initialize lists for Sankey diagram\n",
    "labels = []\n",
    "source = []\n",
    "target = []\n",
    "value = []\n",
    "\n",
    "# Function to add label and return its index\n",
    "def add_label(label):\n",
    "    if label not in labels:\n",
    "        labels.append(label)\n",
    "    return labels.index(label)\n",
    "\n",
    "# Populate labels, source, target, and value lists\n",
    "for experience, categories in experience_skills_mapping.items():\n",
    "    experience_index = add_label(experience)\n",
    "    for category, details in categories.items():\n",
    "        category_index = add_label(category)\n",
    "        source.append(experience_index)\n",
    "        target.append(category_index)\n",
    "        value.append(details[\"Weight\"])  # Weight for experience to category connection\n",
    "\n",
    "        for sub_category in details[\"Subcategories\"]:\n",
    "            sub_category_index = add_label(sub_category)\n",
    "            source.append(category_index)\n",
    "            target.append(sub_category_index)\n",
    "            value.append(details[\"Weight\"])  # Weight for category to sub-category connection\n",
    "\n",
    "# Create the Sankey diagram\n",
    "fig = go.Figure(data=[go.Sankey(\n",
    "    node=dict(\n",
    "      pad=15,\n",
    "      thickness=20,\n",
    "      line=dict(color=\"black\", width=0.5),\n",
    "      label=labels\n",
    "    ),\n",
    "    link=dict(\n",
    "      source=source,\n",
    "      target=target,\n",
    "      value=value\n",
    "    ))])\n",
    "\n",
    "# Update the layout with a larger figure size\n",
    "fig.update_layout(\n",
    "    title_text=\"Experience Skills Mapping Sankey Diagram\",\n",
    "    font_size=12,\n",
    "    width=1200,  # Width of the figure in pixels\n",
    "    height=600   # Height of the figure in pixels\n",
    ")\n",
    "\n",
    "fig.show()\n"
   ]
  },
  {
   "cell_type": "code",
   "execution_count": 95,
   "metadata": {},
   "outputs": [
    {
     "data": {
      "application/vnd.plotly.v1+json": {
       "config": {
        "plotlyServerURL": "https://plot.ly"
       },
       "data": [
        {
         "link": {
          "color": [
           "#60f2bb",
           "#74c833",
           "#60f2bb",
           "#244a5d",
           "#60f2bb",
           "#83970c",
           "#60f2bb",
           "#83970c",
           "#60f2bb",
           "#a94f85",
           "#a94f85",
           "#60f2bb",
           "#8b2ff7",
           "#8b2ff7",
           "#60f2bb",
           "#74c833",
           "#60f2bb",
           "#244a5d",
           "#60f2bb",
           "#9b2b11",
           "#60f2bb",
           "#6e4a9c",
           "#6e4a9c",
           "#60f2bb",
           "#244a5d",
           "#244a5d",
           "#60f2bb",
           "#6e4a9c",
           "#6e4a9c",
           "#60f2bb",
           "#2f4e86",
           "#2f4e86",
           "#60f2bb",
           "#9b2b11",
           "#9b2b11",
           "#60f2bb",
           "#d4362e",
           "#d4362e",
           "#60f2bb",
           "#2f4e86",
           "#2f4e86",
           "#60f2bb",
           "#74c833",
           "#60f2bb",
           "#f2f6ce",
           "#f2f6ce",
           "#992828",
           "#4e19ae",
           "#4e19ae",
           "#992828",
           "#6e4a9c",
           "#992828",
           "#83970c",
           "#992828",
           "#6e4a9c",
           "#992828",
           "#244a5d",
           "#244a5d",
           "#992828",
           "#d4362e",
           "#d4362e",
           "#992828",
           "#4e19ae",
           "#992828",
           "#83970c",
           "#992828",
           "#cccccc",
           "#992828",
           "#6e4a9c",
           "#992828",
           "#74c833",
           "#992828",
           "#244a5d",
           "#992828",
           "#6e4a9c",
           "#6e4a9c",
           "#992828",
           "#4e19ae",
           "#992828",
           "#83970c",
           "#992828",
           "#6e4a9c",
           "#6e4a9c",
           "#0fdd99",
           "#701f7e",
           "#701f7e",
           "#0fdd99",
           "#09e842",
           "#0fdd99",
           "#74c833",
           "#74c833",
           "#0fdd99",
           "#6e4a9c",
           "#0fdd99",
           "#83970c",
           "#83970c",
           "#0fdd99",
           "#74c833",
           "#0fdd99",
           "#f2f6ce",
           "#0fdd99",
           "#2f4e86",
           "#0fdd99",
           "#8b2ff7",
           "#8b2ff7",
           "#0fdd99",
           "#a94f85",
           "#0fdd99",
           "#74c833",
           "#0fdd99",
           "#83970c",
           "#0fdd99",
           "#9b2b11",
           "#0fdd99",
           "#f2f6ce",
           "#0fdd99",
           "#74c833",
           "#0fdd99",
           "#244a5d",
           "#0fdd99",
           "#9b2b11",
           "#b505f7",
           "#74c833",
           "#74c833",
           "#b505f7",
           "#cccccc",
           "#b505f7",
           "#9b2b11",
           "#b505f7",
           "#6e4a9c",
           "#6e4a9c",
           "#b505f7",
           "#74c833",
           "#b505f7",
           "#cccccc",
           "#b505f7",
           "#74c833",
           "#b505f7",
           "#09e842",
           "#b505f7",
           "#9b2b11",
           "#b505f7",
           "#c6f0e4",
           "#b505f7",
           "#74c833",
           "#74c833",
           "#b505f7",
           "#83970c",
           "#83970c",
           "#b505f7",
           "#2f4e86",
           "#2f4e86",
           "#b505f7",
           "#c6f0e4",
           "#c6f0e4",
           "#b505f7",
           "#74c833",
           "#74c833",
           "#b505f7",
           "#f2f6ce",
           "#f2f6ce",
           "#b505f7",
           "#8b2ff7",
           "#8b2ff7",
           "#b505f7",
           "#9b2b11",
           "#9b2b11",
           "#b505f7",
           "#a94f85",
           "#a94f85",
           "#b505f7",
           "#8b2ff7",
           "#8b2ff7"
          ],
          "source": [
           0,
           2,
           0,
           4,
           0,
           6,
           0,
           6,
           0,
           9,
           9,
           0,
           12,
           12,
           0,
           2,
           0,
           4,
           0,
           17,
           0,
           20,
           20,
           0,
           4,
           4,
           0,
           20,
           20,
           0,
           26,
           26,
           0,
           17,
           17,
           0,
           32,
           32,
           0,
           26,
           26,
           0,
           2,
           0,
           36,
           36,
           39,
           41,
           41,
           39,
           20,
           39,
           6,
           39,
           20,
           39,
           4,
           4,
           39,
           32,
           32,
           39,
           41,
           39,
           6,
           39,
           49,
           39,
           20,
           39,
           2,
           39,
           4,
           39,
           20,
           20,
           39,
           41,
           39,
           6,
           39,
           20,
           20,
           56,
           58,
           58,
           56,
           61,
           56,
           2,
           2,
           56,
           20,
           56,
           6,
           6,
           56,
           2,
           56,
           36,
           56,
           26,
           56,
           12,
           12,
           56,
           9,
           56,
           2,
           56,
           6,
           56,
           17,
           56,
           36,
           56,
           2,
           56,
           4,
           56,
           17,
           72,
           2,
           2,
           72,
           49,
           72,
           17,
           72,
           20,
           20,
           72,
           2,
           72,
           49,
           72,
           2,
           72,
           61,
           72,
           17,
           72,
           76,
           72,
           2,
           2,
           72,
           6,
           6,
           72,
           26,
           26,
           72,
           76,
           76,
           72,
           2,
           2,
           72,
           36,
           36,
           72,
           12,
           12,
           72,
           17,
           17,
           72,
           9,
           9,
           72,
           12,
           12
          ],
          "target": [
           2,
           3,
           4,
           5,
           6,
           7,
           6,
           7,
           9,
           10,
           11,
           12,
           13,
           14,
           2,
           3,
           4,
           16,
           17,
           18,
           20,
           21,
           22,
           4,
           16,
           23,
           20,
           21,
           22,
           26,
           27,
           28,
           17,
           29,
           30,
           32,
           33,
           34,
           26,
           27,
           28,
           2,
           3,
           36,
           37,
           38,
           41,
           42,
           43,
           20,
           22,
           6,
           45,
           20,
           21,
           4,
           16,
           23,
           32,
           33,
           34,
           41,
           42,
           6,
           7,
           49,
           50,
           20,
           21,
           2,
           3,
           4,
           16,
           20,
           21,
           22,
           41,
           42,
           6,
           7,
           20,
           21,
           55,
           58,
           59,
           60,
           61,
           62,
           2,
           63,
           64,
           20,
           65,
           6,
           7,
           67,
           2,
           3,
           36,
           37,
           26,
           27,
           12,
           13,
           14,
           9,
           69,
           2,
           3,
           6,
           7,
           17,
           29,
           36,
           38,
           2,
           3,
           4,
           5,
           17,
           18,
           2,
           63,
           64,
           49,
           50,
           17,
           18,
           20,
           21,
           22,
           2,
           3,
           49,
           50,
           2,
           3,
           61,
           62,
           17,
           18,
           76,
           77,
           2,
           63,
           64,
           6,
           7,
           45,
           26,
           27,
           28,
           76,
           79,
           80,
           2,
           63,
           64,
           36,
           37,
           38,
           12,
           13,
           82,
           17,
           29,
           30,
           9,
           10,
           11,
           12,
           84,
           85
          ],
          "value": [
           20,
           20,
           20,
           20,
           20,
           20,
           20,
           20,
           20,
           20,
           20,
           20,
           20,
           20,
           20,
           20,
           20,
           20,
           20,
           20,
           20,
           20,
           20,
           20,
           20,
           20,
           20,
           20,
           20,
           20,
           20,
           20,
           20,
           20,
           20,
           20,
           20,
           20,
           20,
           20,
           20,
           20,
           20,
           20,
           20,
           20,
           20,
           20,
           20,
           20,
           20,
           20,
           20,
           20,
           20,
           20,
           20,
           20,
           20,
           20,
           20,
           20,
           20,
           20,
           20,
           20,
           20,
           20,
           20,
           20,
           20,
           20,
           20,
           20,
           20,
           20,
           20,
           20,
           20,
           20,
           20,
           20,
           20,
           20,
           20,
           20,
           15,
           15,
           25,
           25,
           25,
           10,
           10,
           20,
           20,
           20,
           20,
           20,
           10,
           10,
           20,
           20,
           15,
           15,
           15,
           15,
           15,
           25,
           25,
           15,
           15,
           10,
           10,
           15,
           15,
           20,
           20,
           15,
           15,
           20,
           20,
           30,
           30,
           30,
           20,
           20,
           15,
           15,
           25,
           25,
           25,
           30,
           30,
           20,
           20,
           30,
           30,
           20,
           20,
           15,
           15,
           20,
           20,
           25,
           25,
           25,
           20,
           20,
           20,
           15,
           15,
           15,
           20,
           20,
           20,
           25,
           25,
           25,
           20,
           20,
           20,
           15,
           15,
           15,
           20,
           20,
           20,
           20,
           20,
           20,
           15,
           15,
           15
          ]
         },
         "node": {
          "label": [
           "Temenos",
           "A/B Testing for UI",
           "Machine Learning",
           "ML Techniques & Algorithms",
           "Analytics",
           "Product Analytics Strategy",
           "Programming/Tools",
           "Languages & Frameworks",
           "Advanced Testing Strategies Development",
           "Lead",
           "Team Leadership",
           "Strategic Management",
           "Team Management",
           "Efficient Project Handling",
           "Culture of Accountability",
           "Customer Segmentation and Pricing Strategy",
           "Product Analytics",
           "Business Strategy",
           "Data-Driven Business Insights",
           "Data Mining and Analysis",
           "Data Acquisition & Transformation",
           "Data Infrastructure & Management",
           "Data Warehousing & Reporting",
           "Statistical Analysis",
           "Database Analysis for Product Development",
           "Product Management Collaboration",
           "Collaboration and Cross Functional",
           "Cross-Functional Collaboration",
           "Teamwork for Innovation",
           "Translating Business Needs",
           "Analytics Strategy Contribution",
           "Stakeholder Collaboration",
           "Communication",
           "Effective Articulation",
           "Data Storytelling",
           "Statistical and Mathematical Methodologies",
           "Statistics",
           "Statistical Knowledge",
           "Statistical Specialized Techniques",
           "Bristol Myers Squibb",
           "Analytics Report Development",
           "Visualization",
           "Proficient in Tableau",
           "Matplotlib",
           "Automated Reporting System Development",
           "Web Technologies & Systems",
           "Client Engagement Analysis",
           "Dashboard Performance Enhancement",
           "ETL Infrastructure Engineering",
           "Cloud, Containerization, ML Ops",
           "Cloud Platforms",
           "Geographic Sales Data Analysis",
           "Logical Model Development",
           "Operational Reporting in Tableau",
           "Sales Data Processing Automation",
           "SQL Expertise",
           "ZS",
           "CNNs and LLMs for User Interaction Analysis at ZS",
           "Deep Learning",
           "DL Frameworks & Techniques",
           "DL Model Types",
           "GenAI and NLP",
           "GenAI",
           "ML Theory & Application",
           "ML Model Evaluation & Optimization",
           "Mining with NLP",
           "Data Analysis and Interpretation at ZS",
           "Advanced Data Handling",
           "Data-Driven Organizational Growth and Efficiency at ZS",
           "Stakeholder Influence",
           "Machine Learning Strategy Translation at ZS",
           "Multi-channel Optimization and Experimentation at ZS",
           "Aktana",
           "Contextual Intelligence Engine Development Aktana",
           "Machine Learning and Analytics Data Platform Integration Aktana",
           "Neural Network-Based Channel Propensity Models Development Aktana",
           "Product and Business",
           "Data-Driven Product Strategy",
           "No-Code Automated Machine Learning Platform Development Aktana",
           "Data Standards for Product Teams",
           "Data Evangelism in Product Development",
           "Statistical and Machine Learning Solutions Implementation and Maintenance Aktana",
           "Talent Development",
           "Technical Vision and Strategy Influencing for Engineering Teams Aktana",
           "Global Team Management",
           "Decision-Making and Negotiation"
          ],
          "line": {
           "color": "black",
           "width": 1
          },
          "pad": 15,
          "thickness": 20
         },
         "type": "sankey"
        }
       ],
       "layout": {
        "font": {
         "size": 12
        },
        "height": 800,
        "template": {
         "data": {
          "bar": [
           {
            "error_x": {
             "color": "#2a3f5f"
            },
            "error_y": {
             "color": "#2a3f5f"
            },
            "marker": {
             "line": {
              "color": "#E5ECF6",
              "width": 0.5
             },
             "pattern": {
              "fillmode": "overlay",
              "size": 10,
              "solidity": 0.2
             }
            },
            "type": "bar"
           }
          ],
          "barpolar": [
           {
            "marker": {
             "line": {
              "color": "#E5ECF6",
              "width": 0.5
             },
             "pattern": {
              "fillmode": "overlay",
              "size": 10,
              "solidity": 0.2
             }
            },
            "type": "barpolar"
           }
          ],
          "carpet": [
           {
            "aaxis": {
             "endlinecolor": "#2a3f5f",
             "gridcolor": "white",
             "linecolor": "white",
             "minorgridcolor": "white",
             "startlinecolor": "#2a3f5f"
            },
            "baxis": {
             "endlinecolor": "#2a3f5f",
             "gridcolor": "white",
             "linecolor": "white",
             "minorgridcolor": "white",
             "startlinecolor": "#2a3f5f"
            },
            "type": "carpet"
           }
          ],
          "choropleth": [
           {
            "colorbar": {
             "outlinewidth": 0,
             "ticks": ""
            },
            "type": "choropleth"
           }
          ],
          "contour": [
           {
            "colorbar": {
             "outlinewidth": 0,
             "ticks": ""
            },
            "colorscale": [
             [
              0,
              "#0d0887"
             ],
             [
              0.1111111111111111,
              "#46039f"
             ],
             [
              0.2222222222222222,
              "#7201a8"
             ],
             [
              0.3333333333333333,
              "#9c179e"
             ],
             [
              0.4444444444444444,
              "#bd3786"
             ],
             [
              0.5555555555555556,
              "#d8576b"
             ],
             [
              0.6666666666666666,
              "#ed7953"
             ],
             [
              0.7777777777777778,
              "#fb9f3a"
             ],
             [
              0.8888888888888888,
              "#fdca26"
             ],
             [
              1,
              "#f0f921"
             ]
            ],
            "type": "contour"
           }
          ],
          "contourcarpet": [
           {
            "colorbar": {
             "outlinewidth": 0,
             "ticks": ""
            },
            "type": "contourcarpet"
           }
          ],
          "heatmap": [
           {
            "colorbar": {
             "outlinewidth": 0,
             "ticks": ""
            },
            "colorscale": [
             [
              0,
              "#0d0887"
             ],
             [
              0.1111111111111111,
              "#46039f"
             ],
             [
              0.2222222222222222,
              "#7201a8"
             ],
             [
              0.3333333333333333,
              "#9c179e"
             ],
             [
              0.4444444444444444,
              "#bd3786"
             ],
             [
              0.5555555555555556,
              "#d8576b"
             ],
             [
              0.6666666666666666,
              "#ed7953"
             ],
             [
              0.7777777777777778,
              "#fb9f3a"
             ],
             [
              0.8888888888888888,
              "#fdca26"
             ],
             [
              1,
              "#f0f921"
             ]
            ],
            "type": "heatmap"
           }
          ],
          "heatmapgl": [
           {
            "colorbar": {
             "outlinewidth": 0,
             "ticks": ""
            },
            "colorscale": [
             [
              0,
              "#0d0887"
             ],
             [
              0.1111111111111111,
              "#46039f"
             ],
             [
              0.2222222222222222,
              "#7201a8"
             ],
             [
              0.3333333333333333,
              "#9c179e"
             ],
             [
              0.4444444444444444,
              "#bd3786"
             ],
             [
              0.5555555555555556,
              "#d8576b"
             ],
             [
              0.6666666666666666,
              "#ed7953"
             ],
             [
              0.7777777777777778,
              "#fb9f3a"
             ],
             [
              0.8888888888888888,
              "#fdca26"
             ],
             [
              1,
              "#f0f921"
             ]
            ],
            "type": "heatmapgl"
           }
          ],
          "histogram": [
           {
            "marker": {
             "pattern": {
              "fillmode": "overlay",
              "size": 10,
              "solidity": 0.2
             }
            },
            "type": "histogram"
           }
          ],
          "histogram2d": [
           {
            "colorbar": {
             "outlinewidth": 0,
             "ticks": ""
            },
            "colorscale": [
             [
              0,
              "#0d0887"
             ],
             [
              0.1111111111111111,
              "#46039f"
             ],
             [
              0.2222222222222222,
              "#7201a8"
             ],
             [
              0.3333333333333333,
              "#9c179e"
             ],
             [
              0.4444444444444444,
              "#bd3786"
             ],
             [
              0.5555555555555556,
              "#d8576b"
             ],
             [
              0.6666666666666666,
              "#ed7953"
             ],
             [
              0.7777777777777778,
              "#fb9f3a"
             ],
             [
              0.8888888888888888,
              "#fdca26"
             ],
             [
              1,
              "#f0f921"
             ]
            ],
            "type": "histogram2d"
           }
          ],
          "histogram2dcontour": [
           {
            "colorbar": {
             "outlinewidth": 0,
             "ticks": ""
            },
            "colorscale": [
             [
              0,
              "#0d0887"
             ],
             [
              0.1111111111111111,
              "#46039f"
             ],
             [
              0.2222222222222222,
              "#7201a8"
             ],
             [
              0.3333333333333333,
              "#9c179e"
             ],
             [
              0.4444444444444444,
              "#bd3786"
             ],
             [
              0.5555555555555556,
              "#d8576b"
             ],
             [
              0.6666666666666666,
              "#ed7953"
             ],
             [
              0.7777777777777778,
              "#fb9f3a"
             ],
             [
              0.8888888888888888,
              "#fdca26"
             ],
             [
              1,
              "#f0f921"
             ]
            ],
            "type": "histogram2dcontour"
           }
          ],
          "mesh3d": [
           {
            "colorbar": {
             "outlinewidth": 0,
             "ticks": ""
            },
            "type": "mesh3d"
           }
          ],
          "parcoords": [
           {
            "line": {
             "colorbar": {
              "outlinewidth": 0,
              "ticks": ""
             }
            },
            "type": "parcoords"
           }
          ],
          "pie": [
           {
            "automargin": true,
            "type": "pie"
           }
          ],
          "scatter": [
           {
            "fillpattern": {
             "fillmode": "overlay",
             "size": 10,
             "solidity": 0.2
            },
            "type": "scatter"
           }
          ],
          "scatter3d": [
           {
            "line": {
             "colorbar": {
              "outlinewidth": 0,
              "ticks": ""
             }
            },
            "marker": {
             "colorbar": {
              "outlinewidth": 0,
              "ticks": ""
             }
            },
            "type": "scatter3d"
           }
          ],
          "scattercarpet": [
           {
            "marker": {
             "colorbar": {
              "outlinewidth": 0,
              "ticks": ""
             }
            },
            "type": "scattercarpet"
           }
          ],
          "scattergeo": [
           {
            "marker": {
             "colorbar": {
              "outlinewidth": 0,
              "ticks": ""
             }
            },
            "type": "scattergeo"
           }
          ],
          "scattergl": [
           {
            "marker": {
             "colorbar": {
              "outlinewidth": 0,
              "ticks": ""
             }
            },
            "type": "scattergl"
           }
          ],
          "scattermapbox": [
           {
            "marker": {
             "colorbar": {
              "outlinewidth": 0,
              "ticks": ""
             }
            },
            "type": "scattermapbox"
           }
          ],
          "scatterpolar": [
           {
            "marker": {
             "colorbar": {
              "outlinewidth": 0,
              "ticks": ""
             }
            },
            "type": "scatterpolar"
           }
          ],
          "scatterpolargl": [
           {
            "marker": {
             "colorbar": {
              "outlinewidth": 0,
              "ticks": ""
             }
            },
            "type": "scatterpolargl"
           }
          ],
          "scatterternary": [
           {
            "marker": {
             "colorbar": {
              "outlinewidth": 0,
              "ticks": ""
             }
            },
            "type": "scatterternary"
           }
          ],
          "surface": [
           {
            "colorbar": {
             "outlinewidth": 0,
             "ticks": ""
            },
            "colorscale": [
             [
              0,
              "#0d0887"
             ],
             [
              0.1111111111111111,
              "#46039f"
             ],
             [
              0.2222222222222222,
              "#7201a8"
             ],
             [
              0.3333333333333333,
              "#9c179e"
             ],
             [
              0.4444444444444444,
              "#bd3786"
             ],
             [
              0.5555555555555556,
              "#d8576b"
             ],
             [
              0.6666666666666666,
              "#ed7953"
             ],
             [
              0.7777777777777778,
              "#fb9f3a"
             ],
             [
              0.8888888888888888,
              "#fdca26"
             ],
             [
              1,
              "#f0f921"
             ]
            ],
            "type": "surface"
           }
          ],
          "table": [
           {
            "cells": {
             "fill": {
              "color": "#EBF0F8"
             },
             "line": {
              "color": "white"
             }
            },
            "header": {
             "fill": {
              "color": "#C8D4E3"
             },
             "line": {
              "color": "white"
             }
            },
            "type": "table"
           }
          ]
         },
         "layout": {
          "annotationdefaults": {
           "arrowcolor": "#2a3f5f",
           "arrowhead": 0,
           "arrowwidth": 1
          },
          "autotypenumbers": "strict",
          "coloraxis": {
           "colorbar": {
            "outlinewidth": 0,
            "ticks": ""
           }
          },
          "colorscale": {
           "diverging": [
            [
             0,
             "#8e0152"
            ],
            [
             0.1,
             "#c51b7d"
            ],
            [
             0.2,
             "#de77ae"
            ],
            [
             0.3,
             "#f1b6da"
            ],
            [
             0.4,
             "#fde0ef"
            ],
            [
             0.5,
             "#f7f7f7"
            ],
            [
             0.6,
             "#e6f5d0"
            ],
            [
             0.7,
             "#b8e186"
            ],
            [
             0.8,
             "#7fbc41"
            ],
            [
             0.9,
             "#4d9221"
            ],
            [
             1,
             "#276419"
            ]
           ],
           "sequential": [
            [
             0,
             "#0d0887"
            ],
            [
             0.1111111111111111,
             "#46039f"
            ],
            [
             0.2222222222222222,
             "#7201a8"
            ],
            [
             0.3333333333333333,
             "#9c179e"
            ],
            [
             0.4444444444444444,
             "#bd3786"
            ],
            [
             0.5555555555555556,
             "#d8576b"
            ],
            [
             0.6666666666666666,
             "#ed7953"
            ],
            [
             0.7777777777777778,
             "#fb9f3a"
            ],
            [
             0.8888888888888888,
             "#fdca26"
            ],
            [
             1,
             "#f0f921"
            ]
           ],
           "sequentialminus": [
            [
             0,
             "#0d0887"
            ],
            [
             0.1111111111111111,
             "#46039f"
            ],
            [
             0.2222222222222222,
             "#7201a8"
            ],
            [
             0.3333333333333333,
             "#9c179e"
            ],
            [
             0.4444444444444444,
             "#bd3786"
            ],
            [
             0.5555555555555556,
             "#d8576b"
            ],
            [
             0.6666666666666666,
             "#ed7953"
            ],
            [
             0.7777777777777778,
             "#fb9f3a"
            ],
            [
             0.8888888888888888,
             "#fdca26"
            ],
            [
             1,
             "#f0f921"
            ]
           ]
          },
          "colorway": [
           "#636efa",
           "#EF553B",
           "#00cc96",
           "#ab63fa",
           "#FFA15A",
           "#19d3f3",
           "#FF6692",
           "#B6E880",
           "#FF97FF",
           "#FECB52"
          ],
          "font": {
           "color": "#2a3f5f"
          },
          "geo": {
           "bgcolor": "white",
           "lakecolor": "white",
           "landcolor": "#E5ECF6",
           "showlakes": true,
           "showland": true,
           "subunitcolor": "white"
          },
          "hoverlabel": {
           "align": "left"
          },
          "hovermode": "closest",
          "mapbox": {
           "style": "light"
          },
          "paper_bgcolor": "white",
          "plot_bgcolor": "#E5ECF6",
          "polar": {
           "angularaxis": {
            "gridcolor": "white",
            "linecolor": "white",
            "ticks": ""
           },
           "bgcolor": "#E5ECF6",
           "radialaxis": {
            "gridcolor": "white",
            "linecolor": "white",
            "ticks": ""
           }
          },
          "scene": {
           "xaxis": {
            "backgroundcolor": "#E5ECF6",
            "gridcolor": "white",
            "gridwidth": 2,
            "linecolor": "white",
            "showbackground": true,
            "ticks": "",
            "zerolinecolor": "white"
           },
           "yaxis": {
            "backgroundcolor": "#E5ECF6",
            "gridcolor": "white",
            "gridwidth": 2,
            "linecolor": "white",
            "showbackground": true,
            "ticks": "",
            "zerolinecolor": "white"
           },
           "zaxis": {
            "backgroundcolor": "#E5ECF6",
            "gridcolor": "white",
            "gridwidth": 2,
            "linecolor": "white",
            "showbackground": true,
            "ticks": "",
            "zerolinecolor": "white"
           }
          },
          "shapedefaults": {
           "line": {
            "color": "#2a3f5f"
           }
          },
          "ternary": {
           "aaxis": {
            "gridcolor": "white",
            "linecolor": "white",
            "ticks": ""
           },
           "baxis": {
            "gridcolor": "white",
            "linecolor": "white",
            "ticks": ""
           },
           "bgcolor": "#E5ECF6",
           "caxis": {
            "gridcolor": "white",
            "linecolor": "white",
            "ticks": ""
           }
          },
          "title": {
           "x": 0.05
          },
          "xaxis": {
           "automargin": true,
           "gridcolor": "white",
           "linecolor": "white",
           "ticks": "",
           "title": {
            "standoff": 15
           },
           "zerolinecolor": "white",
           "zerolinewidth": 2
          },
          "yaxis": {
           "automargin": true,
           "gridcolor": "white",
           "linecolor": "white",
           "ticks": "",
           "title": {
            "standoff": 15
           },
           "zerolinecolor": "white",
           "zerolinewidth": 2
          }
         }
        },
        "title": {
         "text": "Experience Skills Mapping Sankey Diagram"
        },
        "width": 1400
       }
      }
     },
     "metadata": {},
     "output_type": "display_data"
    }
   ],
   "source": [
    "\n",
    "\n",
    "\n",
    "\n",
    "\n",
    "# Your experience_skills_mapping dictionary remains the same\n",
    "experience_skills_mapping = {\n",
    "    \"Temenos\": {\n",
    "        \"Stakeholder Collaboration\": {\n",
    "            \"Communication\": {\n",
    "                \"Subcategories\": [\"Effective Articulation\", \"Data Storytelling\"],\n",
    "                \"Weight\": 20\n",
    "            },\n",
    "            \"Collaboration and Cross Functional\": {\n",
    "                \"Subcategories\": [\"Cross-Functional Collaboration\", \"Teamwork for Innovation\"],\n",
    "                \"Weight\": 20\n",
    "            }\n",
    "        },\n",
    "        \"Data Mining and Analysis\": {\n",
    "            \"Data Acquisition & Transformation\": {\n",
    "                \"Subcategories\": [\"Data Infrastructure & Management\", \"Data Warehousing & Reporting\"],\n",
    "                \"Weight\": 20\n",
    "            },\n",
    "            \"Analytics\": {\n",
    "                \"Subcategories\": [\"Product Analytics\", \"Statistical Analysis\"],\n",
    "                \"Weight\": 20\n",
    "            }\n",
    "        },\n",
    "        \"A/B Testing for UI\": {\n",
    "            \"Machine Learning\": {\n",
    "                \"Subcategories\": [\"ML Techniques & Algorithms\"],\n",
    "                \"Weight\": 20\n",
    "            },\n",
    "            \"Analytics\": {\n",
    "                \"Subcategories\": [\"Product Analytics Strategy\"],\n",
    "                \"Weight\": 20\n",
    "            },\n",
    "            \"Programming/Tools\": {\n",
    "                \"Subcategories\": [\"Languages & Frameworks\"],\n",
    "                \"Weight\": 20\n",
    "            }\n",
    "        },\n",
    "        \"Customer Segmentation and Pricing Strategy\": {\n",
    "            \"Machine Learning\": {\n",
    "                \"Subcategories\": [\"ML Techniques & Algorithms\"],\n",
    "                \"Weight\": 20\n",
    "            },\n",
    "            \"Analytics\": {\n",
    "                \"Subcategories\": [\"Product Analytics\"],\n",
    "                \"Weight\": 20\n",
    "            },\n",
    "            \"Business Strategy\": {\n",
    "                \"Subcategories\": [\"Data-Driven Business Insights\"],\n",
    "                \"Weight\": 20\n",
    "            }\n",
    "        },\n",
    "        \"Statistical and Mathematical Methodologies\": {\n",
    "            \"Machine Learning\": {\n",
    "                \"Subcategories\": [\"ML Techniques & Algorithms\"],\n",
    "                \"Weight\": 20\n",
    "            },\n",
    "            \"Statistics\": {\n",
    "                \"Subcategories\": [\"Statistical Knowledge\", \"Statistical Specialized Techniques\"],\n",
    "                \"Weight\": 20\n",
    "            }\n",
    "        },\n",
    "        \"Product Management Collaboration\": {\n",
    "            \"Collaboration and Cross Functional\": {\n",
    "                \"Subcategories\": [\"Cross-Functional Collaboration\", \"Teamwork for Innovation\"],\n",
    "                \"Weight\": 20\n",
    "            },\n",
    "            \"Business Strategy\": {\n",
    "                \"Subcategories\": [\"Translating Business Needs\", \"Analytics Strategy Contribution\"],\n",
    "                \"Weight\": 20\n",
    "            }\n",
    "        },\n",
    "        \"Database Analysis for Product Development\": {\n",
    "            \"Data Acquisition & Transformation\": {\n",
    "                \"Subcategories\": [\"Data Infrastructure & Management\", \"Data Warehousing & Reporting\"],\n",
    "                \"Weight\": 20\n",
    "            }\n",
    "        },\n",
    "        \"Advanced Testing Strategies Development\": {\n",
    "            \"Programming/Tools\": {\n",
    "                \"Subcategories\": [\"Languages & Frameworks\"],\n",
    "                \"Weight\": 20\n",
    "            },\n",
    "            \"Lead\": {\n",
    "                \"Subcategories\": [\"Team Leadership\", \"Strategic Management\"],\n",
    "                \"Weight\": 20\n",
    "            },\n",
    "            \"Team Management\": {\n",
    "                \"Subcategories\": [\"Efficient Project Handling\", \"Culture of Accountability\"],\n",
    "                \"Weight\": 20\n",
    "            }\n",
    "        }\n",
    "    },\n",
    "    \"Bristol Myers Squibb\": {\n",
    "        \"Logical Model Development\": {\n",
    "            \"Data Acquisition & Transformation\": {\n",
    "                \"Subcategories\": [\"Data Infrastructure & Management\", \"Data Warehousing & Reporting\"],\n",
    "                \"Weight\": 20\n",
    "            }\n",
    "        },\n",
    "        \"Analytics Report Development\": {\n",
    "            \"Visualization\": {\n",
    "                \"Subcategories\": [\"Proficient in Tableau\", \"Matplotlib\"],\n",
    "                \"Weight\": 20\n",
    "            },\n",
    "            \"Data Acquisition & Transformation\": {\n",
    "                \"Subcategories\": [\"Data Warehousing & Reporting\"],\n",
    "                \"Weight\": 20\n",
    "            }\n",
    "        },\n",
    "        \"Sales Data Processing Automation\": {\n",
    "            \"Programming/Tools\": {\n",
    "                \"Subcategories\": [\"Languages & Frameworks\"],\n",
    "                \"Weight\": 20\n",
    "            },\n",
    "            \"Data Acquisition & Transformation\": {\n",
    "                \"Subcategories\": [\"Data Infrastructure & Management\", \"SQL Expertise\"],\n",
    "                \"Weight\": 20\n",
    "            }\n",
    "        },\n",
    "        \"Automated Reporting System Development\": {\n",
    "            \"Programming/Tools\": {\n",
    "                \"Subcategories\": [\"Web Technologies & Systems\"],\n",
    "                \"Weight\": 20\n",
    "            },\n",
    "            \"Data Acquisition & Transformation\": {\n",
    "                \"Subcategories\": [\"Data Infrastructure & Management\"],\n",
    "                \"Weight\": 20\n",
    "            }\n",
    "        },\n",
    "        \"Operational Reporting in Tableau\": {\n",
    "            \"Visualization\": {\n",
    "                \"Subcategories\": [\"Proficient in Tableau\"],\n",
    "                \"Weight\": 20\n",
    "            }\n",
    "        },\n",
    "        \"Client Engagement Analysis\": {\n",
    "            \"Analytics\": {\n",
    "                \"Subcategories\": [\"Product Analytics\", \"Statistical Analysis\"],\n",
    "                \"Weight\": 20\n",
    "            },\n",
    "            \"Communication\": {\n",
    "                \"Subcategories\": [\"Effective Articulation\", \"Data Storytelling\"],\n",
    "                \"Weight\": 20\n",
    "            }\n",
    "        },\n",
    "        \"Dashboard Performance Enhancement\": {\n",
    "            \"Visualization\": {\n",
    "                \"Subcategories\": [\"Proficient in Tableau\"],\n",
    "                \"Weight\": 20\n",
    "            },\n",
    "            \"Programming/Tools\": {\n",
    "                \"Subcategories\": [\"Languages & Frameworks\"],\n",
    "                \"Weight\": 20\n",
    "            }\n",
    "        },\n",
    "        \"ETL Infrastructure Engineering\": {\n",
    "            \"Cloud, Containerization, ML Ops\": {\n",
    "                \"Subcategories\": [\"Cloud Platforms\"],\n",
    "                \"Weight\": 20\n",
    "            },\n",
    "            \"Data Acquisition & Transformation\": {\n",
    "                \"Subcategories\": [\"Data Infrastructure & Management\"],\n",
    "                \"Weight\": 20\n",
    "            }\n",
    "        },\n",
    "        \"Geographic Sales Data Analysis\": {\n",
    "            \"Machine Learning\": {\n",
    "                \"Subcategories\": [\"ML Techniques & Algorithms\"],\n",
    "                \"Weight\": 20\n",
    "            },\n",
    "            \"Analytics\": {\n",
    "                \"Subcategories\": [\"Product Analytics\"],\n",
    "                \"Weight\": 20\n",
    "            }\n",
    "        }\n",
    "    },\n",
    "    \"ZS\": {\n",
    "        \"CNNs and LLMs for User Interaction Analysis at ZS\": {\n",
    "            \"Deep Learning\": {\n",
    "                \"Subcategories\": [\"DL Frameworks & Techniques\", \"DL Model Types\"],\n",
    "                \"Weight\": 20\n",
    "            },\n",
    "            \"GenAI and NLP\": {\n",
    "                \"Subcategories\": [\"GenAI\"],\n",
    "                \"Weight\": 15\n",
    "            },\n",
    "            \"Machine Learning\": {\n",
    "                \"Subcategories\": [\"ML Theory & Application\", \"ML Model Evaluation & Optimization\"],\n",
    "                \"Weight\": 25\n",
    "            },\n",
    "            \"Data Acquisition & Transformation\": {\n",
    "                \"Subcategories\": [\"Mining with NLP\"],\n",
    "                \"Weight\": 10\n",
    "            }\n",
    "        },\n",
    "        \"Multi-channel Optimization and Experimentation at ZS\": {\n",
    "            \"Statistics\": {\n",
    "                \"Subcategories\": [\"Statistical Specialized Techniques\"],\n",
    "                \"Weight\": 15\n",
    "            },\n",
    "            \"Machine Learning\": {\n",
    "                \"Subcategories\": [\"ML Techniques & Algorithms\"],\n",
    "                \"Weight\": 20\n",
    "            },\n",
    "            \"Analytics\": {\n",
    "                \"Subcategories\": [\"Product Analytics Strategy\"],\n",
    "                \"Weight\": 15\n",
    "            },\n",
    "            \"Business Strategy\": {\n",
    "                \"Subcategories\": [\"Data-Driven Business Insights\"],\n",
    "                \"Weight\": 20\n",
    "            }\n",
    "        },\n",
    "        \"Machine Learning Strategy Translation at ZS\": {\n",
    "            \"Machine Learning\": {\n",
    "                \"Subcategories\": [\"ML Techniques & Algorithms\"],\n",
    "                \"Weight\": 25\n",
    "            },\n",
    "            \"Programming/Tools\": {\n",
    "                \"Subcategories\": [\"Languages & Frameworks\"],\n",
    "                \"Weight\": 15\n",
    "            },\n",
    "            \"Business Strategy\": {\n",
    "                \"Subcategories\": [\"Translating Business Needs\"],\n",
    "                \"Weight\": 10\n",
    "            }\n",
    "        },\n",
    "        \"Data Analysis and Interpretation at ZS\": {\n",
    "            \"Programming/Tools\": {\n",
    "                \"Subcategories\": [\"Languages & Frameworks\", \"Advanced Data Handling\"],\n",
    "                \"Weight\": 20\n",
    "            },\n",
    "            \"Machine Learning\": {\n",
    "                \"Subcategories\": [\"ML Techniques & Algorithms\"],\n",
    "                \"Weight\": 20\n",
    "            },\n",
    "            \"Statistics\": {\n",
    "                \"Subcategories\": [\"Statistical Knowledge\"],\n",
    "                \"Weight\": 10\n",
    "            }\n",
    "        },\n",
    "        \"Data-Driven Organizational Growth and Efficiency at ZS\": {\n",
    "            \"Collaboration and Cross Functional\": {\n",
    "                \"Subcategories\": [\"Cross-Functional Collaboration\"],\n",
    "                \"Weight\": 20\n",
    "            },\n",
    "            \"Team Management\": {\n",
    "                \"Subcategories\": [\"Efficient Project Handling\", \"Culture of Accountability\"],\n",
    "                \"Weight\": 15\n",
    "            },\n",
    "            \"Lead\": {\n",
    "                \"Subcategories\": [\"Stakeholder Influence\"],\n",
    "                \"Weight\": 15\n",
    "            }\n",
    "        }\n",
    "    },\n",
    "    \"Aktana\": {\n",
    "        \"Contextual Intelligence Engine Development Aktana\": {\n",
    "            \"Machine Learning\": {\n",
    "                \"Subcategories\": [\"ML Theory & Application\", \"ML Model Evaluation & Optimization\"],\n",
    "                \"Weight\": 30\n",
    "            },\n",
    "            \"Cloud, Containerization, ML Ops\": {\n",
    "                \"Subcategories\": [\"Cloud Platforms\"],\n",
    "                \"Weight\": 20\n",
    "            },\n",
    "            \"Business Strategy\": {\n",
    "                \"Subcategories\": [\"Data-Driven Business Insights\"],\n",
    "                \"Weight\": 15\n",
    "            }\n",
    "        },\n",
    "        \"Machine Learning and Analytics Data Platform Integration Aktana\": {\n",
    "            \"Data Acquisition & Transformation\": {\n",
    "                \"Subcategories\": [\"Data Infrastructure & Management\", \"Data Warehousing & Reporting\"],\n",
    "                \"Weight\": 25\n",
    "            },\n",
    "            \"Machine Learning\": {\n",
    "                \"Subcategories\": [\"ML Techniques & Algorithms\"],\n",
    "                \"Weight\": 30\n",
    "            },\n",
    "            \"Cloud, Containerization, ML Ops\": {\n",
    "                \"Subcategories\": [\"Cloud Platforms\"],\n",
    "                \"Weight\": 20\n",
    "            }\n",
    "        },\n",
    "        \"Neural Network-Based Channel Propensity Models Development Aktana\": {\n",
    "            \"Machine Learning\": {\n",
    "                \"Subcategories\": [\"ML Techniques & Algorithms\"],\n",
    "                \"Weight\": 30\n",
    "            },\n",
    "            \"GenAI and NLP\": {\n",
    "                \"Subcategories\": [\"GenAI\"],\n",
    "                \"Weight\": 20\n",
    "            },\n",
    "            \"Business Strategy\": {\n",
    "                \"Subcategories\": [\"Data-Driven Business Insights\"],\n",
    "                \"Weight\": 15\n",
    "            },\n",
    "            \"Product and Business\": {\n",
    "                \"Subcategories\": [\"Data-Driven Product Strategy\"],\n",
    "                \"Weight\": 20\n",
    "            }\n",
    "        },\n",
    "        \"No-Code Automated Machine Learning Platform Development Aktana\": {\n",
    "            \"Machine Learning\": {\n",
    "                \"Subcategories\": [\"ML Theory & Application\", \"ML Model Evaluation & Optimization\"],\n",
    "                \"Weight\": 25\n",
    "            },\n",
    "            \"Programming/Tools\": {\n",
    "                \"Subcategories\": [\"Languages & Frameworks\", \"Web Technologies & Systems\"],\n",
    "                \"Weight\": 20\n",
    "            },\n",
    "            \"Collaboration and Cross Functional\": {\n",
    "                \"Subcategories\": [\"Cross-Functional Collaboration\", \"Teamwork for Innovation\"],\n",
    "                \"Weight\": 15\n",
    "            },\n",
    "            \"Product and Business\": {\n",
    "                \"Subcategories\": [\"Data Standards for Product Teams\", \"Data Evangelism in Product Development\"],\n",
    "                \"Weight\": 20\n",
    "            }\n",
    "        },\n",
    "        \"Statistical and Machine Learning Solutions Implementation and Maintenance Aktana\": {\n",
    "            \"Machine Learning\": {\n",
    "                \"Subcategories\": [\"ML Theory & Application\", \"ML Model Evaluation & Optimization\"],\n",
    "                \"Weight\": 25\n",
    "            },\n",
    "            \"Statistics\": {\n",
    "                \"Subcategories\": [\"Statistical Knowledge\", \"Statistical Specialized Techniques\"],\n",
    "                \"Weight\": 20\n",
    "            },\n",
    "            \"Team Management\": {\n",
    "                \"Subcategories\": [\"Efficient Project Handling\", \"Talent Development\"],\n",
    "                \"Weight\": 15\n",
    "            }\n",
    "        },\n",
    "        \"Technical Vision and Strategy Influencing for Engineering Teams Aktana\": {\n",
    "            \"Business Strategy\": {\n",
    "                \"Subcategories\": [\"Translating Business Needs\", \"Analytics Strategy Contribution\"],\n",
    "                \"Weight\": 20\n",
    "            },\n",
    "            \"Lead\": {\n",
    "                \"Subcategories\": [\"Team Leadership\", \"Strategic Management\"],\n",
    "                \"Weight\": 20\n",
    "            },\n",
    "            \"Team Management\": {\n",
    "                \"Subcategories\": [\"Global Team Management\", \"Decision-Making and Negotiation\"],\n",
    "                \"Weight\": 15\n",
    "            }\n",
    "        }\n",
    "    }\n",
    "}\n",
    "\n",
    "# Sort the experiences within each company\n",
    "for company in experience_skills_mapping:\n",
    "    experience_skills_mapping[company] = dict(sorted(experience_skills_mapping[company].items()))\n",
    "\n",
    "import plotly.graph_objects as go\n",
    "\n",
    "# Initialize lists for Sankey diagram\n",
    "labels = []\n",
    "source = []\n",
    "target = []\n",
    "value = []\n",
    "\n",
    "# Flag to include the second level (experiences)\n",
    "include_second_level = False  # Set this to False if you want to exclude the second level\n",
    "\n",
    "# Function to add label and return its index\n",
    "def add_label(label):\n",
    "    if label not in labels:\n",
    "        labels.append(label)\n",
    "    return labels.index(label)\n",
    "\n",
    "# Function to process each subcategory\n",
    "def process_subcategory(experience_index, category_index, subcategories, weight):\n",
    "    for sub_category in subcategories:\n",
    "        sub_category_index = add_label(sub_category)\n",
    "        source.append(category_index)\n",
    "        target.append(sub_category_index)\n",
    "        value.append(weight)  # Weight for category to sub-category connection\n",
    "\n",
    "# Function to process each category\n",
    "def process_category(company_index, experience_index, categories, include_experience):\n",
    "    for category, details in categories.items():\n",
    "        category_index = add_label(category)\n",
    "        # Connect either the company or the experience to the category,\n",
    "        # depending on whether the second level is included\n",
    "        source_index = experience_index if include_experience else company_index\n",
    "        source.append(source_index)\n",
    "        target.append(category_index)\n",
    "        value.append(details[\"Weight\"])  # Weight for experience to category connection\n",
    "        # Process the subcategories\n",
    "        process_subcategory(experience_index, category_index, details[\"Subcategories\"], details[\"Weight\"])\n",
    "\n",
    "# Populate labels, source, target, and value lists\n",
    "for company, experiences in experience_skills_mapping.items():\n",
    "    company_index = add_label(company)\n",
    "    for experience, categories in experiences.items():\n",
    "        experience_index = add_label(experience)\n",
    "        if include_second_level:\n",
    "            # Connect the company to the experience\n",
    "            source.append(company_index)\n",
    "            target.append(experience_index)\n",
    "            experience_weight = sum(detail[\"Weight\"] for detail in categories.values())\n",
    "            value.append(experience_weight)  # Sum of weights for the experience\n",
    "        # Process each category within the experience\n",
    "        process_category(company_index, experience_index, categories, include_second_level)\n",
    "\n",
    "company_colors = {'Temenos': '#1f77b4',\n",
    " 'Bristol Myers Squibb': '#2ca02c',\n",
    " 'ZS': '#d62728',\n",
    " 'Aktana': '#9467bd',\n",
    " 'Communication': '#17becf',\n",
    " 'Collaboration and Cross Functional': '#9edae5',\n",
    " 'Data Acquisition & Transformation': '#7f7f7f',\n",
    " 'Analytics': '#ff7f0e',\n",
    " 'Machine Learning': '#ffbb78',\n",
    " 'Programming/Tools': '#c49c94',\n",
    " 'Business Strategy': '#e377c2',\n",
    " 'Statistics': '#f7b6d2',\n",
    " 'Visualization': '#c7c7c7',\n",
    " 'Deep Learning': '#c5b0d5',\n",
    " 'GenAI and NLP': '#8c564b',\n",
    " 'Lead': '#c49c94',\n",
    " 'Team Management': '#c7c7c7',\n",
    " 'Product and Business': '#dbdb8d',\n",
    " 'Data Infrastructure & Management': '#17becf',\n",
    " 'Data Warehousing & Reporting': '#9edae5',\n",
    " 'Product Analytics': '#ff7f0e',\n",
    " 'Statistical Analysis': '#ffbb78',\n",
    " 'Languages & Frameworks': '#c49c94',\n",
    " 'Web Technologies & Systems': '#e377c2',\n",
    " 'Data-Driven Business Insights': '#f7b6d2',\n",
    " 'Statistical Knowledge': '#c7c7c7',\n",
    " 'Statistical Specialized Techniques': '#c5b0d5',\n",
    " 'Effective Articulation': '#8c564b',\n",
    " 'Data Storytelling': '#c49c94',\n",
    " 'ML Techniques & Algorithms': '#c7c7c7',\n",
    " 'ML Theory & Application': '#dbdb8d',\n",
    " 'ML Model Evaluation & Optimization': '#17becf',\n",
    " 'DL Frameworks & Techniques': '#9edae5',\n",
    " 'DL Model Types': '#ff7f0e',\n",
    " 'GenAI': '#ffbb78',\n",
    " 'Cross-Functional Collaboration': '#c49c94',\n",
    " 'Teamwork for Innovation': '#e377c2',\n",
    " 'Translating Business Needs': '#f7b6d2',\n",
    " 'Analytics Strategy Contribution': '#c7c7c7',\n",
    " 'Efficient Project Handling': '#c5b0d5',\n",
    " 'Culture of Accountability': '#8c564b',\n",
    " 'Global Team Management': '#c49c94',\n",
    " 'Decision-Making and Negotiation': '#c7c7c7',\n",
    " 'Stakeholder Influence': '#dbdb8d',\n",
    " 'Data-Driven Product Strategy': '#17becf',\n",
    " 'Collaboration with UX Research': '#0000ff',\n",
    " 'Data Evangelism in Product Development': '#0100fe',\n",
    " 'Vision and Strategy for Product Expansion': '#0200fd',\n",
    " 'Adaptability and Flexibility': '#0300fc',\n",
    " 'Continuous Learning': '#0400fb',\n",
    " 'Inquisitive Nature': '#0500fa',\n",
    " 'Documentation and Knowledge Sharing': '#0600f9',\n",
    " 'Open Source and Community Involvement': '#0700f8',\n",
    " 'Democratization of Data': '#0800f7'}\n",
    "\n",
    "\n",
    "# Let's assign new gradient colors to all keys in the company_colors dictionary\n",
    "\n",
    "# First, get all the keys in the dictionary\n",
    "all_keys = list(company_colors.keys())\n",
    "\n",
    "# For this example, let's use three gradients\n",
    "gradients = {\n",
    "    'Gradient 1': ('blue', 'green'),\n",
    "    'Gradient 2': ('red', 'yellow'),\n",
    "    'Gradient 3': ('purple', 'orange')\n",
    "}\n",
    "import numpy as np\n",
    "from matplotlib import pyplot as plt\n",
    "import matplotlib.colors as mcolors\n",
    "\n",
    "# Since we want to assign a unique color to each key in the company_colors dictionary,\n",
    "# we'll generate a sufficient number of unique colors using the previously defined function.\n",
    "\n",
    "import random\n",
    "def generate_unique_colors(num_colors, seed=None):\n",
    "    \"\"\"\n",
    "    Generate a list of unique colors as hexadecimal values.\n",
    "    If a seed is given, the random colors generated will be the same every time.\n",
    "    \"\"\"\n",
    "    # If a seed is provided, use it to ensure reproducibility\n",
    "    if seed is not None:\n",
    "        np.random.seed(seed)\n",
    "        \n",
    "    # Generate random colors in RGB space\n",
    "    colors = np.random.rand(num_colors, 3)\n",
    "    \n",
    "    # Convert to hex\n",
    "    hex_colors = [mcolors.to_hex(color) for color in colors]\n",
    "    return hex_colors\n",
    "\n",
    "# Example usage:\n",
    "seed_value = 42  # Set the seed for reproducibility\n",
    "num_elements = len(company_colors)  # Replace with the actual number of elements you have\n",
    "unique_colors = generate_unique_colors(num_elements, seed=seed_value)\n",
    "\n",
    "# Assign the unique colors to each key in the company_colors dictionary\n",
    "for (key, _), color in zip(company_colors.items(), unique_colors):\n",
    "    company_colors[key] = color\n",
    "\n",
    "company_colors\n",
    "\n",
    "\n",
    "\n",
    "\n",
    "def get_link_color(source_index):\n",
    "    # Find the label for the given source index\n",
    "    label = labels[source_index]\n",
    "    # Return the corresponding color, default to a neutral color if not found\n",
    "    return company_colors.get(label, '#cccccc')\n",
    "\n",
    "# Create the Sankey diagram\n",
    "# Now, when creating the Sankey diagram, specify colors for links\n",
    "fig = go.Figure(data=[go.Sankey(\n",
    "    node=dict(\n",
    "        pad=15,\n",
    "        thickness=20,\n",
    "        line=dict(color='black', width=1),\n",
    "        label=labels\n",
    "    ),\n",
    "    link=dict(\n",
    "        source=source,\n",
    "        target=target,\n",
    "        value=value,\n",
    "        color=[get_link_color(s) for s in source]  # Assign colors based on source company\n",
    "    ))])\n",
    "\n",
    "\n",
    "# Update the layout with a larger figure size\n",
    "fig.update_layout(\n",
    "    title_text=\"Experience Skills Mapping Sankey Diagram\",\n",
    "    font_size=12,\n",
    "    width=1400,  # Width of the figure in pixels\n",
    "    height=800   # Height of the figure in pixels\n",
    ")\n",
    "\n",
    "fig.show()\n"
   ]
  },
  {
   "cell_type": "code",
   "execution_count": 101,
   "metadata": {},
   "outputs": [
    {
     "data": {
      "application/vnd.plotly.v1+json": {
       "config": {
        "plotlyServerURL": "https://plot.ly"
       },
       "data": [
        {
         "link": {
          "color": [
           "#60f2bb",
           "#74c833",
           "#60f2bb",
           "#244a5d",
           "#60f2bb",
           "#83970c",
           "#60f2bb",
           "#83970c",
           "#60f2bb",
           "#a94f85",
           "#a94f85",
           "#60f2bb",
           "#8b2ff7",
           "#8b2ff7",
           "#60f2bb",
           "#74c833",
           "#60f2bb",
           "#244a5d",
           "#60f2bb",
           "#9b2b11",
           "#60f2bb",
           "#6e4a9c",
           "#6e4a9c",
           "#60f2bb",
           "#244a5d",
           "#244a5d",
           "#60f2bb",
           "#6e4a9c",
           "#6e4a9c",
           "#60f2bb",
           "#2f4e86",
           "#2f4e86",
           "#60f2bb",
           "#9b2b11",
           "#9b2b11",
           "#60f2bb",
           "#d4362e",
           "#d4362e",
           "#60f2bb",
           "#2f4e86",
           "#2f4e86",
           "#60f2bb",
           "#74c833",
           "#60f2bb",
           "#f2f6ce",
           "#f2f6ce",
           "#992828",
           "#4e19ae",
           "#4e19ae",
           "#992828",
           "#6e4a9c",
           "#992828",
           "#83970c",
           "#992828",
           "#6e4a9c",
           "#992828",
           "#244a5d",
           "#244a5d",
           "#992828",
           "#d4362e",
           "#d4362e",
           "#992828",
           "#4e19ae",
           "#992828",
           "#83970c",
           "#992828",
           "#cccccc",
           "#992828",
           "#6e4a9c",
           "#992828",
           "#74c833",
           "#992828",
           "#244a5d",
           "#992828",
           "#6e4a9c",
           "#6e4a9c",
           "#992828",
           "#4e19ae",
           "#992828",
           "#83970c",
           "#992828",
           "#6e4a9c",
           "#6e4a9c",
           "#0fdd99",
           "#701f7e",
           "#701f7e",
           "#0fdd99",
           "#09e842",
           "#0fdd99",
           "#74c833",
           "#74c833",
           "#0fdd99",
           "#6e4a9c",
           "#0fdd99",
           "#83970c",
           "#83970c",
           "#0fdd99",
           "#74c833",
           "#0fdd99",
           "#f2f6ce",
           "#0fdd99",
           "#2f4e86",
           "#0fdd99",
           "#8b2ff7",
           "#8b2ff7",
           "#0fdd99",
           "#a94f85",
           "#0fdd99",
           "#74c833",
           "#0fdd99",
           "#83970c",
           "#0fdd99",
           "#9b2b11",
           "#0fdd99",
           "#f2f6ce",
           "#0fdd99",
           "#74c833",
           "#0fdd99",
           "#244a5d",
           "#0fdd99",
           "#9b2b11",
           "#b505f7",
           "#74c833",
           "#74c833",
           "#b505f7",
           "#cccccc",
           "#b505f7",
           "#9b2b11",
           "#b505f7",
           "#6e4a9c",
           "#6e4a9c",
           "#b505f7",
           "#74c833",
           "#b505f7",
           "#cccccc",
           "#b505f7",
           "#74c833",
           "#b505f7",
           "#09e842",
           "#b505f7",
           "#9b2b11",
           "#b505f7",
           "#c6f0e4",
           "#b505f7",
           "#74c833",
           "#74c833",
           "#b505f7",
           "#83970c",
           "#83970c",
           "#b505f7",
           "#2f4e86",
           "#2f4e86",
           "#b505f7",
           "#c6f0e4",
           "#c6f0e4",
           "#b505f7",
           "#74c833",
           "#74c833",
           "#b505f7",
           "#f2f6ce",
           "#f2f6ce",
           "#b505f7",
           "#8b2ff7",
           "#8b2ff7",
           "#b505f7",
           "#9b2b11",
           "#9b2b11",
           "#b505f7",
           "#a94f85",
           "#a94f85",
           "#b505f7",
           "#8b2ff7",
           "#8b2ff7"
          ],
          "hoverinfo": "all",
          "hovertemplate": "Source: %{source.label}<br>Target: %{target.label}<br>Value: %{value}<extra></extra>",
          "source": [
           0,
           2,
           0,
           4,
           0,
           6,
           0,
           6,
           0,
           9,
           9,
           0,
           12,
           12,
           0,
           2,
           0,
           4,
           0,
           17,
           0,
           20,
           20,
           0,
           4,
           4,
           0,
           20,
           20,
           0,
           26,
           26,
           0,
           17,
           17,
           0,
           32,
           32,
           0,
           26,
           26,
           0,
           2,
           0,
           36,
           36,
           39,
           41,
           41,
           39,
           20,
           39,
           6,
           39,
           20,
           39,
           4,
           4,
           39,
           32,
           32,
           39,
           41,
           39,
           6,
           39,
           49,
           39,
           20,
           39,
           2,
           39,
           4,
           39,
           20,
           20,
           39,
           41,
           39,
           6,
           39,
           20,
           20,
           56,
           58,
           58,
           56,
           61,
           56,
           2,
           2,
           56,
           20,
           56,
           6,
           6,
           56,
           2,
           56,
           36,
           56,
           26,
           56,
           12,
           12,
           56,
           9,
           56,
           2,
           56,
           6,
           56,
           17,
           56,
           36,
           56,
           2,
           56,
           4,
           56,
           17,
           72,
           2,
           2,
           72,
           49,
           72,
           17,
           72,
           20,
           20,
           72,
           2,
           72,
           49,
           72,
           2,
           72,
           61,
           72,
           17,
           72,
           76,
           72,
           2,
           2,
           72,
           6,
           6,
           72,
           26,
           26,
           72,
           76,
           76,
           72,
           2,
           2,
           72,
           36,
           36,
           72,
           12,
           12,
           72,
           17,
           17,
           72,
           9,
           9,
           72,
           12,
           12
          ],
          "target": [
           2,
           3,
           4,
           5,
           6,
           7,
           6,
           7,
           9,
           10,
           11,
           12,
           13,
           14,
           2,
           3,
           4,
           16,
           17,
           18,
           20,
           21,
           22,
           4,
           16,
           23,
           20,
           21,
           22,
           26,
           27,
           28,
           17,
           29,
           30,
           32,
           33,
           34,
           26,
           27,
           28,
           2,
           3,
           36,
           37,
           38,
           41,
           42,
           43,
           20,
           22,
           6,
           45,
           20,
           21,
           4,
           16,
           23,
           32,
           33,
           34,
           41,
           42,
           6,
           7,
           49,
           50,
           20,
           21,
           2,
           3,
           4,
           16,
           20,
           21,
           22,
           41,
           42,
           6,
           7,
           20,
           21,
           55,
           58,
           59,
           60,
           61,
           62,
           2,
           63,
           64,
           20,
           65,
           6,
           7,
           67,
           2,
           3,
           36,
           37,
           26,
           27,
           12,
           13,
           14,
           9,
           69,
           2,
           3,
           6,
           7,
           17,
           29,
           36,
           38,
           2,
           3,
           4,
           5,
           17,
           18,
           2,
           63,
           64,
           49,
           50,
           17,
           18,
           20,
           21,
           22,
           2,
           3,
           49,
           50,
           2,
           3,
           61,
           62,
           17,
           18,
           76,
           77,
           2,
           63,
           64,
           6,
           7,
           45,
           26,
           27,
           28,
           76,
           79,
           80,
           2,
           63,
           64,
           36,
           37,
           38,
           12,
           13,
           82,
           17,
           29,
           30,
           9,
           10,
           11,
           12,
           84,
           85
          ],
          "value": [
           20,
           20,
           20,
           20,
           20,
           20,
           20,
           20,
           20,
           20,
           20,
           20,
           20,
           20,
           20,
           20,
           20,
           20,
           20,
           20,
           20,
           20,
           20,
           20,
           20,
           20,
           20,
           20,
           20,
           20,
           20,
           20,
           20,
           20,
           20,
           20,
           20,
           20,
           20,
           20,
           20,
           20,
           20,
           20,
           20,
           20,
           20,
           20,
           20,
           20,
           20,
           20,
           20,
           20,
           20,
           20,
           20,
           20,
           20,
           20,
           20,
           20,
           20,
           20,
           20,
           20,
           20,
           20,
           20,
           20,
           20,
           20,
           20,
           20,
           20,
           20,
           20,
           20,
           20,
           20,
           20,
           20,
           20,
           20,
           20,
           20,
           15,
           15,
           25,
           25,
           25,
           10,
           10,
           20,
           20,
           20,
           20,
           20,
           10,
           10,
           20,
           20,
           15,
           15,
           15,
           15,
           15,
           25,
           25,
           15,
           15,
           10,
           10,
           15,
           15,
           20,
           20,
           15,
           15,
           20,
           20,
           30,
           30,
           30,
           20,
           20,
           15,
           15,
           25,
           25,
           25,
           30,
           30,
           20,
           20,
           30,
           30,
           20,
           20,
           15,
           15,
           20,
           20,
           25,
           25,
           25,
           20,
           20,
           20,
           15,
           15,
           15,
           20,
           20,
           20,
           25,
           25,
           25,
           20,
           20,
           20,
           15,
           15,
           15,
           20,
           20,
           20,
           20,
           20,
           20,
           15,
           15,
           15
          ]
         },
         "node": {
          "hoverinfo": "all",
          "label": [
           "Temenos",
           "A/B Testing for UI",
           "Machine Learning",
           "ML Techniques & Algorithms",
           "Analytics",
           "Product Analytics Strategy",
           "Programming/Tools",
           "Languages & Frameworks",
           "Advanced Testing Strategies Development",
           "Lead",
           "Team Leadership",
           "Strategic Management",
           "Team Management",
           "Efficient Project Handling",
           "Culture of Accountability",
           "Customer Segmentation and Pricing Strategy",
           "Product Analytics",
           "Business Strategy",
           "Data-Driven Business Insights",
           "Data Mining and Analysis",
           "Data Acquisition & Transformation",
           "Data Infrastructure & Management",
           "Data Warehousing & Reporting",
           "Statistical Analysis",
           "Database Analysis for Product Development",
           "Product Management Collaboration",
           "Collaboration and Cross Functional",
           "Cross-Functional Collaboration",
           "Teamwork for Innovation",
           "Translating Business Needs",
           "Analytics Strategy Contribution",
           "Stakeholder Collaboration",
           "Communication",
           "Effective Articulation",
           "Data Storytelling",
           "Statistical and Mathematical Methodologies",
           "Statistics",
           "Statistical Knowledge",
           "Statistical Specialized Techniques",
           "Bristol Myers Squibb",
           "Analytics Report Development",
           "Visualization",
           "Proficient in Tableau",
           "Matplotlib",
           "Automated Reporting System Development",
           "Web Technologies & Systems",
           "Client Engagement Analysis",
           "Dashboard Performance Enhancement",
           "ETL Infrastructure Engineering",
           "Cloud, Containerization, ML Ops",
           "Cloud Platforms",
           "Geographic Sales Data Analysis",
           "Logical Model Development",
           "Operational Reporting in Tableau",
           "Sales Data Processing Automation",
           "SQL Expertise",
           "ZS",
           "CNNs and LLMs for User Interaction Analysis at ZS",
           "Deep Learning",
           "DL Frameworks & Techniques",
           "DL Model Types",
           "GenAI and NLP",
           "GenAI",
           "ML Theory & Application",
           "ML Model Evaluation & Optimization",
           "Mining with NLP",
           "Data Analysis and Interpretation at ZS",
           "Advanced Data Handling",
           "Data-Driven Organizational Growth and Efficiency at ZS",
           "Stakeholder Influence",
           "Machine Learning Strategy Translation at ZS",
           "Multi-channel Optimization and Experimentation at ZS",
           "Aktana",
           "Contextual Intelligence Engine Development Aktana",
           "Machine Learning and Analytics Data Platform Integration Aktana",
           "Neural Network-Based Channel Propensity Models Development Aktana",
           "Product and Business",
           "Data-Driven Product Strategy",
           "No-Code Automated Machine Learning Platform Development Aktana",
           "Data Standards for Product Teams",
           "Data Evangelism in Product Development",
           "Statistical and Machine Learning Solutions Implementation and Maintenance Aktana",
           "Talent Development",
           "Technical Vision and Strategy Influencing for Engineering Teams Aktana",
           "Global Team Management",
           "Decision-Making and Negotiation"
          ],
          "line": {
           "color": "black",
           "width": 0.5
          },
          "pad": 15,
          "thickness": 20
         },
         "type": "sankey"
        }
       ],
       "layout": {
        "autosize": true,
        "font": {
         "family": "Arial, sans-serif",
         "size": 12
        },
        "height": 800,
        "template": {
         "data": {
          "bar": [
           {
            "error_x": {
             "color": "#2a3f5f"
            },
            "error_y": {
             "color": "#2a3f5f"
            },
            "marker": {
             "line": {
              "color": "#E5ECF6",
              "width": 0.5
             },
             "pattern": {
              "fillmode": "overlay",
              "size": 10,
              "solidity": 0.2
             }
            },
            "type": "bar"
           }
          ],
          "barpolar": [
           {
            "marker": {
             "line": {
              "color": "#E5ECF6",
              "width": 0.5
             },
             "pattern": {
              "fillmode": "overlay",
              "size": 10,
              "solidity": 0.2
             }
            },
            "type": "barpolar"
           }
          ],
          "carpet": [
           {
            "aaxis": {
             "endlinecolor": "#2a3f5f",
             "gridcolor": "white",
             "linecolor": "white",
             "minorgridcolor": "white",
             "startlinecolor": "#2a3f5f"
            },
            "baxis": {
             "endlinecolor": "#2a3f5f",
             "gridcolor": "white",
             "linecolor": "white",
             "minorgridcolor": "white",
             "startlinecolor": "#2a3f5f"
            },
            "type": "carpet"
           }
          ],
          "choropleth": [
           {
            "colorbar": {
             "outlinewidth": 0,
             "ticks": ""
            },
            "type": "choropleth"
           }
          ],
          "contour": [
           {
            "colorbar": {
             "outlinewidth": 0,
             "ticks": ""
            },
            "colorscale": [
             [
              0,
              "#0d0887"
             ],
             [
              0.1111111111111111,
              "#46039f"
             ],
             [
              0.2222222222222222,
              "#7201a8"
             ],
             [
              0.3333333333333333,
              "#9c179e"
             ],
             [
              0.4444444444444444,
              "#bd3786"
             ],
             [
              0.5555555555555556,
              "#d8576b"
             ],
             [
              0.6666666666666666,
              "#ed7953"
             ],
             [
              0.7777777777777778,
              "#fb9f3a"
             ],
             [
              0.8888888888888888,
              "#fdca26"
             ],
             [
              1,
              "#f0f921"
             ]
            ],
            "type": "contour"
           }
          ],
          "contourcarpet": [
           {
            "colorbar": {
             "outlinewidth": 0,
             "ticks": ""
            },
            "type": "contourcarpet"
           }
          ],
          "heatmap": [
           {
            "colorbar": {
             "outlinewidth": 0,
             "ticks": ""
            },
            "colorscale": [
             [
              0,
              "#0d0887"
             ],
             [
              0.1111111111111111,
              "#46039f"
             ],
             [
              0.2222222222222222,
              "#7201a8"
             ],
             [
              0.3333333333333333,
              "#9c179e"
             ],
             [
              0.4444444444444444,
              "#bd3786"
             ],
             [
              0.5555555555555556,
              "#d8576b"
             ],
             [
              0.6666666666666666,
              "#ed7953"
             ],
             [
              0.7777777777777778,
              "#fb9f3a"
             ],
             [
              0.8888888888888888,
              "#fdca26"
             ],
             [
              1,
              "#f0f921"
             ]
            ],
            "type": "heatmap"
           }
          ],
          "heatmapgl": [
           {
            "colorbar": {
             "outlinewidth": 0,
             "ticks": ""
            },
            "colorscale": [
             [
              0,
              "#0d0887"
             ],
             [
              0.1111111111111111,
              "#46039f"
             ],
             [
              0.2222222222222222,
              "#7201a8"
             ],
             [
              0.3333333333333333,
              "#9c179e"
             ],
             [
              0.4444444444444444,
              "#bd3786"
             ],
             [
              0.5555555555555556,
              "#d8576b"
             ],
             [
              0.6666666666666666,
              "#ed7953"
             ],
             [
              0.7777777777777778,
              "#fb9f3a"
             ],
             [
              0.8888888888888888,
              "#fdca26"
             ],
             [
              1,
              "#f0f921"
             ]
            ],
            "type": "heatmapgl"
           }
          ],
          "histogram": [
           {
            "marker": {
             "pattern": {
              "fillmode": "overlay",
              "size": 10,
              "solidity": 0.2
             }
            },
            "type": "histogram"
           }
          ],
          "histogram2d": [
           {
            "colorbar": {
             "outlinewidth": 0,
             "ticks": ""
            },
            "colorscale": [
             [
              0,
              "#0d0887"
             ],
             [
              0.1111111111111111,
              "#46039f"
             ],
             [
              0.2222222222222222,
              "#7201a8"
             ],
             [
              0.3333333333333333,
              "#9c179e"
             ],
             [
              0.4444444444444444,
              "#bd3786"
             ],
             [
              0.5555555555555556,
              "#d8576b"
             ],
             [
              0.6666666666666666,
              "#ed7953"
             ],
             [
              0.7777777777777778,
              "#fb9f3a"
             ],
             [
              0.8888888888888888,
              "#fdca26"
             ],
             [
              1,
              "#f0f921"
             ]
            ],
            "type": "histogram2d"
           }
          ],
          "histogram2dcontour": [
           {
            "colorbar": {
             "outlinewidth": 0,
             "ticks": ""
            },
            "colorscale": [
             [
              0,
              "#0d0887"
             ],
             [
              0.1111111111111111,
              "#46039f"
             ],
             [
              0.2222222222222222,
              "#7201a8"
             ],
             [
              0.3333333333333333,
              "#9c179e"
             ],
             [
              0.4444444444444444,
              "#bd3786"
             ],
             [
              0.5555555555555556,
              "#d8576b"
             ],
             [
              0.6666666666666666,
              "#ed7953"
             ],
             [
              0.7777777777777778,
              "#fb9f3a"
             ],
             [
              0.8888888888888888,
              "#fdca26"
             ],
             [
              1,
              "#f0f921"
             ]
            ],
            "type": "histogram2dcontour"
           }
          ],
          "mesh3d": [
           {
            "colorbar": {
             "outlinewidth": 0,
             "ticks": ""
            },
            "type": "mesh3d"
           }
          ],
          "parcoords": [
           {
            "line": {
             "colorbar": {
              "outlinewidth": 0,
              "ticks": ""
             }
            },
            "type": "parcoords"
           }
          ],
          "pie": [
           {
            "automargin": true,
            "type": "pie"
           }
          ],
          "scatter": [
           {
            "fillpattern": {
             "fillmode": "overlay",
             "size": 10,
             "solidity": 0.2
            },
            "type": "scatter"
           }
          ],
          "scatter3d": [
           {
            "line": {
             "colorbar": {
              "outlinewidth": 0,
              "ticks": ""
             }
            },
            "marker": {
             "colorbar": {
              "outlinewidth": 0,
              "ticks": ""
             }
            },
            "type": "scatter3d"
           }
          ],
          "scattercarpet": [
           {
            "marker": {
             "colorbar": {
              "outlinewidth": 0,
              "ticks": ""
             }
            },
            "type": "scattercarpet"
           }
          ],
          "scattergeo": [
           {
            "marker": {
             "colorbar": {
              "outlinewidth": 0,
              "ticks": ""
             }
            },
            "type": "scattergeo"
           }
          ],
          "scattergl": [
           {
            "marker": {
             "colorbar": {
              "outlinewidth": 0,
              "ticks": ""
             }
            },
            "type": "scattergl"
           }
          ],
          "scattermapbox": [
           {
            "marker": {
             "colorbar": {
              "outlinewidth": 0,
              "ticks": ""
             }
            },
            "type": "scattermapbox"
           }
          ],
          "scatterpolar": [
           {
            "marker": {
             "colorbar": {
              "outlinewidth": 0,
              "ticks": ""
             }
            },
            "type": "scatterpolar"
           }
          ],
          "scatterpolargl": [
           {
            "marker": {
             "colorbar": {
              "outlinewidth": 0,
              "ticks": ""
             }
            },
            "type": "scatterpolargl"
           }
          ],
          "scatterternary": [
           {
            "marker": {
             "colorbar": {
              "outlinewidth": 0,
              "ticks": ""
             }
            },
            "type": "scatterternary"
           }
          ],
          "surface": [
           {
            "colorbar": {
             "outlinewidth": 0,
             "ticks": ""
            },
            "colorscale": [
             [
              0,
              "#0d0887"
             ],
             [
              0.1111111111111111,
              "#46039f"
             ],
             [
              0.2222222222222222,
              "#7201a8"
             ],
             [
              0.3333333333333333,
              "#9c179e"
             ],
             [
              0.4444444444444444,
              "#bd3786"
             ],
             [
              0.5555555555555556,
              "#d8576b"
             ],
             [
              0.6666666666666666,
              "#ed7953"
             ],
             [
              0.7777777777777778,
              "#fb9f3a"
             ],
             [
              0.8888888888888888,
              "#fdca26"
             ],
             [
              1,
              "#f0f921"
             ]
            ],
            "type": "surface"
           }
          ],
          "table": [
           {
            "cells": {
             "fill": {
              "color": "#EBF0F8"
             },
             "line": {
              "color": "white"
             }
            },
            "header": {
             "fill": {
              "color": "#C8D4E3"
             },
             "line": {
              "color": "white"
             }
            },
            "type": "table"
           }
          ]
         },
         "layout": {
          "annotationdefaults": {
           "arrowcolor": "#2a3f5f",
           "arrowhead": 0,
           "arrowwidth": 1
          },
          "autotypenumbers": "strict",
          "coloraxis": {
           "colorbar": {
            "outlinewidth": 0,
            "ticks": ""
           }
          },
          "colorscale": {
           "diverging": [
            [
             0,
             "#8e0152"
            ],
            [
             0.1,
             "#c51b7d"
            ],
            [
             0.2,
             "#de77ae"
            ],
            [
             0.3,
             "#f1b6da"
            ],
            [
             0.4,
             "#fde0ef"
            ],
            [
             0.5,
             "#f7f7f7"
            ],
            [
             0.6,
             "#e6f5d0"
            ],
            [
             0.7,
             "#b8e186"
            ],
            [
             0.8,
             "#7fbc41"
            ],
            [
             0.9,
             "#4d9221"
            ],
            [
             1,
             "#276419"
            ]
           ],
           "sequential": [
            [
             0,
             "#0d0887"
            ],
            [
             0.1111111111111111,
             "#46039f"
            ],
            [
             0.2222222222222222,
             "#7201a8"
            ],
            [
             0.3333333333333333,
             "#9c179e"
            ],
            [
             0.4444444444444444,
             "#bd3786"
            ],
            [
             0.5555555555555556,
             "#d8576b"
            ],
            [
             0.6666666666666666,
             "#ed7953"
            ],
            [
             0.7777777777777778,
             "#fb9f3a"
            ],
            [
             0.8888888888888888,
             "#fdca26"
            ],
            [
             1,
             "#f0f921"
            ]
           ],
           "sequentialminus": [
            [
             0,
             "#0d0887"
            ],
            [
             0.1111111111111111,
             "#46039f"
            ],
            [
             0.2222222222222222,
             "#7201a8"
            ],
            [
             0.3333333333333333,
             "#9c179e"
            ],
            [
             0.4444444444444444,
             "#bd3786"
            ],
            [
             0.5555555555555556,
             "#d8576b"
            ],
            [
             0.6666666666666666,
             "#ed7953"
            ],
            [
             0.7777777777777778,
             "#fb9f3a"
            ],
            [
             0.8888888888888888,
             "#fdca26"
            ],
            [
             1,
             "#f0f921"
            ]
           ]
          },
          "colorway": [
           "#636efa",
           "#EF553B",
           "#00cc96",
           "#ab63fa",
           "#FFA15A",
           "#19d3f3",
           "#FF6692",
           "#B6E880",
           "#FF97FF",
           "#FECB52"
          ],
          "font": {
           "color": "#2a3f5f"
          },
          "geo": {
           "bgcolor": "white",
           "lakecolor": "white",
           "landcolor": "#E5ECF6",
           "showlakes": true,
           "showland": true,
           "subunitcolor": "white"
          },
          "hoverlabel": {
           "align": "left"
          },
          "hovermode": "closest",
          "mapbox": {
           "style": "light"
          },
          "paper_bgcolor": "white",
          "plot_bgcolor": "#E5ECF6",
          "polar": {
           "angularaxis": {
            "gridcolor": "white",
            "linecolor": "white",
            "ticks": ""
           },
           "bgcolor": "#E5ECF6",
           "radialaxis": {
            "gridcolor": "white",
            "linecolor": "white",
            "ticks": ""
           }
          },
          "scene": {
           "xaxis": {
            "backgroundcolor": "#E5ECF6",
            "gridcolor": "white",
            "gridwidth": 2,
            "linecolor": "white",
            "showbackground": true,
            "ticks": "",
            "zerolinecolor": "white"
           },
           "yaxis": {
            "backgroundcolor": "#E5ECF6",
            "gridcolor": "white",
            "gridwidth": 2,
            "linecolor": "white",
            "showbackground": true,
            "ticks": "",
            "zerolinecolor": "white"
           },
           "zaxis": {
            "backgroundcolor": "#E5ECF6",
            "gridcolor": "white",
            "gridwidth": 2,
            "linecolor": "white",
            "showbackground": true,
            "ticks": "",
            "zerolinecolor": "white"
           }
          },
          "shapedefaults": {
           "line": {
            "color": "#2a3f5f"
           }
          },
          "ternary": {
           "aaxis": {
            "gridcolor": "white",
            "linecolor": "white",
            "ticks": ""
           },
           "baxis": {
            "gridcolor": "white",
            "linecolor": "white",
            "ticks": ""
           },
           "bgcolor": "#E5ECF6",
           "caxis": {
            "gridcolor": "white",
            "linecolor": "white",
            "ticks": ""
           }
          },
          "title": {
           "x": 0.05
          },
          "xaxis": {
           "automargin": true,
           "gridcolor": "white",
           "linecolor": "white",
           "ticks": "",
           "title": {
            "standoff": 15
           },
           "zerolinecolor": "white",
           "zerolinewidth": 2
          },
          "yaxis": {
           "automargin": true,
           "gridcolor": "white",
           "linecolor": "white",
           "ticks": "",
           "title": {
            "standoff": 15
           },
           "zerolinecolor": "white",
           "zerolinewidth": 2
          }
         }
        },
        "title": {
         "text": "Experience Skills Mapping Sankey Diagram"
        },
        "width": 1400
       }
      }
     },
     "metadata": {},
     "output_type": "display_data"
    }
   ],
   "source": [
    "import plotly.graph_objects as go\n",
    "\n",
    "fig = go.Figure(data=[go.Sankey(\n",
    "    node=dict(\n",
    "        pad=15,\n",
    "        thickness=20,\n",
    "        line=dict(color='black', width=0.5),\n",
    "        label=labels,\n",
    "        hoverinfo='all',  # Shows all available info on hover\n",
    "        #hovertemplate='Node %{label}<extra></extra>',  # Custom hover template for nodes\n",
    "    ),\n",
    "    link=dict(\n",
    "        source=source,\n",
    "        target=target,\n",
    "        value=value,\n",
    "        color=[get_link_color(s) for s in source],  # Assign colors based on source company\n",
    "        hoverinfo='all',  # Shows all available info on hover\n",
    "        hovertemplate='Source: %{source.label}<br>Target: %{target.label}<br>Value: %{value}<extra></extra>',  # Custom hover template for links\n",
    "    ))])\n",
    "\n",
    "fig.update_layout(\n",
    "    title_text=\"Experience Skills Mapping Sankey Diagram\",\n",
    "    font_size=12,\n",
    "    font_family=\"Arial, sans-serif\",  # Customize the font family\n",
    "    width=1400,  # Width of the figure in pixels\n",
    "    height=800,  # Height of the figure in pixels\n",
    "    autosize=True,  # Make layout responsive\n",
    ")\n",
    "'''\n",
    "# Add annotations if needed\n",
    "fig.add_annotation(\n",
    "    text=\"Highlight Text\",\n",
    "    x=0.5,\n",
    "    y=0.5,\n",
    "    showarrow=False,\n",
    "    font=dict(\n",
    "        size=14,\n",
    "        color=\"black\"\n",
    "    ),\n",
    "    align=\"center\",\n",
    "    xanchor=\"center\",\n",
    "    yanchor=\"middle\",\n",
    "    xref=\"paper\",\n",
    "    yref=\"paper\"\n",
    ")\n",
    "'''\n",
    "fig.show()\n"
   ]
  },
  {
   "cell_type": "code",
   "execution_count": 67,
   "metadata": {},
   "outputs": [
    {
     "data": {
      "application/vnd.plotly.v1+json": {
       "config": {
        "plotlyServerURL": "https://plot.ly"
       },
       "data": [
        {
         "link": {
          "source": [
           0,
           2,
           0,
           4,
           0,
           2,
           0,
           2,
           0,
           9,
           9,
           0,
           12,
           12,
           0,
           3,
           0,
           5,
           0,
           17,
           0,
           3,
           3,
           0,
           6,
           6,
           0,
           3,
           3,
           0,
           18,
           18,
           0,
           19,
           19,
           0,
           10,
           10,
           0,
           19,
           19,
           0,
           4,
           0,
           10,
           10,
           39,
           4,
           4,
           39,
           3,
           39,
           2,
           39,
           3,
           39,
           7,
           7,
           39,
           12,
           12,
           39,
           4,
           39,
           2,
           39,
           5,
           39,
           3,
           39,
           6,
           39,
           8,
           39,
           3,
           3,
           39,
           4,
           39,
           2,
           39,
           3,
           3,
           56,
           8,
           8,
           56,
           9,
           56,
           6,
           6,
           56,
           3,
           56,
           2,
           2,
           56,
           6,
           56,
           14,
           56,
           24,
           56,
           19,
           19,
           56,
           16,
           56,
           6,
           56,
           2,
           56,
           25,
           56,
           14,
           56,
           6,
           56,
           10,
           56,
           25,
           72,
           6,
           6,
           72,
           5,
           72,
           25,
           72,
           3,
           3,
           72,
           6,
           72,
           5,
           72,
           6,
           72,
           9,
           72,
           25,
           72,
           76,
           72,
           6,
           6,
           72,
           2,
           2,
           72,
           24,
           24,
           72,
           76,
           76,
           72,
           6,
           6,
           72,
           14,
           14,
           72,
           19,
           19,
           72,
           25,
           25,
           72,
           16,
           16,
           72,
           19,
           19
          ],
          "target": [
           2,
           3,
           4,
           5,
           2,
           7,
           2,
           7,
           9,
           10,
           11,
           12,
           13,
           14,
           3,
           4,
           5,
           16,
           17,
           18,
           3,
           21,
           22,
           6,
           17,
           23,
           3,
           21,
           22,
           18,
           27,
           28,
           19,
           29,
           30,
           10,
           33,
           34,
           19,
           28,
           29,
           4,
           5,
           10,
           37,
           38,
           4,
           42,
           43,
           3,
           26,
           2,
           45,
           3,
           25,
           7,
           20,
           27,
           12,
           35,
           36,
           4,
           42,
           2,
           9,
           5,
           50,
           3,
           26,
           6,
           7,
           8,
           21,
           3,
           26,
           27,
           4,
           43,
           2,
           10,
           3,
           26,
           55,
           8,
           59,
           60,
           9,
           62,
           6,
           63,
           64,
           3,
           65,
           2,
           12,
           67,
           6,
           7,
           14,
           41,
           24,
           33,
           19,
           20,
           21,
           16,
           69,
           6,
           7,
           2,
           12,
           25,
           35,
           14,
           42,
           6,
           7,
           10,
           11,
           25,
           26,
           6,
           63,
           64,
           5,
           52,
           25,
           26,
           3,
           28,
           29,
           6,
           7,
           5,
           52,
           6,
           7,
           9,
           62,
           25,
           26,
           76,
           77,
           6,
           63,
           64,
           2,
           12,
           48,
           24,
           33,
           34,
           76,
           79,
           80,
           6,
           63,
           64,
           14,
           41,
           42,
           19,
           20,
           82,
           25,
           35,
           36,
           16,
           17,
           18,
           19,
           84,
           85
          ],
          "value": [
           20,
           20,
           20,
           20,
           20,
           20,
           20,
           20,
           20,
           20,
           20,
           20,
           20,
           20,
           20,
           20,
           20,
           20,
           20,
           20,
           20,
           20,
           20,
           20,
           20,
           20,
           20,
           20,
           20,
           20,
           20,
           20,
           20,
           20,
           20,
           20,
           20,
           20,
           20,
           20,
           20,
           20,
           20,
           20,
           20,
           20,
           20,
           20,
           20,
           20,
           20,
           20,
           20,
           20,
           20,
           20,
           20,
           20,
           20,
           20,
           20,
           20,
           20,
           20,
           20,
           20,
           20,
           20,
           20,
           20,
           20,
           20,
           20,
           20,
           20,
           20,
           20,
           20,
           20,
           20,
           20,
           20,
           20,
           20,
           20,
           20,
           15,
           15,
           25,
           25,
           25,
           10,
           10,
           20,
           20,
           20,
           20,
           20,
           10,
           10,
           20,
           20,
           15,
           15,
           15,
           15,
           15,
           25,
           25,
           15,
           15,
           10,
           10,
           15,
           15,
           20,
           20,
           15,
           15,
           20,
           20,
           30,
           30,
           30,
           20,
           20,
           15,
           15,
           25,
           25,
           25,
           30,
           30,
           20,
           20,
           30,
           30,
           20,
           20,
           15,
           15,
           20,
           20,
           25,
           25,
           25,
           20,
           20,
           20,
           15,
           15,
           15,
           20,
           20,
           20,
           25,
           25,
           25,
           20,
           20,
           20,
           15,
           15,
           15,
           20,
           20,
           20,
           20,
           20,
           20,
           15,
           15,
           15
          ]
         },
         "node": {
          "label": [
           "Temenos",
           "A/B Testing for UI",
           "Programming/Tools",
           "Data Acquisition & Transformation",
           "Visualization",
           "Cloud, Containerization, ML Ops",
           "Machine Learning",
           "ML Techniques & Algorithms",
           "Deep Learning",
           "GenAI and NLP",
           "Analytics",
           "Product Analytics Strategy",
           "Languages & Frameworks",
           "Advanced Testing Strategies Development",
           "Statistics",
           "Communication",
           "Lead",
           "Team Leadership",
           "Strategic Management",
           "Team Management",
           "Efficient Project Handling",
           "Culture of Accountability",
           "Customer Segmentation and Pricing Strategy",
           "Product Analytics",
           "Collaboration and Cross Functional",
           "Business Strategy",
           "Data-Driven Business Insights",
           "Data Mining and Analysis",
           "Data Infrastructure & Management",
           "Data Warehousing & Reporting",
           "Statistical Analysis",
           "Database Analysis for Product Development",
           "Product Management Collaboration",
           "Cross-Functional Collaboration",
           "Teamwork for Innovation",
           "Translating Business Needs",
           "Analytics Strategy Contribution",
           "Stakeholder Collaboration",
           "Effective Articulation",
           "Data Storytelling",
           "Statistical and Mathematical Methodologies",
           "Statistical Knowledge",
           "Statistical Specialized Techniques",
           "Bristol Myers Squibb",
           "Analytics Report Development",
           "Proficient in Tableau",
           "Matplotlib",
           "Automated Reporting System Development",
           "Web Technologies & Systems",
           "Client Engagement Analysis",
           "Dashboard Performance Enhancement",
           "ETL Infrastructure Engineering",
           "Cloud Platforms",
           "Geographic Sales Data Analysis",
           "Logical Model Development",
           "Operational Reporting in Tableau",
           "Sales Data Processing Automation",
           "SQL Expertise",
           "ZS",
           "CNNs and LLMs for User Interaction Analysis at ZS",
           "DL Frameworks & Techniques",
           "DL Model Types",
           "GenAI",
           "ML Theory & Application",
           "ML Model Evaluation & Optimization",
           "Mining with NLP",
           "Data Analysis and Interpretation at ZS",
           "Advanced Data Handling",
           "Data-Driven Organizational Growth and Efficiency at ZS",
           "Stakeholder Influence",
           "Machine Learning Strategy Translation at ZS",
           "Multi-channel Optimization and Experimentation at ZS",
           "Aktana",
           "Contextual Intelligence Engine Development Aktana",
           "Machine Learning and Analytics Data Platform Integration Aktana",
           "Neural Network-Based Channel Propensity Models Development Aktana",
           "Product and Business",
           "Data-Driven Product Strategy",
           "No-Code Automated Machine Learning Platform Development Aktana",
           "Data Standards for Product Teams",
           "Data Evangelism in Product Development",
           "Statistical and Machine Learning Solutions Implementation and Maintenance Aktana",
           "Talent Development",
           "Technical Vision and Strategy Influencing for Engineering Teams Aktana",
           "Global Team Management",
           "Decision-Making and Negotiation"
          ],
          "line": {
           "color": "black",
           "width": 0.5
          },
          "pad": 15,
          "thickness": 20
         },
         "type": "sankey"
        }
       ],
       "layout": {
        "font": {
         "size": 12
        },
        "height": 800,
        "template": {
         "data": {
          "bar": [
           {
            "error_x": {
             "color": "#2a3f5f"
            },
            "error_y": {
             "color": "#2a3f5f"
            },
            "marker": {
             "line": {
              "color": "#E5ECF6",
              "width": 0.5
             },
             "pattern": {
              "fillmode": "overlay",
              "size": 10,
              "solidity": 0.2
             }
            },
            "type": "bar"
           }
          ],
          "barpolar": [
           {
            "marker": {
             "line": {
              "color": "#E5ECF6",
              "width": 0.5
             },
             "pattern": {
              "fillmode": "overlay",
              "size": 10,
              "solidity": 0.2
             }
            },
            "type": "barpolar"
           }
          ],
          "carpet": [
           {
            "aaxis": {
             "endlinecolor": "#2a3f5f",
             "gridcolor": "white",
             "linecolor": "white",
             "minorgridcolor": "white",
             "startlinecolor": "#2a3f5f"
            },
            "baxis": {
             "endlinecolor": "#2a3f5f",
             "gridcolor": "white",
             "linecolor": "white",
             "minorgridcolor": "white",
             "startlinecolor": "#2a3f5f"
            },
            "type": "carpet"
           }
          ],
          "choropleth": [
           {
            "colorbar": {
             "outlinewidth": 0,
             "ticks": ""
            },
            "type": "choropleth"
           }
          ],
          "contour": [
           {
            "colorbar": {
             "outlinewidth": 0,
             "ticks": ""
            },
            "colorscale": [
             [
              0,
              "#0d0887"
             ],
             [
              0.1111111111111111,
              "#46039f"
             ],
             [
              0.2222222222222222,
              "#7201a8"
             ],
             [
              0.3333333333333333,
              "#9c179e"
             ],
             [
              0.4444444444444444,
              "#bd3786"
             ],
             [
              0.5555555555555556,
              "#d8576b"
             ],
             [
              0.6666666666666666,
              "#ed7953"
             ],
             [
              0.7777777777777778,
              "#fb9f3a"
             ],
             [
              0.8888888888888888,
              "#fdca26"
             ],
             [
              1,
              "#f0f921"
             ]
            ],
            "type": "contour"
           }
          ],
          "contourcarpet": [
           {
            "colorbar": {
             "outlinewidth": 0,
             "ticks": ""
            },
            "type": "contourcarpet"
           }
          ],
          "heatmap": [
           {
            "colorbar": {
             "outlinewidth": 0,
             "ticks": ""
            },
            "colorscale": [
             [
              0,
              "#0d0887"
             ],
             [
              0.1111111111111111,
              "#46039f"
             ],
             [
              0.2222222222222222,
              "#7201a8"
             ],
             [
              0.3333333333333333,
              "#9c179e"
             ],
             [
              0.4444444444444444,
              "#bd3786"
             ],
             [
              0.5555555555555556,
              "#d8576b"
             ],
             [
              0.6666666666666666,
              "#ed7953"
             ],
             [
              0.7777777777777778,
              "#fb9f3a"
             ],
             [
              0.8888888888888888,
              "#fdca26"
             ],
             [
              1,
              "#f0f921"
             ]
            ],
            "type": "heatmap"
           }
          ],
          "heatmapgl": [
           {
            "colorbar": {
             "outlinewidth": 0,
             "ticks": ""
            },
            "colorscale": [
             [
              0,
              "#0d0887"
             ],
             [
              0.1111111111111111,
              "#46039f"
             ],
             [
              0.2222222222222222,
              "#7201a8"
             ],
             [
              0.3333333333333333,
              "#9c179e"
             ],
             [
              0.4444444444444444,
              "#bd3786"
             ],
             [
              0.5555555555555556,
              "#d8576b"
             ],
             [
              0.6666666666666666,
              "#ed7953"
             ],
             [
              0.7777777777777778,
              "#fb9f3a"
             ],
             [
              0.8888888888888888,
              "#fdca26"
             ],
             [
              1,
              "#f0f921"
             ]
            ],
            "type": "heatmapgl"
           }
          ],
          "histogram": [
           {
            "marker": {
             "pattern": {
              "fillmode": "overlay",
              "size": 10,
              "solidity": 0.2
             }
            },
            "type": "histogram"
           }
          ],
          "histogram2d": [
           {
            "colorbar": {
             "outlinewidth": 0,
             "ticks": ""
            },
            "colorscale": [
             [
              0,
              "#0d0887"
             ],
             [
              0.1111111111111111,
              "#46039f"
             ],
             [
              0.2222222222222222,
              "#7201a8"
             ],
             [
              0.3333333333333333,
              "#9c179e"
             ],
             [
              0.4444444444444444,
              "#bd3786"
             ],
             [
              0.5555555555555556,
              "#d8576b"
             ],
             [
              0.6666666666666666,
              "#ed7953"
             ],
             [
              0.7777777777777778,
              "#fb9f3a"
             ],
             [
              0.8888888888888888,
              "#fdca26"
             ],
             [
              1,
              "#f0f921"
             ]
            ],
            "type": "histogram2d"
           }
          ],
          "histogram2dcontour": [
           {
            "colorbar": {
             "outlinewidth": 0,
             "ticks": ""
            },
            "colorscale": [
             [
              0,
              "#0d0887"
             ],
             [
              0.1111111111111111,
              "#46039f"
             ],
             [
              0.2222222222222222,
              "#7201a8"
             ],
             [
              0.3333333333333333,
              "#9c179e"
             ],
             [
              0.4444444444444444,
              "#bd3786"
             ],
             [
              0.5555555555555556,
              "#d8576b"
             ],
             [
              0.6666666666666666,
              "#ed7953"
             ],
             [
              0.7777777777777778,
              "#fb9f3a"
             ],
             [
              0.8888888888888888,
              "#fdca26"
             ],
             [
              1,
              "#f0f921"
             ]
            ],
            "type": "histogram2dcontour"
           }
          ],
          "mesh3d": [
           {
            "colorbar": {
             "outlinewidth": 0,
             "ticks": ""
            },
            "type": "mesh3d"
           }
          ],
          "parcoords": [
           {
            "line": {
             "colorbar": {
              "outlinewidth": 0,
              "ticks": ""
             }
            },
            "type": "parcoords"
           }
          ],
          "pie": [
           {
            "automargin": true,
            "type": "pie"
           }
          ],
          "scatter": [
           {
            "fillpattern": {
             "fillmode": "overlay",
             "size": 10,
             "solidity": 0.2
            },
            "type": "scatter"
           }
          ],
          "scatter3d": [
           {
            "line": {
             "colorbar": {
              "outlinewidth": 0,
              "ticks": ""
             }
            },
            "marker": {
             "colorbar": {
              "outlinewidth": 0,
              "ticks": ""
             }
            },
            "type": "scatter3d"
           }
          ],
          "scattercarpet": [
           {
            "marker": {
             "colorbar": {
              "outlinewidth": 0,
              "ticks": ""
             }
            },
            "type": "scattercarpet"
           }
          ],
          "scattergeo": [
           {
            "marker": {
             "colorbar": {
              "outlinewidth": 0,
              "ticks": ""
             }
            },
            "type": "scattergeo"
           }
          ],
          "scattergl": [
           {
            "marker": {
             "colorbar": {
              "outlinewidth": 0,
              "ticks": ""
             }
            },
            "type": "scattergl"
           }
          ],
          "scattermapbox": [
           {
            "marker": {
             "colorbar": {
              "outlinewidth": 0,
              "ticks": ""
             }
            },
            "type": "scattermapbox"
           }
          ],
          "scatterpolar": [
           {
            "marker": {
             "colorbar": {
              "outlinewidth": 0,
              "ticks": ""
             }
            },
            "type": "scatterpolar"
           }
          ],
          "scatterpolargl": [
           {
            "marker": {
             "colorbar": {
              "outlinewidth": 0,
              "ticks": ""
             }
            },
            "type": "scatterpolargl"
           }
          ],
          "scatterternary": [
           {
            "marker": {
             "colorbar": {
              "outlinewidth": 0,
              "ticks": ""
             }
            },
            "type": "scatterternary"
           }
          ],
          "surface": [
           {
            "colorbar": {
             "outlinewidth": 0,
             "ticks": ""
            },
            "colorscale": [
             [
              0,
              "#0d0887"
             ],
             [
              0.1111111111111111,
              "#46039f"
             ],
             [
              0.2222222222222222,
              "#7201a8"
             ],
             [
              0.3333333333333333,
              "#9c179e"
             ],
             [
              0.4444444444444444,
              "#bd3786"
             ],
             [
              0.5555555555555556,
              "#d8576b"
             ],
             [
              0.6666666666666666,
              "#ed7953"
             ],
             [
              0.7777777777777778,
              "#fb9f3a"
             ],
             [
              0.8888888888888888,
              "#fdca26"
             ],
             [
              1,
              "#f0f921"
             ]
            ],
            "type": "surface"
           }
          ],
          "table": [
           {
            "cells": {
             "fill": {
              "color": "#EBF0F8"
             },
             "line": {
              "color": "white"
             }
            },
            "header": {
             "fill": {
              "color": "#C8D4E3"
             },
             "line": {
              "color": "white"
             }
            },
            "type": "table"
           }
          ]
         },
         "layout": {
          "annotationdefaults": {
           "arrowcolor": "#2a3f5f",
           "arrowhead": 0,
           "arrowwidth": 1
          },
          "autotypenumbers": "strict",
          "coloraxis": {
           "colorbar": {
            "outlinewidth": 0,
            "ticks": ""
           }
          },
          "colorscale": {
           "diverging": [
            [
             0,
             "#8e0152"
            ],
            [
             0.1,
             "#c51b7d"
            ],
            [
             0.2,
             "#de77ae"
            ],
            [
             0.3,
             "#f1b6da"
            ],
            [
             0.4,
             "#fde0ef"
            ],
            [
             0.5,
             "#f7f7f7"
            ],
            [
             0.6,
             "#e6f5d0"
            ],
            [
             0.7,
             "#b8e186"
            ],
            [
             0.8,
             "#7fbc41"
            ],
            [
             0.9,
             "#4d9221"
            ],
            [
             1,
             "#276419"
            ]
           ],
           "sequential": [
            [
             0,
             "#0d0887"
            ],
            [
             0.1111111111111111,
             "#46039f"
            ],
            [
             0.2222222222222222,
             "#7201a8"
            ],
            [
             0.3333333333333333,
             "#9c179e"
            ],
            [
             0.4444444444444444,
             "#bd3786"
            ],
            [
             0.5555555555555556,
             "#d8576b"
            ],
            [
             0.6666666666666666,
             "#ed7953"
            ],
            [
             0.7777777777777778,
             "#fb9f3a"
            ],
            [
             0.8888888888888888,
             "#fdca26"
            ],
            [
             1,
             "#f0f921"
            ]
           ],
           "sequentialminus": [
            [
             0,
             "#0d0887"
            ],
            [
             0.1111111111111111,
             "#46039f"
            ],
            [
             0.2222222222222222,
             "#7201a8"
            ],
            [
             0.3333333333333333,
             "#9c179e"
            ],
            [
             0.4444444444444444,
             "#bd3786"
            ],
            [
             0.5555555555555556,
             "#d8576b"
            ],
            [
             0.6666666666666666,
             "#ed7953"
            ],
            [
             0.7777777777777778,
             "#fb9f3a"
            ],
            [
             0.8888888888888888,
             "#fdca26"
            ],
            [
             1,
             "#f0f921"
            ]
           ]
          },
          "colorway": [
           "#636efa",
           "#EF553B",
           "#00cc96",
           "#ab63fa",
           "#FFA15A",
           "#19d3f3",
           "#FF6692",
           "#B6E880",
           "#FF97FF",
           "#FECB52"
          ],
          "font": {
           "color": "#2a3f5f"
          },
          "geo": {
           "bgcolor": "white",
           "lakecolor": "white",
           "landcolor": "#E5ECF6",
           "showlakes": true,
           "showland": true,
           "subunitcolor": "white"
          },
          "hoverlabel": {
           "align": "left"
          },
          "hovermode": "closest",
          "mapbox": {
           "style": "light"
          },
          "paper_bgcolor": "white",
          "plot_bgcolor": "#E5ECF6",
          "polar": {
           "angularaxis": {
            "gridcolor": "white",
            "linecolor": "white",
            "ticks": ""
           },
           "bgcolor": "#E5ECF6",
           "radialaxis": {
            "gridcolor": "white",
            "linecolor": "white",
            "ticks": ""
           }
          },
          "scene": {
           "xaxis": {
            "backgroundcolor": "#E5ECF6",
            "gridcolor": "white",
            "gridwidth": 2,
            "linecolor": "white",
            "showbackground": true,
            "ticks": "",
            "zerolinecolor": "white"
           },
           "yaxis": {
            "backgroundcolor": "#E5ECF6",
            "gridcolor": "white",
            "gridwidth": 2,
            "linecolor": "white",
            "showbackground": true,
            "ticks": "",
            "zerolinecolor": "white"
           },
           "zaxis": {
            "backgroundcolor": "#E5ECF6",
            "gridcolor": "white",
            "gridwidth": 2,
            "linecolor": "white",
            "showbackground": true,
            "ticks": "",
            "zerolinecolor": "white"
           }
          },
          "shapedefaults": {
           "line": {
            "color": "#2a3f5f"
           }
          },
          "ternary": {
           "aaxis": {
            "gridcolor": "white",
            "linecolor": "white",
            "ticks": ""
           },
           "baxis": {
            "gridcolor": "white",
            "linecolor": "white",
            "ticks": ""
           },
           "bgcolor": "#E5ECF6",
           "caxis": {
            "gridcolor": "white",
            "linecolor": "white",
            "ticks": ""
           }
          },
          "title": {
           "x": 0.05
          },
          "xaxis": {
           "automargin": true,
           "gridcolor": "white",
           "linecolor": "white",
           "ticks": "",
           "title": {
            "standoff": 15
           },
           "zerolinecolor": "white",
           "zerolinewidth": 2
          },
          "yaxis": {
           "automargin": true,
           "gridcolor": "white",
           "linecolor": "white",
           "ticks": "",
           "title": {
            "standoff": 15
           },
           "zerolinecolor": "white",
           "zerolinewidth": 2
          }
         }
        },
        "title": {
         "text": "Experience Skills Mapping Sankey Diagram"
        },
        "width": 1400
       }
      }
     },
     "metadata": {},
     "output_type": "display_data"
    }
   ],
   "source": [
    "import plotly.graph_objects as go\n",
    "\n",
    "# Initialize lists for Sankey diagram\n",
    "labels = []\n",
    "source = []\n",
    "target = []\n",
    "value = []\n",
    "\n",
    "# Define the order of the categories\n",
    "category_order = [\n",
    "    \"Programming/Tools\", \"Data Acquisition & Transformation\", \"Visualization\",\n",
    "    \"Cloud, Containerization, ML Ops\", \"Machine Learning\", \"Deep Learning\",\n",
    "    \"GenAI and NLP\", \"Analytics\", \"Statistics\", \"Communication\", \"Lead\",\n",
    "    \"Team Management\", \"Collaboration and Cross Functional\", \"Business Strategy\",\n",
    "    \"Product and Business\", \"General\"\n",
    "]\n",
    "\n",
    "# Flag to include the second level (experiences)\n",
    "include_second_level = False  # Set this to False if you want to exclude the second level\n",
    "\n",
    "# Function to add label and return its index, now with ordering\n",
    "def add_label(label, order=None):\n",
    "    if label not in labels:\n",
    "        if order and label in order:\n",
    "            # Find the correct position to insert the label based on the order\n",
    "            position = next((index for index, value in enumerate(labels) if value in order and order.index(value) > order.index(label)), len(labels))\n",
    "            labels.insert(position, label)\n",
    "        else:\n",
    "            labels.append(label)\n",
    "    return labels.index(label)\n",
    "\n",
    "# Function to process each subcategory\n",
    "def process_subcategory(category_index, subcategories, weight):\n",
    "    for sub_category in subcategories:\n",
    "        sub_category_index = add_label(sub_category)\n",
    "        source.append(category_index)\n",
    "        target.append(sub_category_index)\n",
    "        value.append(weight)  # Weight for category to sub-category connection\n",
    "\n",
    "# Function to process each category\n",
    "def process_category(experience_index, categories):\n",
    "    for category, details in categories.items():\n",
    "        category_index = add_label(category, order=category_order)\n",
    "        source.append(experience_index)\n",
    "        target.append(category_index)\n",
    "        value.append(details[\"Weight\"])  # Weight for experience to category connection\n",
    "        process_subcategory(category_index, details[\"Subcategories\"], details[\"Weight\"])\n",
    "\n",
    "# Populate labels, source, target, and value lists\n",
    "for company, experiences in experience_skills_mapping.items():\n",
    "    company_index = add_label(company)\n",
    "    for experience, categories in experiences.items():\n",
    "        experience_index = add_label(experience)\n",
    "        if include_second_level:\n",
    "            source.append(company_index)\n",
    "            target.append(experience_index)\n",
    "            experience_weight = sum(details[\"Weight\"] for details in categories.values())\n",
    "            value.append(experience_weight)  # Sum of weights for the experience\n",
    "        else:\n",
    "            # If not including the second level, connect company directly to categories\n",
    "            process_category(company_index, categories)\n",
    "            continue  # Skip the rest of the loop\n",
    "        # Process each category within the experience\n",
    "        process_category(experience_index, categories)\n",
    "\n",
    "# Create the Sankey diagram\n",
    "fig = go.Figure(data=[go.Sankey(\n",
    "    node=dict(\n",
    "        pad=15,\n",
    "        thickness=20,\n",
    "        line=dict(color=\"black\", width=0.5),\n",
    "        label=labels,\n",
    "    ),\n",
    "    link=dict(\n",
    "        source=source,\n",
    "        target=target,\n",
    "        value=value,\n",
    "    ))])\n",
    "\n",
    "# Update the layout with a larger figure size\n",
    "fig.update_layout(\n",
    "    title_text=\"Experience Skills Mapping Sankey Diagram\",\n",
    "    font_size=12,\n",
    "    width=1400,  # Width of the figure in pixels\n",
    "    height=800   # Height of the figure in pixels\n",
    ")\n",
    "\n",
    "fig.show()\n"
   ]
  },
  {
   "cell_type": "code",
   "execution_count": null,
   "metadata": {},
   "outputs": [],
   "source": []
  }
 ],
 "metadata": {
  "kernelspec": {
   "display_name": "sandbox",
   "language": "python",
   "name": "python3"
  },
  "language_info": {
   "codemirror_mode": {
    "name": "ipython",
    "version": 3
   },
   "file_extension": ".py",
   "mimetype": "text/x-python",
   "name": "python",
   "nbconvert_exporter": "python",
   "pygments_lexer": "ipython3",
   "version": "3.9.17"
  },
  "orig_nbformat": 4,
  "vscode": {
   "interpreter": {
    "hash": "75cbfe992e831883bebc34d351837a73fc44aae74ab7e2dffad989642b16aeb2"
   }
  }
 },
 "nbformat": 4,
 "nbformat_minor": 2
}
