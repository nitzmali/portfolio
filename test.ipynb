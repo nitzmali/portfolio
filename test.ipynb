{
 "cells": [
  {
   "cell_type": "code",
   "execution_count": 4,
   "metadata": {},
   "outputs": [],
   "source": [
    "from PIL import Image\n",
    "\n",
    "def resize_image(input_path, output_path, size):\n",
    "    with Image.open(input_path) as img:\n",
    "        # Resize the image\n",
    "        img = img.resize(size)\n",
    "        \n",
    "        # Save the resized image as a JPEG file\n",
    "        img.save(output_path, \"JPEG\")\n",
    "\n",
    "input_image_path = '/Users/nyzy/nitzmali/portfolio/assets/images/profile_picture.jpg'\n",
    "output_image_path = '/Users/nyzy/nitzmali/portfolio/assets/images/profile_picture_v2.jpg'\n",
    "new_size = (480, 368)  # Example size: 800x600 pixels\n",
    "\n",
    "resize_image(input_image_path, output_image_path, new_size)\n"
   ]
  },
  {
   "cell_type": "code",
   "execution_count": 6,
   "metadata": {},
   "outputs": [
    {
     "name": "stdout",
     "output_type": "stream",
     "text": [
      "All images have been resized and saved to /Users/nyzy/nitzmali/portfolio/assets/images_resized\n"
     ]
    }
   ],
   "source": [
    "from PIL import Image\n",
    "import os\n",
    "\n",
    "# Directory where your current images are located\n",
    "source_directory = '/Users/nyzy/nitzmali/portfolio/assets/images'\n",
    "\n",
    "# Directory where the resized images will be saved\n",
    "output_directory = '/Users/nyzy/nitzmali/portfolio/assets/images_resized'\n",
    "\n",
    "# Desired size\n",
    "new_width = 892\n",
    "new_height = 1616\n",
    "\n",
    "def resize_image(input_image_path, output_image_path, size):\n",
    "    with Image.open(input_image_path) as image:\n",
    "        # Resize the image while maintaining the aspect ratio\n",
    "        image.thumbnail(size)\n",
    "        \n",
    "        # Save the resized image\n",
    "        image.save(output_image_path)\n",
    "\n",
    "# Ensure the output directory exists\n",
    "if not os.path.exists(output_directory):\n",
    "    os.makedirs(output_directory)\n",
    "\n",
    "# Loop through all files in the source directory\n",
    "for filename in os.listdir(source_directory):\n",
    "    if filename.endswith(('.png', '.jpg', '.jpeg', '.gif')):\n",
    "        # Construct the full file paths\n",
    "        input_image_path = os.path.join(source_directory, filename)\n",
    "        output_image_path = os.path.join(output_directory, filename)\n",
    "        \n",
    "        # Resize the image and save it to the output directory\n",
    "        resize_image(input_image_path, output_image_path, (new_width, new_height))\n",
    "\n",
    "print(f\"All images have been resized and saved to {output_directory}\")\n"
   ]
  },
  {
   "cell_type": "code",
   "execution_count": null,
   "metadata": {},
   "outputs": [],
   "source": []
  }
 ],
 "metadata": {
  "kernelspec": {
   "display_name": "sandbox",
   "language": "python",
   "name": "python3"
  },
  "language_info": {
   "codemirror_mode": {
    "name": "ipython",
    "version": 3
   },
   "file_extension": ".py",
   "mimetype": "text/x-python",
   "name": "python",
   "nbconvert_exporter": "python",
   "pygments_lexer": "ipython3",
   "version": "3.9.17"
  },
  "orig_nbformat": 4,
  "vscode": {
   "interpreter": {
    "hash": "75cbfe992e831883bebc34d351837a73fc44aae74ab7e2dffad989642b16aeb2"
   }
  }
 },
 "nbformat": 4,
 "nbformat_minor": 2
}
