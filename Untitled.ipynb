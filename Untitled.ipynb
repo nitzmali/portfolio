{
 "cells": [
  {
   "cell_type": "code",
   "execution_count": 1,
   "id": "a2f47c98-b01f-4736-8d04-ea6b921e273c",
   "metadata": {
    "tags": []
   },
   "outputs": [],
   "source": [
    "import pandas as pd \n",
    "\n",
    "\n"
   ]
  },
  {
   "cell_type": "code",
<<<<<<< HEAD
   "execution_count": 3,
=======
   "execution_count": 1,
>>>>>>> fc21d5b (dssd)
   "id": "9c1b4dc7-e496-4fbe-b246-3eb4b1d1fe67",
   "metadata": {
    "tags": []
   },
   "outputs": [],
   "source": [
    "from PIL import Image\n",
    "\n",
    "def resize_image(input_path, output_path, size):\n",
    "    with Image.open(input_path) as img:\n",
    "        # Resize the image\n",
    "        img = img.resize(size)\n",
    "        \n",
    "        # Save the resized image as a JPEG file\n",
    "        img.save(output_path, \"JPEG\")\n",
    "\n",
    "input_image_path = '/Users/nyzy/nitzmali/portfolio/assets/images/profile_picture.jpg'\n",
    "output_image_path = '/Users/nyzy/nitzmali/portfolio/assets/images/profile_picture_v2.jpg'\n",
<<<<<<< HEAD
    "new_size = (242, 185)  # Example size: 800x600 pixels\n",
=======
    "new_size = (400, 400)  # Example size: 800x600 pixels\n",
>>>>>>> fc21d5b (dssd)
    "\n",
    "resize_image(input_image_path, output_image_path, new_size)"
   ]
  },
  {
   "cell_type": "code",
   "execution_count": 3,
   "id": "220f5961-0f6b-42bc-b167-c3a55ede36c1",
   "metadata": {
    "tags": []
   },
   "outputs": [
    {
     "name": "stdout",
     "output_type": "stream",
     "text": [
      "5\n"
     ]
    }
   ],
   "source": [
    "print(x)"
   ]
  },
  {
   "cell_type": "code",
   "execution_count": 4,
   "id": "017c00df-4489-4f53-83e8-90773578f91b",
   "metadata": {
    "tags": []
   },
   "outputs": [],
   "source": [
    "import numpy as np\n"
   ]
  },
  {
   "cell_type": "code",
   "execution_count": 1,
   "id": "96dcc481-9791-40ca-bc83-2adb4a749ab3",
   "metadata": {},
   "outputs": [],
   "source": [
    "import numpy as np \n"
   ]
  },
  {
   "cell_type": "code",
   "execution_count": null,
   "id": "2353c8cf",
   "metadata": {},
   "outputs": [],
   "source": [
    "np.linalg"
   ]
  }
 ],
 "metadata": {
  "kernelspec": {
   "display_name": "sandbox",
   "language": "python",
   "name": "python3"
  },
  "language_info": {
   "codemirror_mode": {
    "name": "ipython",
    "version": 3
   },
   "file_extension": ".py",
   "mimetype": "text/x-python",
   "name": "python",
   "nbconvert_exporter": "python",
   "pygments_lexer": "ipython3",
   "version": "3.9.17"
  },
  "vscode": {
   "interpreter": {
    "hash": "75cbfe992e831883bebc34d351837a73fc44aae74ab7e2dffad989642b16aeb2"
   }
  }
 },
 "nbformat": 4,
 "nbformat_minor": 5
}
